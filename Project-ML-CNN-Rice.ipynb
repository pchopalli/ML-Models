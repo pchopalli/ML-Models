{
 "cells": [
  {
   "cell_type": "markdown",
   "id": "36b99670",
   "metadata": {},
   "source": [
    "## Introduction\n",
    "Rice, which is among the most widely produced grain products worldwide, has many genetic varieties. These varieties are separated from each other due to some of their features. These are usually features such as texture, shape, and color. With these features that distinguish rice varieties, it is possible to classify and evaluate the quality of seeds. In this study, Arborio, Basmati, Ipsala, Jasmine and Karacadag, which are five different varieties of rice often grown in Turkey, were used."
   ]
  },
  {
   "cell_type": "markdown",
   "id": "f2eb9549",
   "metadata": {},
   "source": [
    "### Problem ###\n",
    "+ Prediction of the variety of the rice\n"
   ]
  },
  {
   "cell_type": "markdown",
   "id": "42cab105",
   "metadata": {},
   "source": [
    "<h3> Data Source </h3>\n",
    "\n",
    " A total of 75,000 grain images, 15,000 from each of these varieties, are included in the dataset.\n",
    "<br>\n",
    "<a href=https://www.kaggle.com/datasets/muratkokludataset/rice-image-dataset>Original Data Source from Kaggle</a>"
   ]
  },
  {
   "cell_type": "markdown",
   "id": "93d1fcf4",
   "metadata": {},
   "source": [
    "## Requirements\n",
    "\n",
    "The following modules are required to run this program:\n",
    "\n",
    "+ Numpy\n",
    "+ Tensorflow\n",
    "+ Keras API\n",
    "+ Zipfile\n",
    "+ OS "
   ]
  },
  {
   "cell_type": "code",
   "execution_count": 1,
   "id": "28e473a4",
   "metadata": {},
   "outputs": [],
   "source": [
    "import tensorflow as tf\n",
    "from tensorflow import keras\n",
    "import zipfile\n",
    "import os\n",
    "import numpy as np\n",
    "from keras.preprocessing import image\n",
    "import matplotlib.pyplot as plt"
   ]
  },
  {
   "cell_type": "code",
   "execution_count": 3,
   "id": "ea04e4e0",
   "metadata": {},
   "outputs": [],
   "source": [
    "zip_path='datasets/archive.zip'\n",
    "zip1=zipfile.ZipFile(zip_path)\n",
    "zip1.extractall('datasets/Rice_Image_Dataset')\n",
    "zip1.close()"
   ]
  },
  {
   "cell_type": "code",
   "execution_count": 2,
   "id": "d4072c72",
   "metadata": {},
   "outputs": [
    {
     "data": {
      "text/plain": [
       "15000"
      ]
     },
     "execution_count": 2,
     "metadata": {},
     "output_type": "execute_result"
    }
   ],
   "source": [
    "base_path='datasets/Rice_Image_Dataset/Rice_Image_Dataset'\n",
    "arb_path=os.path.join(base_path,'Arborio')\n",
    "bas_path=os.path.join(base_path,'Basmati')\n",
    "ips_path=os.path.join(base_path,'Ipsala')\n",
    "jas_path=os.path.join(base_path,'Jasmine')\n",
    "kar_path=os.path.join(base_path,'Karacadag')\n",
    "len(os.listdir(kar_path))"
   ]
  },
  {
   "cell_type": "code",
   "execution_count": 3,
   "id": "7865db42",
   "metadata": {},
   "outputs": [
    {
     "data": {
      "text/plain": [
       "(250, 250, 3)"
      ]
     },
     "execution_count": 3,
     "metadata": {},
     "output_type": "execute_result"
    }
   ],
   "source": [
    "xlist=os.listdir(kar_path)\n",
    "xpath=os.path.join(kar_path,xlist[0])\n",
    "timg=image.load_img(xpath)\n",
    "img=image.img_to_array(timg)\n",
    "img.shape"
   ]
  },
  {
   "cell_type": "code",
   "execution_count": 4,
   "id": "963c464e",
   "metadata": {},
   "outputs": [],
   "source": [
    "model=tf.keras.models.Sequential([ \n",
    "       tf.keras.layers.Conv2D(32,(3,3),activation='relu',input_shape=(250,250,3)),\n",
    "       tf.keras.layers.MaxPooling2D(2,2),\n",
    "       tf.keras.layers.Flatten(),\n",
    "       tf.keras.layers.Dense(512,activation='relu'),\n",
    "       tf.keras.layers.Dense(5,activation='softmax')\n",
    "    \n",
    "])"
   ]
  },
  {
   "cell_type": "code",
   "execution_count": 5,
   "id": "a9ac8cf7",
   "metadata": {},
   "outputs": [
    {
     "name": "stdout",
     "output_type": "stream",
     "text": [
      "Found 60000 images belonging to 5 classes.\n",
      "Found 15000 images belonging to 5 classes.\n"
     ]
    }
   ],
   "source": [
    "# Image labeling using ImageDataGeneator\n",
    "from keras.preprocessing.image import ImageDataGenerator\n",
    "train_datagen=ImageDataGenerator(rescale=1./255.,validation_split=0.2\n",
    "                                  )\n",
    "train_generator=train_datagen.flow_from_directory(\n",
    "    base_path,\n",
    "    subset='training',\n",
    "    target_size=(250,250),\n",
    "    class_mode='categorical'\n",
    ")\n",
    "val_generator=train_datagen.flow_from_directory(\n",
    "    base_path,\n",
    "    subset='validation' ,\n",
    "    target_size=(250,250),\n",
    "    class_mode='categorical'\n",
    ")"
   ]
  },
  {
   "cell_type": "code",
   "execution_count": 6,
   "id": "8b076354",
   "metadata": {},
   "outputs": [],
   "source": [
    "# Callback function\n",
    "class myCallback(tf.keras.callbacks.Callback):\n",
    "    def on_epoch_end(self,epoch,logs={}):\n",
    "        if logs.get('accuracy') is not None and logs.get('accuracy') > 0.99:\n",
    "            print('Desired accuracy reached')\n",
    "            self.model.stop_training=True"
   ]
  },
  {
   "cell_type": "code",
   "execution_count": 7,
   "id": "9bfe1947",
   "metadata": {},
   "outputs": [
    {
     "name": "stdout",
     "output_type": "stream",
     "text": [
      "Epoch 1/5\n",
      "1875/1875 [==============================] - 5157s 3s/step - loss: 0.1506 - accuracy: 0.9681 - val_loss: 0.0782 - val_accuracy: 0.9727\n",
      "Epoch 2/5\n",
      "1875/1875 [==============================] - 5100s 3s/step - loss: 0.0384 - accuracy: 0.9871 - val_loss: 0.0651 - val_accuracy: 0.9801\n",
      "Epoch 3/5\n",
      "1875/1875 [==============================] - 5104s 3s/step - loss: 0.0257 - accuracy: 0.9912 - val_loss: 0.0969 - val_accuracy: 0.9694\n",
      "Desired accuracy reached\n"
     ]
    }
   ],
   "source": [
    "# Compile and fit the model\n",
    "callback=myCallback()\n",
    "model.compile(loss='categorical_crossentropy',optimizer='adam',metrics=['accuracy'])\n",
    "history=model.fit(train_generator,validation_data=val_generator,epochs=5,callbacks=[callback])"
   ]
  },
  {
   "cell_type": "code",
   "execution_count": 8,
   "id": "f7e52ddc",
   "metadata": {},
   "outputs": [
    {
     "data": {
      "image/png": "[encoded data removed]",
      "text/plain": [
       "<Figure size 432x288 with 1 Axes>"
      ]
     },
     "metadata": {
      "needs_background": "light"
     },
     "output_type": "display_data"
    },
    {
     "data": {
      "image/png": "[encoded data removed]",
      "text/plain": [
       "<Figure size 432x288 with 1 Axes>"
      ]
     },
     "metadata": {
      "needs_background": "light"
     },
     "output_type": "display_data"
    }
   ],
   "source": [
    "# Plot the accuracy and loss of the model\n",
    "acc= history.history['accuracy']\n",
    "val_acc=history.history['val_accuracy']\n",
    "loss=history.history['loss']\n",
    "val_loss=history.history['val_loss']\n",
    "epochs=range(len(acc))\n",
    "plt.figure()\n",
    "plt.xlabel('Epochs')\n",
    "plt.ylabel('Accuracy')\n",
    "plt.plot(epochs,acc,'r')\n",
    "plt.plot(epochs,val_acc,'b')\n",
    "label=['Training','Validation']\n",
    "plt.figure()\n",
    "plt.xlabel('Epochs')\n",
    "plt.ylabel('Loss')\n",
    "plt.plot(epochs,loss,'r')\n",
    "plt.plot(epochs,val_loss,'b')\n",
    "plt.legend(label)\n",
    "plt.show()"
   ]
  },
  {
   "cell_type": "code",
   "execution_count": 9,
   "id": "8ec95f53",
   "metadata": {},
   "outputs": [
    {
     "data": {
      "text/plain": [
       "{'Arborio': 0, 'Basmati': 1, 'Ipsala': 2, 'Jasmine': 3, 'Karacadag': 4}"
      ]
     },
     "execution_count": 9,
     "metadata": {},
     "output_type": "execute_result"
    }
   ],
   "source": [
    "# Print the indices assigned to Classes\n",
    "label_map = train_generator.class_indices\n",
    "label_map"
   ]
  },
  {
   "cell_type": "code",
   "execution_count": 10,
   "id": "a20f2f58",
   "metadata": {},
   "outputs": [
    {
     "name": "stdout",
     "output_type": "stream",
     "text": [
      "This is Basmati\n"
     ]
    }
   ],
   "source": [
    "# Test with a out of set saved image\n",
    "path='datasets/rice.jpg'\n",
    "def test_model(path):\n",
    "    img=image.load_img(path,target_size=(250,250))\n",
    "    x=image.img_to_array(img)\n",
    "    x = np.expand_dims(x, axis=0)\n",
    "#     images = np.vstack([x])\n",
    "    ypred=model.predict(x)\n",
    "    y_classes=list(np.argmax(ypred,axis=1))\n",
    "    if y_classes[0]==0:\n",
    "        print(\"This is Arborio \")\n",
    "    elif y_classes[0]==1:\n",
    "        print(\"This is Basmati\")\n",
    "    elif y_classes[0]==2:\n",
    "         print(\"This is Ipsala \")\n",
    "    elif y_classes[0]==3:\n",
    "         print(\"This is Jasmine\")\n",
    "    elif y_classes[0]==4:\n",
    "         print(\"This is Karacadag\")\n",
    "        \n",
    "test_model(path)"
   ]
  },
  {
   "cell_type": "code",
   "execution_count": 11,
   "id": "da391ed3",
   "metadata": {},
   "outputs": [],
   "source": [
    "import pickle\n",
    "with open('history.pkl', 'wb') as f:\n",
    "    pickle.dump(history.history, f)"
   ]
  },
  {
   "cell_type": "markdown",
   "id": "1ed2579e",
   "metadata": {},
   "source": [
    "## Conclusion\n",
    "\n",
    "A accuracy of ~99% was achieved with CNN model"
   ]
  },
  {
   "cell_type": "code",
   "execution_count": null,
   "id": "138de960",
   "metadata": {},
   "outputs": [],
   "source": []
  }
 ],
 "metadata": {
  "kernelspec": {
   "display_name": "Python 3 (ipykernel)",
   "language": "python",
   "name": "python3"
  },
  "language_info": {
   "codemirror_mode": {
    "name": "ipython",
    "version": 3
   },
   "file_extension": ".py",
   "mimetype": "text/x-python",
   "name": "python",
   "nbconvert_exporter": "python",
   "pygments_lexer": "ipython3",
   "version": "3.8.8"
  }
 },
 "nbformat": 4,
 "nbformat_minor": 5
}
