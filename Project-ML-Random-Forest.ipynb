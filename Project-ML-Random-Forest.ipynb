{
 "cells": [
  {
   "cell_type": "markdown",
   "id": "22a1eb70",
   "metadata": {},
   "source": [
    "<h1><center> Project - Random Forest Algorithm </center> </h1>\n",
    "<h2><center> COMPSCI X415.2 Intro to Data Science </center> </h2>\n",
    "<h2><center> UC Berkeley - Extension</center> </h2>\n",
    "<h3><center>     Prashant Chopalli </center> </h3>\n"
   ]
  },
  {
   "cell_type": "markdown",
   "id": "133eb730",
   "metadata": {},
   "source": [
    "## Introduction\n",
    "This data set includes descriptions of hypothetical samples corresponding to 23 species of gilled mushrooms in the Agaricus and Lepiota Family (pp. 500-525). Each species is identified as definitely edible, definitely poisonous, or of unknown edibility and not recommended. This latter class was combined with the poisonous one. The Guide clearly states that there is no simple rule for determining the edibility of a mushroom; no rule like ``leaflets three, let it be'' for Poisonous Oak and Ivy."
   ]
  },
  {
   "cell_type": "markdown",
   "id": "d2f17bab",
   "metadata": {},
   "source": [
    "### Research Questions ###\n",
    "+ Able to predict that a mushromm variety is poisnous or not"
   ]
  },
  {
   "cell_type": "markdown",
   "id": "c51afde0",
   "metadata": {},
   "source": [
    "<h3>    Data Source  </h3>\n",
    "Attribute Information: \n",
    "\n",
    "+ cap-shape: bell=b,conical=c,convex=x,flat=f, knobbed=k,sunken=s\n",
    "+ cap-surface: fibrous=f,grooves=g,scaly=y,smooth=s\n",
    "+ cap-color: brown=n,buff=b,cinnamon=c,gray=g,green=r,pink=p,purple=u,red=e,white=w,yellow=y\n",
    "\n",
    "+ bruises: bruises=t,no=f\n",
    "\n",
    "+ odor: almond=a,anise=l,creosote=c,fishy=y,foul=f,musty=m,none=n,pungent=p,spicy=s\n",
    "\n",
    "+ gill-attachment: attached=a,descending=d,free=f,notched=n\n",
    "\n",
    "+ gill-spacing: close=c,crowded=w,distant=d\n",
    "\n",
    "+ gill-size: broad=b,narrow=n\n",
    "\n",
    "+ gill-color: black=k,brown=n,buff=b,chocolate=h,gray=g, green=r,orange=o,pink=p,purple=u,red=e,white=w,yellow=y\n",
    "\n",
    "+ stalk-shape: enlarging=e,tapering=t\n",
    "\n",
    "+ stalk-root: bulbous=b,club=c,cup=u,equal=e,rhizomorphs=z,rooted=r,missing=?\n",
    "\n",
    "+ stalk-surface-above-ring: fibrous=f,scaly=y,silky=k,smooth=s\n",
    "\n",
    "+ stalk-surface-below-ring: fibrous=f,scaly=y,silky=k,smooth=s\n",
    "\n",
    "+ stalk-color-above-ring: brown=n,buff=b,cinnamon=c,gray=g,orange=o,pink=p,red=e,white=w,yellow=y\n",
    "\n",
    "+ stalk-color-below-ring: brown=n,buff=b,cinnamon=c,gray=g,orange=o,pink=p,red=e,white=w,yellow=y\n",
    "\n",
    "+ veil-type: partial=p,universal=u\n",
    "\n",
    "+ veil-color: brown=n,orange=o,white=w,yellow=y\n",
    "\n",
    "+ ring-number: none=n,one=o,two=t\n",
    "\n",
    "+ ring-type: cobwebby=c,evanescent=e,flaring=f,large=l,none=n,pendant=p,sheathing=s,zone=z\n",
    "\n",
    "+ spore-print-color: black=k,brown=n,buff=b,chocolate=h,green=r,orange=o,purple=u,white=w,yellow=y\n",
    "\n",
    "+ population: abundant=a,clustered=c,numerous=n,scattered=s,several=v,solitary=y\n",
    "\n",
    "+ habitat: grasses=g,leaves=l,meadows=m,paths=p,urban=u,waste=w,woods=d\n",
    "\n",
    "Target variable:\n",
    "+ Classes: edible=e, poisonous=p\n",
    "\n",
    "\n",
    "<p> <a href=\"https://archive.ics.uci.edu/ml/datasets/Mushroom\">Original Data Source from UCI Repository. </a></p>"
   ]
  },
  {
   "cell_type": "code",
   "execution_count": 1,
   "id": "1dbca476",
   "metadata": {},
   "outputs": [],
   "source": [
    "import pandas as pd\n",
    "import numpy as np\n",
    "import seaborn as sns\n",
    "# import xgboost as xgb\n",
    "from sklearn.model_selection import train_test_split\n",
    "from sklearn.tree import DecisionTreeClassifier\n",
    "from sklearn.ensemble import RandomForestClassifier\n",
    "from sklearn.ensemble import AdaBoostClassifier\n",
    "from sklearn.ensemble import GradientBoostingClassifier\n",
    "from sklearn.metrics import accuracy_score"
   ]
  },
  {
   "cell_type": "code",
   "execution_count": 2,
   "id": "bd9974e7",
   "metadata": {},
   "outputs": [],
   "source": [
    "df=pd.read_csv(\"mushrooms.csv\")"
   ]
  },
  {
   "cell_type": "code",
   "execution_count": 3,
   "id": "1a0146a7",
   "metadata": {},
   "outputs": [
    {
     "data": {
      "text/html": [
       "<div>\n",
       "<style scoped>\n",
       "    .dataframe tbody tr th:only-of-type {\n",
       "        vertical-align: middle;\n",
       "    }\n",
       "\n",
       "    .dataframe tbody tr th {\n",
       "        vertical-align: top;\n",
       "    }\n",
       "\n",
       "    .dataframe thead th {\n",
       "        text-align: right;\n",
       "    }\n",
       "</style>\n",
       "<table border=\"1\" class=\"dataframe\">\n",
       "  <thead>\n",
       "    <tr style=\"text-align: right;\">\n",
       "      <th></th>\n",
       "      <th>class</th>\n",
       "      <th>cap-shape</th>\n",
       "      <th>cap-surface</th>\n",
       "      <th>cap-color</th>\n",
       "      <th>bruises</th>\n",
       "      <th>odor</th>\n",
       "      <th>gill-attachment</th>\n",
       "      <th>gill-spacing</th>\n",
       "      <th>gill-size</th>\n",
       "      <th>gill-color</th>\n",
       "      <th>...</th>\n",
       "      <th>stalk-surface-below-ring</th>\n",
       "      <th>stalk-color-above-ring</th>\n",
       "      <th>stalk-color-below-ring</th>\n",
       "      <th>veil-type</th>\n",
       "      <th>veil-color</th>\n",
       "      <th>ring-number</th>\n",
       "      <th>ring-type</th>\n",
       "      <th>spore-print-color</th>\n",
       "      <th>population</th>\n",
       "      <th>habitat</th>\n",
       "    </tr>\n",
       "  </thead>\n",
       "  <tbody>\n",
       "    <tr>\n",
       "      <th>0</th>\n",
       "      <td>p</td>\n",
       "      <td>x</td>\n",
       "      <td>s</td>\n",
       "      <td>n</td>\n",
       "      <td>t</td>\n",
       "      <td>p</td>\n",
       "      <td>f</td>\n",
       "      <td>c</td>\n",
       "      <td>n</td>\n",
       "      <td>k</td>\n",
       "      <td>...</td>\n",
       "      <td>s</td>\n",
       "      <td>w</td>\n",
       "      <td>w</td>\n",
       "      <td>p</td>\n",
       "      <td>w</td>\n",
       "      <td>o</td>\n",
       "      <td>p</td>\n",
       "      <td>k</td>\n",
       "      <td>s</td>\n",
       "      <td>u</td>\n",
       "    </tr>\n",
       "    <tr>\n",
       "      <th>1</th>\n",
       "      <td>e</td>\n",
       "      <td>x</td>\n",
       "      <td>s</td>\n",
       "      <td>y</td>\n",
       "      <td>t</td>\n",
       "      <td>a</td>\n",
       "      <td>f</td>\n",
       "      <td>c</td>\n",
       "      <td>b</td>\n",
       "      <td>k</td>\n",
       "      <td>...</td>\n",
       "      <td>s</td>\n",
       "      <td>w</td>\n",
       "      <td>w</td>\n",
       "      <td>p</td>\n",
       "      <td>w</td>\n",
       "      <td>o</td>\n",
       "      <td>p</td>\n",
       "      <td>n</td>\n",
       "      <td>n</td>\n",
       "      <td>g</td>\n",
       "    </tr>\n",
       "    <tr>\n",
       "      <th>2</th>\n",
       "      <td>e</td>\n",
       "      <td>b</td>\n",
       "      <td>s</td>\n",
       "      <td>w</td>\n",
       "      <td>t</td>\n",
       "      <td>l</td>\n",
       "      <td>f</td>\n",
       "      <td>c</td>\n",
       "      <td>b</td>\n",
       "      <td>n</td>\n",
       "      <td>...</td>\n",
       "      <td>s</td>\n",
       "      <td>w</td>\n",
       "      <td>w</td>\n",
       "      <td>p</td>\n",
       "      <td>w</td>\n",
       "      <td>o</td>\n",
       "      <td>p</td>\n",
       "      <td>n</td>\n",
       "      <td>n</td>\n",
       "      <td>m</td>\n",
       "    </tr>\n",
       "    <tr>\n",
       "      <th>3</th>\n",
       "      <td>p</td>\n",
       "      <td>x</td>\n",
       "      <td>y</td>\n",
       "      <td>w</td>\n",
       "      <td>t</td>\n",
       "      <td>p</td>\n",
       "      <td>f</td>\n",
       "      <td>c</td>\n",
       "      <td>n</td>\n",
       "      <td>n</td>\n",
       "      <td>...</td>\n",
       "      <td>s</td>\n",
       "      <td>w</td>\n",
       "      <td>w</td>\n",
       "      <td>p</td>\n",
       "      <td>w</td>\n",
       "      <td>o</td>\n",
       "      <td>p</td>\n",
       "      <td>k</td>\n",
       "      <td>s</td>\n",
       "      <td>u</td>\n",
       "    </tr>\n",
       "    <tr>\n",
       "      <th>4</th>\n",
       "      <td>e</td>\n",
       "      <td>x</td>\n",
       "      <td>s</td>\n",
       "      <td>g</td>\n",
       "      <td>f</td>\n",
       "      <td>n</td>\n",
       "      <td>f</td>\n",
       "      <td>w</td>\n",
       "      <td>b</td>\n",
       "      <td>k</td>\n",
       "      <td>...</td>\n",
       "      <td>s</td>\n",
       "      <td>w</td>\n",
       "      <td>w</td>\n",
       "      <td>p</td>\n",
       "      <td>w</td>\n",
       "      <td>o</td>\n",
       "      <td>e</td>\n",
       "      <td>n</td>\n",
       "      <td>a</td>\n",
       "      <td>g</td>\n",
       "    </tr>\n",
       "  </tbody>\n",
       "</table>\n",
       "<p>5 rows × 23 columns</p>\n",
       "</div>"
      ],
      "text/plain": [
       "  class cap-shape cap-surface cap-color bruises odor gill-attachment  \\\n",
       "0     p         x           s         n       t    p               f   \n",
       "1     e         x           s         y       t    a               f   \n",
       "2     e         b           s         w       t    l               f   \n",
       "3     p         x           y         w       t    p               f   \n",
       "4     e         x           s         g       f    n               f   \n",
       "\n",
       "  gill-spacing gill-size gill-color  ... stalk-surface-below-ring  \\\n",
       "0            c         n          k  ...                        s   \n",
       "1            c         b          k  ...                        s   \n",
       "2            c         b          n  ...                        s   \n",
       "3            c         n          n  ...                        s   \n",
       "4            w         b          k  ...                        s   \n",
       "\n",
       "  stalk-color-above-ring stalk-color-below-ring veil-type veil-color  \\\n",
       "0                      w                      w         p          w   \n",
       "1                      w                      w         p          w   \n",
       "2                      w                      w         p          w   \n",
       "3                      w                      w         p          w   \n",
       "4                      w                      w         p          w   \n",
       "\n",
       "  ring-number ring-type spore-print-color population habitat  \n",
       "0           o         p                 k          s       u  \n",
       "1           o         p                 n          n       g  \n",
       "2           o         p                 n          n       m  \n",
       "3           o         p                 k          s       u  \n",
       "4           o         e                 n          a       g  \n",
       "\n",
       "[5 rows x 23 columns]"
      ]
     },
     "execution_count": 3,
     "metadata": {},
     "output_type": "execute_result"
    }
   ],
   "source": [
    "df.head()"
   ]
  },
  {
   "cell_type": "code",
   "execution_count": 4,
   "id": "bce57c20",
   "metadata": {},
   "outputs": [
    {
     "data": {
      "text/plain": [
       "class                       object\n",
       "cap-shape                   object\n",
       "cap-surface                 object\n",
       "cap-color                   object\n",
       "bruises                     object\n",
       "odor                        object\n",
       "gill-attachment             object\n",
       "gill-spacing                object\n",
       "gill-size                   object\n",
       "gill-color                  object\n",
       "stalk-shape                 object\n",
       "stalk-root                  object\n",
       "stalk-surface-above-ring    object\n",
       "stalk-surface-below-ring    object\n",
       "stalk-color-above-ring      object\n",
       "stalk-color-below-ring      object\n",
       "veil-type                   object\n",
       "veil-color                  object\n",
       "ring-number                 object\n",
       "ring-type                   object\n",
       "spore-print-color           object\n",
       "population                  object\n",
       "habitat                     object\n",
       "dtype: object"
      ]
     },
     "execution_count": 4,
     "metadata": {},
     "output_type": "execute_result"
    }
   ],
   "source": [
    "df.dtypes"
   ]
  },
  {
   "cell_type": "code",
   "execution_count": 5,
   "id": "b439388f",
   "metadata": {},
   "outputs": [
    {
     "data": {
      "text/plain": [
       "e    4208\n",
       "p    3916\n",
       "Name: class, dtype: int64"
      ]
     },
     "execution_count": 5,
     "metadata": {},
     "output_type": "execute_result"
    }
   ],
   "source": [
    "df['class'].value_counts()"
   ]
  },
  {
   "cell_type": "code",
   "execution_count": 6,
   "id": "e9eee72d",
   "metadata": {},
   "outputs": [
    {
     "data": {
      "text/plain": [
       "class                       object\n",
       "cap-shape                   object\n",
       "cap-surface                 object\n",
       "cap-color                   object\n",
       "bruises                     object\n",
       "odor                        object\n",
       "gill-attachment             object\n",
       "gill-spacing                object\n",
       "gill-size                   object\n",
       "gill-color                  object\n",
       "stalk-shape                 object\n",
       "stalk-root                  object\n",
       "stalk-surface-above-ring    object\n",
       "stalk-surface-below-ring    object\n",
       "stalk-color-above-ring      object\n",
       "stalk-color-below-ring      object\n",
       "veil-type                   object\n",
       "veil-color                  object\n",
       "ring-number                 object\n",
       "ring-type                   object\n",
       "spore-print-color           object\n",
       "population                  object\n",
       "habitat                     object\n",
       "dtype: object"
      ]
     },
     "execution_count": 6,
     "metadata": {},
     "output_type": "execute_result"
    }
   ],
   "source": [
    "df.dtypes"
   ]
  },
  {
   "cell_type": "code",
   "execution_count": 7,
   "id": "9bf533c1",
   "metadata": {},
   "outputs": [
    {
     "data": {
      "text/plain": [
       "<AxesSubplot:xlabel='gill-color', ylabel='Count'>"
      ]
     },
     "execution_count": 7,
     "metadata": {},
     "output_type": "execute_result"
    },
    {
     "data": {
      "image/png": "[encoded data removed]",
      "text/plain": [
       "<Figure size 1440x1440 with 9 Axes>"
      ]
     },
     "metadata": {},
     "output_type": "display_data"
    }
   ],
   "source": [
    "import matplotlib.pyplot as plt\n",
    "import seaborn as sns\n",
    "sns.set()\n",
    "# fig=plt.figure(figsize=(20,20))\n",
    "fig,axs=plt.subplots(3,3,figsize=(20,20))\n",
    "sns.histplot(df['cap-shape'],ax=axs[0,0])\n",
    "sns.histplot(df['cap-surface'],ax=axs[0,1])\n",
    "sns.histplot(df['cap-color'],ax=axs[0,2])\n",
    "sns.histplot(df['bruises'],ax=axs[1,0])\n",
    "sns.histplot(df['odor'],ax=axs[1,1])\n",
    "sns.histplot(df['gill-attachment'],ax=axs[1,2])\n",
    "sns.histplot(df['gill-spacing'],ax=axs[2,0])\n",
    "sns.histplot(df['gill-size'],ax=axs[2,1])\n",
    "sns.histplot(df['gill-color'],ax=axs[2,2])\n"
   ]
  },
  {
   "cell_type": "code",
   "execution_count": 8,
   "id": "79c51d77",
   "metadata": {},
   "outputs": [],
   "source": [
    "cat_features=['cap-shape', 'cap-surface', 'cap-color', 'bruises', 'odor',\n",
    "       'gill-attachment', 'gill-spacing', 'gill-size', 'gill-color',\n",
    "       'stalk-shape', 'stalk-root', 'stalk-surface-above-ring',\n",
    "       'stalk-surface-below-ring', 'stalk-color-above-ring',\n",
    "       'stalk-color-below-ring', 'veil-type', 'veil-color', 'ring-number',\n",
    "       'ring-type', 'spore-print-color', 'population', 'habitat']"
   ]
  },
  {
   "cell_type": "code",
   "execution_count": 9,
   "id": "10e39243",
   "metadata": {},
   "outputs": [],
   "source": [
    "from sklearn.preprocessing import OneHotEncoder\n",
    "from sklearn.compose import ColumnTransformer\n",
    "from sklearn.pipeline import Pipeline\n",
    "cat_pipeline=Pipeline(steps=[('hot',OneHotEncoder())])\n",
    "full_pipeline=ColumnTransformer(transformers=[('cat',cat_pipeline,cat_features)])"
   ]
  },
  {
   "cell_type": "code",
   "execution_count": 10,
   "id": "8e09496b",
   "metadata": {},
   "outputs": [
    {
     "data": {
      "text/plain": [
       "Index(['class', 'cap-shape', 'cap-surface', 'cap-color', 'bruises', 'odor',\n",
       "       'gill-attachment', 'gill-spacing', 'gill-size', 'gill-color',\n",
       "       'stalk-shape', 'stalk-root', 'stalk-surface-above-ring',\n",
       "       'stalk-surface-below-ring', 'stalk-color-above-ring',\n",
       "       'stalk-color-below-ring', 'veil-type', 'veil-color', 'ring-number',\n",
       "       'ring-type', 'spore-print-color', 'population', 'habitat'],\n",
       "      dtype='object')"
      ]
     },
     "execution_count": 10,
     "metadata": {},
     "output_type": "execute_result"
    }
   ],
   "source": [
    "df.columns"
   ]
  },
  {
   "cell_type": "code",
   "execution_count": 11,
   "id": "5792d5e9",
   "metadata": {},
   "outputs": [],
   "source": [
    "x=df.drop(['class'],axis=1)\n",
    "y=df['class']"
   ]
  },
  {
   "cell_type": "code",
   "execution_count": 12,
   "id": "c82b7613",
   "metadata": {},
   "outputs": [],
   "source": [
    "# from sklearn.preprocessing import OneHotEncoder, LabelEncoder\n",
    "# for f in x.columns:\n",
    "#     label=LabelEncoder()\n",
    "#     x[f]=label.fit_transform(x[f])\n",
    "#     x[f].unique()\n"
   ]
  },
  {
   "cell_type": "code",
   "execution_count": 13,
   "id": "e4beb696",
   "metadata": {},
   "outputs": [],
   "source": [
    "x_train,x_test,y_train,y_test=train_test_split(x,y,test_size=0.2)"
   ]
  },
  {
   "cell_type": "code",
   "execution_count": 14,
   "id": "f9f2cc24",
   "metadata": {},
   "outputs": [],
   "source": [
    "# dx=DecisionTreeClassifier(max_depth=2)\n",
    "# dx.fit(x_train,y_train)\n",
    "# # x_test_prep=full_pipeline.transform(x_test)\n",
    "# y_pred=dx.predict(x_test)"
   ]
  },
  {
   "cell_type": "code",
   "execution_count": 15,
   "id": "5dbf366e",
   "metadata": {},
   "outputs": [],
   "source": [
    "x_train_prep=full_pipeline.fit_transform(x_train)"
   ]
  },
  {
   "cell_type": "code",
   "execution_count": 16,
   "id": "e939a6d6",
   "metadata": {},
   "outputs": [],
   "source": [
    "dtree=DecisionTreeClassifier(max_depth=2)\n",
    "dtree.fit(x_train_prep,y_train)\n",
    "x_test_prep=full_pipeline.transform(x_test)\n",
    "y_pred=dtree.predict(x_test_prep)\n"
   ]
  },
  {
   "cell_type": "code",
   "execution_count": 17,
   "id": "8363d1a5",
   "metadata": {},
   "outputs": [
    {
     "name": "stdout",
     "output_type": "stream",
     "text": [
      "accuracy 0.9575384615384616\n"
     ]
    }
   ],
   "source": [
    "print(\"accuracy\",accuracy_score(y_test,y_pred))"
   ]
  },
  {
   "cell_type": "code",
   "execution_count": 18,
   "id": "6cf4aa95",
   "metadata": {},
   "outputs": [
    {
     "name": "stdout",
     "output_type": "stream",
     "text": [
      "accuracy 0.9907692307692307\n"
     ]
    }
   ],
   "source": [
    "forest=RandomForestClassifier(n_estimators=200,max_leaf_nodes=10,n_jobs=-1,max_features=\"sqrt\",oob_score=True,max_samples=0.7)\n",
    "forest.fit(x_train_prep,y_train)\n",
    "x_test_prep=full_pipeline.transform(x_test)\n",
    "y_pred_fr=forest.predict(x_test_prep)\n",
    "print(\"accuracy\",accuracy_score(y_test,y_pred_fr))"
   ]
  },
  {
   "cell_type": "code",
   "execution_count": 19,
   "id": "72181ad9",
   "metadata": {},
   "outputs": [
    {
     "data": {
      "text/plain": [
       "0.988767502692722"
      ]
     },
     "execution_count": 19,
     "metadata": {},
     "output_type": "execute_result"
    }
   ],
   "source": [
    "forest.oob_score_"
   ]
  },
  {
   "cell_type": "code",
   "execution_count": 20,
   "id": "9bb8119a",
   "metadata": {},
   "outputs": [
    {
     "data": {
      "text/plain": [
       "array([5.39878240e-04, 3.67449916e-05, 3.27325810e-04, 4.84605929e-05,\n",
       "       1.16416981e-04, 4.31621889e-05, 2.69456223e-03, 0.00000000e+00,\n",
       "       3.88076776e-03, 1.11568568e-03, 1.98534665e-03, 2.11941308e-04,\n",
       "       3.89800392e-04, 8.42490640e-04, 3.39538202e-04, 1.32203924e-03,\n",
       "       8.21041938e-05, 1.48318880e-04, 7.81121645e-04, 2.94706355e-03,\n",
       "       1.78507835e-02, 3.08141072e-02, 5.12754749e-03, 8.71260131e-03,\n",
       "       9.07653941e-02, 6.42105118e-03, 7.46863999e-04, 1.44358666e-01,\n",
       "       1.34671586e-02, 6.66022517e-03, 3.67946110e-03, 9.63042913e-04,\n",
       "       8.25586461e-05, 1.67032655e-02, 1.73254328e-02, 7.26100768e-02,\n",
       "       4.35166408e-02, 4.54104200e-02, 9.83104853e-06, 9.24825484e-04,\n",
       "       1.26672108e-03, 1.01232102e-05, 2.03341919e-03, 0.00000000e+00,\n",
       "       1.35519508e-04, 5.75828850e-04, 4.29372843e-04, 2.72361813e-03,\n",
       "       0.00000000e+00, 1.16393123e-02, 8.67005331e-03, 8.04155638e-03,\n",
       "       1.32413369e-02, 6.53063477e-03, 1.71264692e-02, 1.28077641e-03,\n",
       "       3.80270849e-03, 4.17044936e-02, 2.13941731e-02, 8.26960363e-06,\n",
       "       2.48849364e-03, 5.37312347e-02, 1.97365888e-02, 1.35318648e-03,\n",
       "       1.73189525e-03, 4.86798483e-04, 1.61430854e-04, 4.47760684e-03,\n",
       "       1.72155548e-03, 5.00456013e-04, 1.02674470e-03, 7.27190194e-03,\n",
       "       6.20004287e-05, 1.75911517e-03, 1.07574633e-03, 0.00000000e+00,\n",
       "       5.20060670e-04, 1.64501914e-03, 9.89290761e-04, 3.79860791e-03,\n",
       "       3.51770202e-03, 4.17027736e-04, 0.00000000e+00, 0.00000000e+00,\n",
       "       0.00000000e+00, 8.09472358e-04, 3.03866950e-05, 4.99334097e-04,\n",
       "       3.85924927e-03, 4.69712958e-03, 6.21952935e-03, 1.02630776e-03,\n",
       "       1.76642842e-02, 3.74770424e-04, 4.48569835e-02, 0.00000000e+00,\n",
       "       3.33200726e-02, 6.73946117e-03, 1.27197406e-02, 0.00000000e+00,\n",
       "       3.41327075e-03, 6.63934001e-04, 1.24189692e-02, 0.00000000e+00,\n",
       "       4.03998567e-04, 4.83789061e-04, 2.36264963e-03, 4.69555872e-03,\n",
       "       1.74620912e-02, 1.88823510e-03, 5.26112814e-03, 8.47314893e-03,\n",
       "       2.38058594e-04, 3.73314283e-03, 2.77129444e-03, 7.74942873e-03,\n",
       "       2.07500746e-03])"
      ]
     },
     "execution_count": 20,
     "metadata": {},
     "output_type": "execute_result"
    }
   ],
   "source": [
    "xlist=forest.feature_importances_\n",
    "xlist"
   ]
  },
  {
   "cell_type": "code",
   "execution_count": 21,
   "id": "efca1b25",
   "metadata": {},
   "outputs": [],
   "source": [
    "# feature_names = [f\"feature {i}\" for i in range(x_train_prep.shape[1])]\n",
    "# forest_imp=pd.Series(xlist,index=feature_names)\n",
    "# forest_imp.plot.bar()"
   ]
  },
  {
   "cell_type": "code",
   "execution_count": 22,
   "id": "73e1ef3c",
   "metadata": {},
   "outputs": [
    {
     "name": "stdout",
     "output_type": "stream",
     "text": [
      "accuracy 0.9704615384615385\n"
     ]
    }
   ],
   "source": [
    "adb=AdaBoostClassifier(DecisionTreeClassifier(max_depth=1),algorithm='SAMME.R',n_estimators=20,learning_rate=0.05,random_state=2)\n",
    "adb.fit(x_train_prep,y_train)\n",
    "x_test_prep=full_pipeline.transform(x_test)\n",
    "y_pred_adb=adb.predict(x_test_prep)\n",
    "print(\"accuracy\",accuracy_score(y_test,y_pred_adb))"
   ]
  },
  {
   "cell_type": "code",
   "execution_count": 23,
   "id": "b3a128ad",
   "metadata": {},
   "outputs": [
    {
     "data": {
      "text/plain": [
       "2"
      ]
     },
     "execution_count": 23,
     "metadata": {},
     "output_type": "execute_result"
    }
   ],
   "source": [
    "adb.n_classes_"
   ]
  },
  {
   "cell_type": "code",
   "execution_count": 24,
   "id": "fd9b6381",
   "metadata": {},
   "outputs": [
    {
     "name": "stdout",
     "output_type": "stream",
     "text": [
      "accuracy 0.9704615384615385\n"
     ]
    }
   ],
   "source": [
    "gdb=GradientBoostingClassifier(n_estimators=20,learning_rate=0.05,max_depth=2,random_state=2)\n",
    "gdb.fit(x_train_prep,y_train)\n",
    "x_test_prep=full_pipeline.transform(x_test)\n",
    "y_pred_gdb=adb.predict(x_test_prep)\n",
    "print(\"accuracy\",accuracy_score(y_test,y_pred_gdb))\n"
   ]
  },
  {
   "cell_type": "code",
   "execution_count": null,
   "id": "77c4df48",
   "metadata": {},
   "outputs": [],
   "source": []
  }
 ],
 "metadata": {
  "kernelspec": {
   "display_name": "Python 3 (ipykernel)",
   "language": "python",
   "name": "python3"
  },
  "language_info": {
   "codemirror_mode": {
    "name": "ipython",
    "version": 3
   },
   "file_extension": ".py",
   "mimetype": "text/x-python",
   "name": "python",
   "nbconvert_exporter": "python",
   "pygments_lexer": "ipython3",
   "version": "3.8.8"
  }
 },
 "nbformat": 4,
 "nbformat_minor": 5
}
