{
 "cells": [
  {
   "cell_type": "markdown",
   "id": "659559d0",
   "metadata": {},
   "source": [
    "<h1><center> Machine Learning Project  </center> </h1>\n",
    "<h2><center> COMPSCI X433.6 Intro to Machine Learning using Python </center> </h2>\n",
    "<h2><center> UC Berkeley - Extension</center> </h2>\n",
    "<h3><center>    Prashant Chopalli </center> </h3>"
   ]
  },
  {
   "cell_type": "markdown",
   "id": "b1e12d6e",
   "metadata": {},
   "source": [
    "## Introduction\n",
    "Customer behavior prediction is used by many companies to understand the customer behavior. The dataset contains information about customer who stayed with the provider and those who switched providers. The goal is to predict the if the customer will churn or not using the various features like services, demographics etc."
   ]
  },
  {
   "cell_type": "markdown",
   "id": "b0d80120",
   "metadata": {},
   "source": [
    "### Problem ###\n",
    "+ Prediction if the Telecom Customer will churn or not\n"
   ]
  },
  {
   "cell_type": "markdown",
   "id": "88ab4305",
   "metadata": {},
   "source": [
    "<h3> Data Source </h3>\n",
    "\n",
    "The data set includes information about:\n",
    "\n",
    "+ Customers who left within the last month – the column is called Churn\n",
    "+ Services that each customer has signed up for – phone, multiple lines, internet, online security, online backup, device protection, tech support, and streaming TV and movies\n",
    "+ Customer account information – how long they’ve been a customer, contract, payment method, paperless billing, monthly charges, and total charges\n",
    "+ Demographic info about customers – gender, age range, and if they have partners and dependents\n",
    "+ Customer Id\n",
    "+ The “Churn” column is our target.\n",
    "<br>\n",
    "<br>Original Data Source from Kaggle</br>\n",
    "<a href=https://www.kaggle.com/datasets/blastchar/telco-customer-churn> https://www.kaggle.com/datasets/blastchar/telco-customer-churn </a>"
   ]
  },
  {
   "cell_type": "code",
   "execution_count": 2,
   "id": "6126e668",
   "metadata": {},
   "outputs": [],
   "source": [
    "# Import all the required libraries \n",
    "import numpy as np\n",
    "import pandas as pd\n",
    "import matplotlib.pyplot as plt\n",
    "import seaborn as sns\n",
    "from sklearn.model_selection import train_test_split\n",
    "from sklearn.metrics import accuracy_score,classification_report, confusion_matrix\n",
    "from sklearn.preprocessing import StandardScaler,OneHotEncoder,OrdinalEncoder, LabelEncoder\n",
    "from sklearn.compose import make_column_selector as col_selector\n",
    "from sklearn.compose import ColumnTransformer\n",
    "from sklearn.linear_model import LogisticRegression\n",
    "from sklearn.tree import DecisionTreeClassifier\n",
    "from sklearn.ensemble import ExtraTreesClassifier\n",
    "from sklearn.ensemble import RandomForestClassifier\n",
    "from sklearn.ensemble import AdaBoostClassifier\n",
    "from sklearn.ensemble import GradientBoostingClassifier"
   ]
  },
  {
   "cell_type": "code",
   "execution_count": 3,
   "id": "a598a8e8",
   "metadata": {},
   "outputs": [],
   "source": [
    "# Read the csv file to create the dataset\n",
    "df=pd.read_csv('Customer-Churn.csv')"
   ]
  },
  {
   "cell_type": "code",
   "execution_count": 4,
   "id": "cb3d34f9",
   "metadata": {},
   "outputs": [
    {
     "data": {
      "text/html": [
       "<div>\n",
       "<style scoped>\n",
       "    .dataframe tbody tr th:only-of-type {\n",
       "        vertical-align: middle;\n",
       "    }\n",
       "\n",
       "    .dataframe tbody tr th {\n",
       "        vertical-align: top;\n",
       "    }\n",
       "\n",
       "    .dataframe thead th {\n",
       "        text-align: right;\n",
       "    }\n",
       "</style>\n",
       "<table border=\"1\" class=\"dataframe\">\n",
       "  <thead>\n",
       "    <tr style=\"text-align: right;\">\n",
       "      <th></th>\n",
       "      <th>customerID</th>\n",
       "      <th>gender</th>\n",
       "      <th>SeniorCitizen</th>\n",
       "      <th>Partner</th>\n",
       "      <th>Dependents</th>\n",
       "      <th>tenure</th>\n",
       "      <th>PhoneService</th>\n",
       "      <th>MultipleLines</th>\n",
       "      <th>InternetService</th>\n",
       "      <th>OnlineSecurity</th>\n",
       "      <th>...</th>\n",
       "      <th>DeviceProtection</th>\n",
       "      <th>TechSupport</th>\n",
       "      <th>StreamingTV</th>\n",
       "      <th>StreamingMovies</th>\n",
       "      <th>Contract</th>\n",
       "      <th>PaperlessBilling</th>\n",
       "      <th>PaymentMethod</th>\n",
       "      <th>MonthlyCharges</th>\n",
       "      <th>TotalCharges</th>\n",
       "      <th>Churn</th>\n",
       "    </tr>\n",
       "  </thead>\n",
       "  <tbody>\n",
       "    <tr>\n",
       "      <th>0</th>\n",
       "      <td>7590-VHVEG</td>\n",
       "      <td>Female</td>\n",
       "      <td>0</td>\n",
       "      <td>Yes</td>\n",
       "      <td>No</td>\n",
       "      <td>1</td>\n",
       "      <td>No</td>\n",
       "      <td>No phone service</td>\n",
       "      <td>DSL</td>\n",
       "      <td>No</td>\n",
       "      <td>...</td>\n",
       "      <td>No</td>\n",
       "      <td>No</td>\n",
       "      <td>No</td>\n",
       "      <td>No</td>\n",
       "      <td>Month-to-month</td>\n",
       "      <td>Yes</td>\n",
       "      <td>Electronic check</td>\n",
       "      <td>29.85</td>\n",
       "      <td>29.85</td>\n",
       "      <td>No</td>\n",
       "    </tr>\n",
       "    <tr>\n",
       "      <th>1</th>\n",
       "      <td>5575-GNVDE</td>\n",
       "      <td>Male</td>\n",
       "      <td>0</td>\n",
       "      <td>No</td>\n",
       "      <td>No</td>\n",
       "      <td>34</td>\n",
       "      <td>Yes</td>\n",
       "      <td>No</td>\n",
       "      <td>DSL</td>\n",
       "      <td>Yes</td>\n",
       "      <td>...</td>\n",
       "      <td>Yes</td>\n",
       "      <td>No</td>\n",
       "      <td>No</td>\n",
       "      <td>No</td>\n",
       "      <td>One year</td>\n",
       "      <td>No</td>\n",
       "      <td>Mailed check</td>\n",
       "      <td>56.95</td>\n",
       "      <td>1889.5</td>\n",
       "      <td>No</td>\n",
       "    </tr>\n",
       "    <tr>\n",
       "      <th>2</th>\n",
       "      <td>3668-QPYBK</td>\n",
       "      <td>Male</td>\n",
       "      <td>0</td>\n",
       "      <td>No</td>\n",
       "      <td>No</td>\n",
       "      <td>2</td>\n",
       "      <td>Yes</td>\n",
       "      <td>No</td>\n",
       "      <td>DSL</td>\n",
       "      <td>Yes</td>\n",
       "      <td>...</td>\n",
       "      <td>No</td>\n",
       "      <td>No</td>\n",
       "      <td>No</td>\n",
       "      <td>No</td>\n",
       "      <td>Month-to-month</td>\n",
       "      <td>Yes</td>\n",
       "      <td>Mailed check</td>\n",
       "      <td>53.85</td>\n",
       "      <td>108.15</td>\n",
       "      <td>Yes</td>\n",
       "    </tr>\n",
       "    <tr>\n",
       "      <th>3</th>\n",
       "      <td>7795-CFOCW</td>\n",
       "      <td>Male</td>\n",
       "      <td>0</td>\n",
       "      <td>No</td>\n",
       "      <td>No</td>\n",
       "      <td>45</td>\n",
       "      <td>No</td>\n",
       "      <td>No phone service</td>\n",
       "      <td>DSL</td>\n",
       "      <td>Yes</td>\n",
       "      <td>...</td>\n",
       "      <td>Yes</td>\n",
       "      <td>Yes</td>\n",
       "      <td>No</td>\n",
       "      <td>No</td>\n",
       "      <td>One year</td>\n",
       "      <td>No</td>\n",
       "      <td>Bank transfer (automatic)</td>\n",
       "      <td>42.30</td>\n",
       "      <td>1840.75</td>\n",
       "      <td>No</td>\n",
       "    </tr>\n",
       "    <tr>\n",
       "      <th>4</th>\n",
       "      <td>9237-HQITU</td>\n",
       "      <td>Female</td>\n",
       "      <td>0</td>\n",
       "      <td>No</td>\n",
       "      <td>No</td>\n",
       "      <td>2</td>\n",
       "      <td>Yes</td>\n",
       "      <td>No</td>\n",
       "      <td>Fiber optic</td>\n",
       "      <td>No</td>\n",
       "      <td>...</td>\n",
       "      <td>No</td>\n",
       "      <td>No</td>\n",
       "      <td>No</td>\n",
       "      <td>No</td>\n",
       "      <td>Month-to-month</td>\n",
       "      <td>Yes</td>\n",
       "      <td>Electronic check</td>\n",
       "      <td>70.70</td>\n",
       "      <td>151.65</td>\n",
       "      <td>Yes</td>\n",
       "    </tr>\n",
       "  </tbody>\n",
       "</table>\n",
       "<p>5 rows × 21 columns</p>\n",
       "</div>"
      ],
      "text/plain": [
       "   customerID  gender  SeniorCitizen Partner Dependents  tenure PhoneService  \\\n",
       "0  7590-VHVEG  Female              0     Yes         No       1           No   \n",
       "1  5575-GNVDE    Male              0      No         No      34          Yes   \n",
       "2  3668-QPYBK    Male              0      No         No       2          Yes   \n",
       "3  7795-CFOCW    Male              0      No         No      45           No   \n",
       "4  9237-HQITU  Female              0      No         No       2          Yes   \n",
       "\n",
       "      MultipleLines InternetService OnlineSecurity  ... DeviceProtection  \\\n",
       "0  No phone service             DSL             No  ...               No   \n",
       "1                No             DSL            Yes  ...              Yes   \n",
       "2                No             DSL            Yes  ...               No   \n",
       "3  No phone service             DSL            Yes  ...              Yes   \n",
       "4                No     Fiber optic             No  ...               No   \n",
       "\n",
       "  TechSupport StreamingTV StreamingMovies        Contract PaperlessBilling  \\\n",
       "0          No          No              No  Month-to-month              Yes   \n",
       "1          No          No              No        One year               No   \n",
       "2          No          No              No  Month-to-month              Yes   \n",
       "3         Yes          No              No        One year               No   \n",
       "4          No          No              No  Month-to-month              Yes   \n",
       "\n",
       "               PaymentMethod MonthlyCharges  TotalCharges Churn  \n",
       "0           Electronic check          29.85         29.85    No  \n",
       "1               Mailed check          56.95        1889.5    No  \n",
       "2               Mailed check          53.85        108.15   Yes  \n",
       "3  Bank transfer (automatic)          42.30       1840.75    No  \n",
       "4           Electronic check          70.70        151.65   Yes  \n",
       "\n",
       "[5 rows x 21 columns]"
      ]
     },
     "execution_count": 4,
     "metadata": {},
     "output_type": "execute_result"
    }
   ],
   "source": [
    "# Print the first few rows of the dataset\n",
    "df.head()"
   ]
  },
  {
   "cell_type": "code",
   "execution_count": 5,
   "id": "8de0ff8a",
   "metadata": {},
   "outputs": [
    {
     "data": {
      "text/plain": [
       "Index(['customerID', 'gender', 'SeniorCitizen', 'Partner', 'Dependents',\n",
       "       'tenure', 'PhoneService', 'MultipleLines', 'InternetService',\n",
       "       'OnlineSecurity', 'OnlineBackup', 'DeviceProtection', 'TechSupport',\n",
       "       'StreamingTV', 'StreamingMovies', 'Contract', 'PaperlessBilling',\n",
       "       'PaymentMethod', 'MonthlyCharges', 'TotalCharges', 'Churn'],\n",
       "      dtype='object')"
      ]
     },
     "execution_count": 5,
     "metadata": {},
     "output_type": "execute_result"
    }
   ],
   "source": [
    "#Print the columns of the dataset\n",
    "df.columns"
   ]
  },
  {
   "cell_type": "code",
   "execution_count": 6,
   "id": "8599fb87",
   "metadata": {},
   "outputs": [
    {
     "data": {
      "text/plain": [
       "(7043, 21)"
      ]
     },
     "execution_count": 6,
     "metadata": {},
     "output_type": "execute_result"
    }
   ],
   "source": [
    "# Print the rows and columns of the dataset\n",
    "df.shape"
   ]
  },
  {
   "cell_type": "code",
   "execution_count": 7,
   "id": "813a43a0",
   "metadata": {},
   "outputs": [
    {
     "data": {
      "text/plain": [
       "customerID          0\n",
       "gender              0\n",
       "SeniorCitizen       0\n",
       "Partner             0\n",
       "Dependents          0\n",
       "tenure              0\n",
       "PhoneService        0\n",
       "MultipleLines       0\n",
       "InternetService     0\n",
       "OnlineSecurity      0\n",
       "OnlineBackup        0\n",
       "DeviceProtection    0\n",
       "TechSupport         0\n",
       "StreamingTV         0\n",
       "StreamingMovies     0\n",
       "Contract            0\n",
       "PaperlessBilling    0\n",
       "PaymentMethod       0\n",
       "MonthlyCharges      0\n",
       "TotalCharges        0\n",
       "Churn               0\n",
       "dtype: int64"
      ]
     },
     "execution_count": 7,
     "metadata": {},
     "output_type": "execute_result"
    }
   ],
   "source": [
    "# Check for Null values\n",
    "df.isnull().sum()"
   ]
  },
  {
   "cell_type": "code",
   "execution_count": 8,
   "id": "0f50d273",
   "metadata": {},
   "outputs": [
    {
     "name": "stdout",
     "output_type": "stream",
     "text": [
      "gender\n",
      "Male      3555\n",
      "Female    3488\n",
      "Name: gender, dtype: int64\n",
      " \n",
      "SeniorCitizen\n",
      "0    5901\n",
      "1    1142\n",
      "Name: SeniorCitizen, dtype: int64\n",
      " \n",
      "Partner\n",
      "No     3641\n",
      "Yes    3402\n",
      "Name: Partner, dtype: int64\n",
      " \n",
      "Dependents\n",
      "No     4933\n",
      "Yes    2110\n",
      "Name: Dependents, dtype: int64\n",
      " \n",
      "PhoneService\n",
      "Yes    6361\n",
      "No      682\n",
      "Name: PhoneService, dtype: int64\n",
      " \n",
      "MultipleLines\n",
      "No                  3390\n",
      "Yes                 2971\n",
      "No phone service     682\n",
      "Name: MultipleLines, dtype: int64\n",
      " \n",
      "InternetService\n",
      "Fiber optic    3096\n",
      "DSL            2421\n",
      "No             1526\n",
      "Name: InternetService, dtype: int64\n",
      " \n",
      "OnlineSecurity\n",
      "No                     3498\n",
      "Yes                    2019\n",
      "No internet service    1526\n",
      "Name: OnlineSecurity, dtype: int64\n",
      " \n",
      "OnlineBackup\n",
      "No                     3088\n",
      "Yes                    2429\n",
      "No internet service    1526\n",
      "Name: OnlineBackup, dtype: int64\n",
      " \n",
      "DeviceProtection\n",
      "No                     3095\n",
      "Yes                    2422\n",
      "No internet service    1526\n",
      "Name: DeviceProtection, dtype: int64\n",
      " \n",
      "TechSupport\n",
      "No                     3473\n",
      "Yes                    2044\n",
      "No internet service    1526\n",
      "Name: TechSupport, dtype: int64\n",
      " \n",
      "StreamingTV\n",
      "No                     2810\n",
      "Yes                    2707\n",
      "No internet service    1526\n",
      "Name: StreamingTV, dtype: int64\n",
      " \n",
      "StreamingMovies\n",
      "No                     2785\n",
      "Yes                    2732\n",
      "No internet service    1526\n",
      "Name: StreamingMovies, dtype: int64\n",
      " \n",
      "Contract\n",
      "Month-to-month    3875\n",
      "Two year          1695\n",
      "One year          1473\n",
      "Name: Contract, dtype: int64\n",
      " \n",
      "PaperlessBilling\n",
      "Yes    4171\n",
      "No     2872\n",
      "Name: PaperlessBilling, dtype: int64\n",
      " \n",
      "PaymentMethod\n",
      "Electronic check             2365\n",
      "Mailed check                 1612\n",
      "Bank transfer (automatic)    1544\n",
      "Credit card (automatic)      1522\n",
      "Name: PaymentMethod, dtype: int64\n",
      " \n",
      "Churn\n",
      "No     5174\n",
      "Yes    1869\n",
      "Name: Churn, dtype: int64\n",
      " \n"
     ]
    }
   ],
   "source": [
    "# Function to print the value counts of all the categorical features\n",
    "def val_count(df,x):\n",
    "    for col in x:\n",
    "        print(col)\n",
    "        print(df[col].value_counts())\n",
    "        print(\" \")\n",
    "x=['gender', 'SeniorCitizen', 'Partner', 'Dependents',\n",
    "   'PhoneService', 'MultipleLines', 'InternetService',\n",
    "    'OnlineSecurity', 'OnlineBackup', 'DeviceProtection', 'TechSupport',\n",
    "    'StreamingTV', 'StreamingMovies', 'Contract', 'PaperlessBilling',\n",
    "    'PaymentMethod','Churn'\n",
    "  ]\n",
    "val_count(df,x)"
   ]
  },
  {
   "cell_type": "code",
   "execution_count": 9,
   "id": "f4a9fce5",
   "metadata": {},
   "outputs": [
    {
     "data": {
      "text/plain": [
       "customerID           object\n",
       "gender               object\n",
       "SeniorCitizen         int64\n",
       "Partner              object\n",
       "Dependents           object\n",
       "tenure                int64\n",
       "PhoneService         object\n",
       "MultipleLines        object\n",
       "InternetService      object\n",
       "OnlineSecurity       object\n",
       "OnlineBackup         object\n",
       "DeviceProtection     object\n",
       "TechSupport          object\n",
       "StreamingTV          object\n",
       "StreamingMovies      object\n",
       "Contract             object\n",
       "PaperlessBilling     object\n",
       "PaymentMethod        object\n",
       "MonthlyCharges      float64\n",
       "TotalCharges         object\n",
       "Churn                object\n",
       "dtype: object"
      ]
     },
     "execution_count": 9,
     "metadata": {},
     "output_type": "execute_result"
    }
   ],
   "source": [
    "# Print the data types of the features\n",
    "df.dtypes"
   ]
  },
  {
   "cell_type": "markdown",
   "id": "b9e045d7",
   "metadata": {},
   "source": [
    "### EDA"
   ]
  },
  {
   "cell_type": "code",
   "execution_count": 10,
   "id": "c8b1e9b2",
   "metadata": {},
   "outputs": [
    {
     "data": {
      "text/plain": [
       "<AxesSubplot:xlabel='Partner', ylabel='Count'>"
      ]
     },
     "execution_count": 10,
     "metadata": {},
     "output_type": "execute_result"
    },
    {
     "data": {
      "image/png": "[encoded data removed]",
      "text/plain": [
       "<Figure size 720x720 with 3 Axes>"
      ]
     },
     "metadata": {
      "needs_background": "light"
     },
     "output_type": "display_data"
    }
   ],
   "source": [
    "%matplotlib inline\n",
    "fig,ax=plt.subplots(1,3,figsize=(10,10))\n",
    "sns.histplot(data=df['tenure'],ax=ax[0])\n",
    "sns.histplot(data=df['SeniorCitizen'],ax=ax[1])\n",
    "sns.histplot(data=df['Partner'],ax=ax[2])"
   ]
  },
  {
   "cell_type": "code",
   "execution_count": 11,
   "id": "31c07b13",
   "metadata": {},
   "outputs": [
    {
     "data": {
      "text/html": [
       "<div>\n",
       "<style scoped>\n",
       "    .dataframe tbody tr th:only-of-type {\n",
       "        vertical-align: middle;\n",
       "    }\n",
       "\n",
       "    .dataframe tbody tr th {\n",
       "        vertical-align: top;\n",
       "    }\n",
       "\n",
       "    .dataframe thead th {\n",
       "        text-align: right;\n",
       "    }\n",
       "</style>\n",
       "<table border=\"1\" class=\"dataframe\">\n",
       "  <thead>\n",
       "    <tr style=\"text-align: right;\">\n",
       "      <th></th>\n",
       "      <th>customerID</th>\n",
       "      <th>gender</th>\n",
       "      <th>SeniorCitizen</th>\n",
       "      <th>Partner</th>\n",
       "      <th>Dependents</th>\n",
       "      <th>tenure</th>\n",
       "      <th>PhoneService</th>\n",
       "      <th>MultipleLines</th>\n",
       "      <th>InternetService</th>\n",
       "      <th>OnlineSecurity</th>\n",
       "      <th>...</th>\n",
       "      <th>DeviceProtection</th>\n",
       "      <th>TechSupport</th>\n",
       "      <th>StreamingTV</th>\n",
       "      <th>StreamingMovies</th>\n",
       "      <th>Contract</th>\n",
       "      <th>PaperlessBilling</th>\n",
       "      <th>PaymentMethod</th>\n",
       "      <th>MonthlyCharges</th>\n",
       "      <th>TotalCharges</th>\n",
       "      <th>Churn</th>\n",
       "    </tr>\n",
       "  </thead>\n",
       "  <tbody>\n",
       "    <tr>\n",
       "      <th>0</th>\n",
       "      <td>7590-VHVEG</td>\n",
       "      <td>Female</td>\n",
       "      <td>0</td>\n",
       "      <td>Yes</td>\n",
       "      <td>No</td>\n",
       "      <td>1</td>\n",
       "      <td>No</td>\n",
       "      <td>No phone service</td>\n",
       "      <td>DSL</td>\n",
       "      <td>No</td>\n",
       "      <td>...</td>\n",
       "      <td>No</td>\n",
       "      <td>No</td>\n",
       "      <td>No</td>\n",
       "      <td>No</td>\n",
       "      <td>Month-to-month</td>\n",
       "      <td>Yes</td>\n",
       "      <td>Electronic check</td>\n",
       "      <td>29.85</td>\n",
       "      <td>29.85</td>\n",
       "      <td>No</td>\n",
       "    </tr>\n",
       "    <tr>\n",
       "      <th>1</th>\n",
       "      <td>5575-GNVDE</td>\n",
       "      <td>Male</td>\n",
       "      <td>0</td>\n",
       "      <td>No</td>\n",
       "      <td>No</td>\n",
       "      <td>34</td>\n",
       "      <td>Yes</td>\n",
       "      <td>No</td>\n",
       "      <td>DSL</td>\n",
       "      <td>Yes</td>\n",
       "      <td>...</td>\n",
       "      <td>Yes</td>\n",
       "      <td>No</td>\n",
       "      <td>No</td>\n",
       "      <td>No</td>\n",
       "      <td>One year</td>\n",
       "      <td>No</td>\n",
       "      <td>Mailed check</td>\n",
       "      <td>56.95</td>\n",
       "      <td>1889.5</td>\n",
       "      <td>No</td>\n",
       "    </tr>\n",
       "    <tr>\n",
       "      <th>2</th>\n",
       "      <td>3668-QPYBK</td>\n",
       "      <td>Male</td>\n",
       "      <td>0</td>\n",
       "      <td>No</td>\n",
       "      <td>No</td>\n",
       "      <td>2</td>\n",
       "      <td>Yes</td>\n",
       "      <td>No</td>\n",
       "      <td>DSL</td>\n",
       "      <td>Yes</td>\n",
       "      <td>...</td>\n",
       "      <td>No</td>\n",
       "      <td>No</td>\n",
       "      <td>No</td>\n",
       "      <td>No</td>\n",
       "      <td>Month-to-month</td>\n",
       "      <td>Yes</td>\n",
       "      <td>Mailed check</td>\n",
       "      <td>53.85</td>\n",
       "      <td>108.15</td>\n",
       "      <td>Yes</td>\n",
       "    </tr>\n",
       "    <tr>\n",
       "      <th>3</th>\n",
       "      <td>7795-CFOCW</td>\n",
       "      <td>Male</td>\n",
       "      <td>0</td>\n",
       "      <td>No</td>\n",
       "      <td>No</td>\n",
       "      <td>45</td>\n",
       "      <td>No</td>\n",
       "      <td>No phone service</td>\n",
       "      <td>DSL</td>\n",
       "      <td>Yes</td>\n",
       "      <td>...</td>\n",
       "      <td>Yes</td>\n",
       "      <td>Yes</td>\n",
       "      <td>No</td>\n",
       "      <td>No</td>\n",
       "      <td>One year</td>\n",
       "      <td>No</td>\n",
       "      <td>Bank transfer (automatic)</td>\n",
       "      <td>42.30</td>\n",
       "      <td>1840.75</td>\n",
       "      <td>No</td>\n",
       "    </tr>\n",
       "    <tr>\n",
       "      <th>4</th>\n",
       "      <td>9237-HQITU</td>\n",
       "      <td>Female</td>\n",
       "      <td>0</td>\n",
       "      <td>No</td>\n",
       "      <td>No</td>\n",
       "      <td>2</td>\n",
       "      <td>Yes</td>\n",
       "      <td>No</td>\n",
       "      <td>Fiber optic</td>\n",
       "      <td>No</td>\n",
       "      <td>...</td>\n",
       "      <td>No</td>\n",
       "      <td>No</td>\n",
       "      <td>No</td>\n",
       "      <td>No</td>\n",
       "      <td>Month-to-month</td>\n",
       "      <td>Yes</td>\n",
       "      <td>Electronic check</td>\n",
       "      <td>70.70</td>\n",
       "      <td>151.65</td>\n",
       "      <td>Yes</td>\n",
       "    </tr>\n",
       "  </tbody>\n",
       "</table>\n",
       "<p>5 rows × 21 columns</p>\n",
       "</div>"
      ],
      "text/plain": [
       "   customerID  gender  SeniorCitizen Partner Dependents  tenure PhoneService  \\\n",
       "0  7590-VHVEG  Female              0     Yes         No       1           No   \n",
       "1  5575-GNVDE    Male              0      No         No      34          Yes   \n",
       "2  3668-QPYBK    Male              0      No         No       2          Yes   \n",
       "3  7795-CFOCW    Male              0      No         No      45           No   \n",
       "4  9237-HQITU  Female              0      No         No       2          Yes   \n",
       "\n",
       "      MultipleLines InternetService OnlineSecurity  ... DeviceProtection  \\\n",
       "0  No phone service             DSL             No  ...               No   \n",
       "1                No             DSL            Yes  ...              Yes   \n",
       "2                No             DSL            Yes  ...               No   \n",
       "3  No phone service             DSL            Yes  ...              Yes   \n",
       "4                No     Fiber optic             No  ...               No   \n",
       "\n",
       "  TechSupport StreamingTV StreamingMovies        Contract PaperlessBilling  \\\n",
       "0          No          No              No  Month-to-month              Yes   \n",
       "1          No          No              No        One year               No   \n",
       "2          No          No              No  Month-to-month              Yes   \n",
       "3         Yes          No              No        One year               No   \n",
       "4          No          No              No  Month-to-month              Yes   \n",
       "\n",
       "               PaymentMethod MonthlyCharges  TotalCharges Churn  \n",
       "0           Electronic check          29.85         29.85    No  \n",
       "1               Mailed check          56.95        1889.5    No  \n",
       "2               Mailed check          53.85        108.15   Yes  \n",
       "3  Bank transfer (automatic)          42.30       1840.75    No  \n",
       "4           Electronic check          70.70        151.65   Yes  \n",
       "\n",
       "[5 rows x 21 columns]"
      ]
     },
     "execution_count": 11,
     "metadata": {},
     "output_type": "execute_result"
    }
   ],
   "source": [
    "df.head()"
   ]
  },
  {
   "cell_type": "code",
   "execution_count": 12,
   "id": "76d597ef",
   "metadata": {},
   "outputs": [
    {
     "data": {
      "text/plain": [
       "<AxesSubplot:xlabel='Churn', ylabel='Count'>"
      ]
     },
     "execution_count": 12,
     "metadata": {},
     "output_type": "execute_result"
    },
    {
     "data": {
      "image/png": "[encoded data removed]",
      "text/plain": [
       "<Figure size 432x288 with 1 Axes>"
      ]
     },
     "metadata": {
      "needs_background": "light"
     },
     "output_type": "display_data"
    }
   ],
   "source": [
    "dfg=df['Churn'].groupby(df['gender']).count()\n",
    "sns.histplot(dfg)"
   ]
  },
  {
   "cell_type": "markdown",
   "id": "d1cb4a1b",
   "metadata": {},
   "source": [
    "### Data Preparation"
   ]
  },
  {
   "cell_type": "markdown",
   "id": "1fa6bad1",
   "metadata": {},
   "source": [
    "#### Down Sample"
   ]
  },
  {
   "cell_type": "markdown",
   "id": "a2a1f927",
   "metadata": {},
   "source": [
    "Churn<br></br>\n",
    "No     5174 <br></br>\n",
    "Yes    1869\n",
    "\n",
    "The dataset is imbalanced, the customer with target value \"No\" is ~3 times more than the \"Yes\". We wil upsample the minority feature and make the sample size of Yes and No almost equal"
   ]
  },
  {
   "cell_type": "code",
   "execution_count": 13,
   "id": "e5591d45",
   "metadata": {},
   "outputs": [
    {
     "name": "stdout",
     "output_type": "stream",
     "text": [
      "Instance with No value in original dataset (5174, 21)\n",
      "Instance with Yes value in original dataset (1869, 21)\n"
     ]
    }
   ],
   "source": [
    "# If you want to downsample, use below\n",
    "\n",
    "# df=df.sample(frac=1)\n",
    "# df_yes=df[(df['Churn']=='Yes')]\n",
    "# print(df_yes.shape)\n",
    "# df_no=df.loc[df['Churn']=='No'][:1869]\n",
    "# print(df_no.shape)\n",
    "# new_df=pd.concat([df_yes,df_no])\n",
    "# df_new = new_df.sample(frac=1, random_state=42)\n",
    "# df_new.shape\n",
    "\n",
    "# Here we are upsampling the 'yes' to 2.75 times \n",
    "# Separate the No values \n",
    "df_no=df[(df['Churn']=='No')]\n",
    "print(\"Instance with No value in original dataset\" , df_no.shape)\n",
    "# Separate the Yes values\n",
    "df_yes=df.loc[df['Churn']=='Yes']\n",
    "print(\"Instance with Yes value in original dataset\" , df_yes.shape)\n",
    "# Upsample the instances with No values\n",
    "df_up=df_yes.sample(frac=2.75,replace=True,random_state=42)\n",
    "df_up.shape\n",
    "# Concanate the Yes and No to form a new dataset\n",
    "new_df=pd.concat([df_up,df_no])\n",
    "df_new = new_df.sample(frac=1, random_state=42)\n"
   ]
  },
  {
   "cell_type": "code",
   "execution_count": 14,
   "id": "ae7987f1",
   "metadata": {},
   "outputs": [
    {
     "name": "stdout",
     "output_type": "stream",
     "text": [
      "Size of the new dataset (10314, 21)\n",
      "Value Counts of Yes and No in the new dataset\n",
      " No     5174\n",
      "Yes    5140\n",
      "Name: Churn, dtype: int64\n"
     ]
    }
   ],
   "source": [
    "print('Size of the new dataset',df_new.shape)\n",
    "print(\"Value Counts of Yes and No in the new dataset\\n\",df_new['Churn'].value_counts())"
   ]
  },
  {
   "cell_type": "markdown",
   "id": "c32a35f3",
   "metadata": {},
   "source": [
    "#### Print the value counts after upsampling"
   ]
  },
  {
   "cell_type": "code",
   "execution_count": 15,
   "id": "13c8c821",
   "metadata": {},
   "outputs": [
    {
     "name": "stdout",
     "output_type": "stream",
     "text": [
      "gender\n",
      "Male      5244\n",
      "Female    5070\n",
      "Name: gender, dtype: int64\n",
      " \n",
      "SeniorCitizen\n",
      "0    8324\n",
      "1    1990\n",
      "Name: SeniorCitizen, dtype: int64\n",
      " \n",
      "Partner\n",
      "No     5733\n",
      "Yes    4581\n",
      "Name: Partner, dtype: int64\n",
      " \n",
      "Dependents\n",
      "No     7645\n",
      "Yes    2669\n",
      "Name: Dependents, dtype: int64\n",
      " \n",
      "PhoneService\n",
      "Yes    9326\n",
      "No      988\n",
      "Name: PhoneService, dtype: int64\n",
      " \n",
      "MultipleLines\n",
      "No                  4820\n",
      "Yes                 4506\n",
      "No phone service     988\n",
      "Name: MultipleLines, dtype: int64\n",
      " \n",
      "InternetService\n",
      "Fiber optic    5351\n",
      "DSL            3235\n",
      "No             1728\n",
      "Name: InternetService, dtype: int64\n",
      " \n",
      "OnlineSecurity\n",
      "No                     6020\n",
      "Yes                    2566\n",
      "No internet service    1728\n",
      "Name: OnlineSecurity, dtype: int64\n",
      " \n",
      "OnlineBackup\n",
      "No                     5229\n",
      "Yes                    3357\n",
      "No internet service    1728\n",
      "Name: OnlineBackup, dtype: int64\n",
      " \n",
      "DeviceProtection\n",
      "No                     5254\n",
      "Yes                    3332\n",
      "No internet service    1728\n",
      "Name: DeviceProtection, dtype: int64\n",
      " \n",
      "TechSupport\n",
      "No                     6009\n",
      "Yes                    2577\n",
      "No internet service    1728\n",
      "Name: TechSupport, dtype: int64\n",
      " \n",
      "StreamingTV\n",
      "No                     4502\n",
      "Yes                    4084\n",
      "No internet service    1728\n",
      "Name: StreamingTV, dtype: int64\n",
      " \n",
      "StreamingMovies\n",
      "No                     4495\n",
      "Yes                    4091\n",
      "No internet service    1728\n",
      "Name: StreamingMovies, dtype: int64\n",
      " \n",
      "Contract\n",
      "Month-to-month    6778\n",
      "Two year          1781\n",
      "One year          1755\n",
      "Name: Contract, dtype: int64\n",
      " \n",
      "PaperlessBilling\n",
      "Yes    6622\n",
      "No     3692\n",
      "Name: PaperlessBilling, dtype: int64\n",
      " \n",
      "PaymentMethod\n",
      "Electronic check             4258\n",
      "Mailed check                 2148\n",
      "Bank transfer (automatic)    2003\n",
      "Credit card (automatic)      1905\n",
      "Name: PaymentMethod, dtype: int64\n",
      " \n",
      "Churn\n",
      "No     5174\n",
      "Yes    5140\n",
      "Name: Churn, dtype: int64\n",
      " \n"
     ]
    }
   ],
   "source": [
    "xcol=['gender', 'SeniorCitizen', 'Partner', 'Dependents',\n",
    "   'PhoneService', 'MultipleLines', 'InternetService',\n",
    "    'OnlineSecurity', 'OnlineBackup', 'DeviceProtection', 'TechSupport',\n",
    "    'StreamingTV', 'StreamingMovies', 'Contract', 'PaperlessBilling',\n",
    "    'PaymentMethod','Churn'\n",
    "  ]\n",
    "val_count(df_new,xcol)"
   ]
  },
  {
   "cell_type": "code",
   "execution_count": 16,
   "id": "587bdbbd",
   "metadata": {},
   "outputs": [
    {
     "data": {
      "text/plain": [
       "customerID           object\n",
       "gender               object\n",
       "SeniorCitizen         int64\n",
       "Partner              object\n",
       "Dependents           object\n",
       "tenure                int64\n",
       "PhoneService         object\n",
       "MultipleLines        object\n",
       "InternetService      object\n",
       "OnlineSecurity       object\n",
       "OnlineBackup         object\n",
       "DeviceProtection     object\n",
       "TechSupport          object\n",
       "StreamingTV          object\n",
       "StreamingMovies      object\n",
       "Contract             object\n",
       "PaperlessBilling     object\n",
       "PaymentMethod        object\n",
       "MonthlyCharges      float64\n",
       "TotalCharges         object\n",
       "Churn                object\n",
       "dtype: object"
      ]
     },
     "execution_count": 16,
     "metadata": {},
     "output_type": "execute_result"
    }
   ],
   "source": [
    "# Data types of the dataset\n",
    "df_new.dtypes"
   ]
  },
  {
   "cell_type": "markdown",
   "id": "467ec4c4",
   "metadata": {},
   "source": [
    "+ The feature Totalcharges have some blank '' values, this didn't show up in the isnull() check. We will convert the blank values to Null values and check again"
   ]
  },
  {
   "cell_type": "code",
   "execution_count": 17,
   "id": "92d12f27",
   "metadata": {},
   "outputs": [
    {
     "data": {
      "text/plain": [
       "customerID           0\n",
       "gender               0\n",
       "SeniorCitizen        0\n",
       "Partner              0\n",
       "Dependents           0\n",
       "tenure               0\n",
       "PhoneService         0\n",
       "MultipleLines        0\n",
       "InternetService      0\n",
       "OnlineSecurity       0\n",
       "OnlineBackup         0\n",
       "DeviceProtection     0\n",
       "TechSupport          0\n",
       "StreamingTV          0\n",
       "StreamingMovies      0\n",
       "Contract             0\n",
       "PaperlessBilling     0\n",
       "PaymentMethod        0\n",
       "MonthlyCharges       0\n",
       "TotalCharges        11\n",
       "Churn                0\n",
       "dtype: int64"
      ]
     },
     "execution_count": 17,
     "metadata": {},
     "output_type": "execute_result"
    }
   ],
   "source": [
    "df_new['TotalCharges'].replace(to_replace=' ', value=np.NAN,inplace=True)\n",
    "df_new.isnull().sum()"
   ]
  },
  {
   "cell_type": "markdown",
   "id": "ea7d68ce",
   "metadata": {},
   "source": [
    "+ There are only 11 blank values so we will delete them"
   ]
  },
  {
   "cell_type": "code",
   "execution_count": 18,
   "id": "f9c59341",
   "metadata": {},
   "outputs": [],
   "source": [
    "df_new.dropna(subset=['TotalCharges'],inplace=True)"
   ]
  },
  {
   "cell_type": "code",
   "execution_count": 19,
   "id": "90ea1631",
   "metadata": {},
   "outputs": [
    {
     "data": {
      "text/plain": [
       "customerID          0\n",
       "gender              0\n",
       "SeniorCitizen       0\n",
       "Partner             0\n",
       "Dependents          0\n",
       "tenure              0\n",
       "PhoneService        0\n",
       "MultipleLines       0\n",
       "InternetService     0\n",
       "OnlineSecurity      0\n",
       "OnlineBackup        0\n",
       "DeviceProtection    0\n",
       "TechSupport         0\n",
       "StreamingTV         0\n",
       "StreamingMovies     0\n",
       "Contract            0\n",
       "PaperlessBilling    0\n",
       "PaymentMethod       0\n",
       "MonthlyCharges      0\n",
       "TotalCharges        0\n",
       "Churn               0\n",
       "dtype: int64"
      ]
     },
     "execution_count": 19,
     "metadata": {},
     "output_type": "execute_result"
    }
   ],
   "source": [
    "df_new.isnull().sum()"
   ]
  },
  {
   "cell_type": "code",
   "execution_count": 20,
   "id": "de2dcc2d",
   "metadata": {},
   "outputs": [],
   "source": [
    "# Convert Total Charges to float value\n",
    "df_new['TotalCharges']=df_new['TotalCharges'].astype(float)"
   ]
  },
  {
   "cell_type": "code",
   "execution_count": 21,
   "id": "343d0bf4",
   "metadata": {},
   "outputs": [
    {
     "data": {
      "text/plain": [
       "customerID           object\n",
       "gender               object\n",
       "SeniorCitizen         int64\n",
       "Partner              object\n",
       "Dependents           object\n",
       "tenure                int64\n",
       "PhoneService         object\n",
       "MultipleLines        object\n",
       "InternetService      object\n",
       "OnlineSecurity       object\n",
       "OnlineBackup         object\n",
       "DeviceProtection     object\n",
       "TechSupport          object\n",
       "StreamingTV          object\n",
       "StreamingMovies      object\n",
       "Contract             object\n",
       "PaperlessBilling     object\n",
       "PaymentMethod        object\n",
       "MonthlyCharges      float64\n",
       "TotalCharges        float64\n",
       "Churn                object\n",
       "dtype: object"
      ]
     },
     "execution_count": 21,
     "metadata": {},
     "output_type": "execute_result"
    }
   ],
   "source": [
    "# Check the data types of the features\n",
    "df_new.dtypes"
   ]
  },
  {
   "cell_type": "code",
   "execution_count": 22,
   "id": "a83beb4f",
   "metadata": {},
   "outputs": [
    {
     "data": {
      "text/html": [
       "<div>\n",
       "<style scoped>\n",
       "    .dataframe tbody tr th:only-of-type {\n",
       "        vertical-align: middle;\n",
       "    }\n",
       "\n",
       "    .dataframe tbody tr th {\n",
       "        vertical-align: top;\n",
       "    }\n",
       "\n",
       "    .dataframe thead th {\n",
       "        text-align: right;\n",
       "    }\n",
       "</style>\n",
       "<table border=\"1\" class=\"dataframe\">\n",
       "  <thead>\n",
       "    <tr style=\"text-align: right;\">\n",
       "      <th></th>\n",
       "      <th>SeniorCitizen</th>\n",
       "      <th>tenure</th>\n",
       "      <th>MonthlyCharges</th>\n",
       "      <th>TotalCharges</th>\n",
       "    </tr>\n",
       "  </thead>\n",
       "  <tbody>\n",
       "    <tr>\n",
       "      <th>SeniorCitizen</th>\n",
       "      <td>1.000000</td>\n",
       "      <td>-0.001877</td>\n",
       "      <td>0.205351</td>\n",
       "      <td>0.072860</td>\n",
       "    </tr>\n",
       "    <tr>\n",
       "      <th>tenure</th>\n",
       "      <td>-0.001877</td>\n",
       "      <td>1.000000</td>\n",
       "      <td>0.228911</td>\n",
       "      <td>0.857655</td>\n",
       "    </tr>\n",
       "    <tr>\n",
       "      <th>MonthlyCharges</th>\n",
       "      <td>0.205351</td>\n",
       "      <td>0.228911</td>\n",
       "      <td>1.000000</td>\n",
       "      <td>0.585742</td>\n",
       "    </tr>\n",
       "    <tr>\n",
       "      <th>TotalCharges</th>\n",
       "      <td>0.072860</td>\n",
       "      <td>0.857655</td>\n",
       "      <td>0.585742</td>\n",
       "      <td>1.000000</td>\n",
       "    </tr>\n",
       "  </tbody>\n",
       "</table>\n",
       "</div>"
      ],
      "text/plain": [
       "                SeniorCitizen    tenure  MonthlyCharges  TotalCharges\n",
       "SeniorCitizen        1.000000 -0.001877        0.205351      0.072860\n",
       "tenure              -0.001877  1.000000        0.228911      0.857655\n",
       "MonthlyCharges       0.205351  0.228911        1.000000      0.585742\n",
       "TotalCharges         0.072860  0.857655        0.585742      1.000000"
      ]
     },
     "execution_count": 22,
     "metadata": {},
     "output_type": "execute_result"
    }
   ],
   "source": [
    "# Find Correlation between the features\n",
    "df_new.corr()"
   ]
  },
  {
   "cell_type": "code",
   "execution_count": 23,
   "id": "54992dc3",
   "metadata": {},
   "outputs": [
    {
     "data": {
      "text/plain": [
       "<AxesSubplot:>"
      ]
     },
     "execution_count": 23,
     "metadata": {},
     "output_type": "execute_result"
    },
    {
     "data": {
      "image/png": "[encoded data removed]",
      "text/plain": [
       "<Figure size 576x576 with 2 Axes>"
      ]
     },
     "metadata": {
      "needs_background": "light"
     },
     "output_type": "display_data"
    }
   ],
   "source": [
    "# Print the Correlation matrix\n",
    "%matplotlib inline\n",
    "plt.figure(figsize=(8,8))\n",
    "sns.heatmap(df_new.corr(),annot=True)"
   ]
  },
  {
   "cell_type": "markdown",
   "id": "6f552375",
   "metadata": {},
   "source": [
    "#### Feature Selection"
   ]
  },
  {
   "cell_type": "code",
   "execution_count": 24,
   "id": "90951623",
   "metadata": {},
   "outputs": [],
   "source": [
    "# Drop the 'customerId' as it is not relevant for model prediction. Since 'Churn' is the target variable it is dropped\n",
    "x_1=df_new.drop(columns=['customerID','Churn'],axis=1)\n",
    "\n",
    "# Target variable\n",
    "y_1=df_new['Churn']"
   ]
  },
  {
   "cell_type": "markdown",
   "id": "466e3bb3",
   "metadata": {},
   "source": [
    "* Feature Selection using SelectKBest"
   ]
  },
  {
   "cell_type": "code",
   "execution_count": 25,
   "id": "bfe0ba01",
   "metadata": {},
   "outputs": [],
   "source": [
    "# Copy the datasets for feature selection and apply Labelencoding. This is just for feature selection purpose. \n",
    "# We will build pipelines and use Onehotencoding for model preparation\n",
    "x_2=x_1.copy(deep=True)\n",
    "y_2=y_1.copy(deep=True)\n",
    "x_2.columns\n",
    "xlist=['gender', 'Partner', 'Dependents','PhoneService', 'MultipleLines', 'InternetService', 'OnlineSecurity',\n",
    "       'OnlineBackup', 'DeviceProtection', 'TechSupport', 'StreamingTV',\n",
    "       'StreamingMovies', 'Contract', 'PaperlessBilling', 'PaymentMethod'\n",
    "       ]\n",
    "for col in xlist:\n",
    "    label=LabelEncoder()\n",
    "    x_2[col]=label.fit_transform(x_2[col])\n",
    "# x_2.head()\n",
    "\n"
   ]
  },
  {
   "cell_type": "code",
   "execution_count": 26,
   "id": "f1e569a5",
   "metadata": {},
   "outputs": [
    {
     "name": "stdout",
     "output_type": "stream",
     "text": [
      "Scores\n",
      " [2.61033310e-02 2.20518650e+02 1.63955027e+02 2.92718206e+02\n",
      " 3.63784912e+04 1.08530071e-01 2.75168362e+01 1.92408365e+01\n",
      " 1.17211906e+03 4.62906726e+02 4.35119875e+02 1.18321919e+03\n",
      " 2.19693383e+01 2.96558115e+01 2.80199110e+03 1.82069516e+02\n",
      " 1.07839416e+02 6.21718597e+03 1.35829482e+06]\n",
      "\n",
      "Column Names and Scores:\n",
      "gender 0.026103331019653436\n",
      "SeniorCitizen 220.51865032004056\n",
      "Partner 163.9550271243553\n",
      "Dependents 292.71820576782085\n",
      "tenure 36378.491174735405\n",
      "PhoneService 0.1085300706885294\n",
      "MultipleLines 27.516836154184098\n",
      "InternetService 19.240836478379833\n",
      "OnlineSecurity 1172.1190625735837\n",
      "OnlineBackup 462.906726306683\n",
      "DeviceProtection 435.1198754112815\n",
      "TechSupport 1183.2191943043454\n",
      "StreamingTV 21.969338281026385\n",
      "StreamingMovies 29.65581148667586\n",
      "Contract 2801.991098412223\n",
      "PaperlessBilling 182.0695157153629\n",
      "PaymentMethod 107.83941603404827\n",
      "MonthlyCharges 6217.18596550218\n",
      "TotalCharges 1358294.8160234666\n"
     ]
    }
   ],
   "source": [
    "# Use SelectKBest to get the top features based on scores\n",
    "from sklearn.feature_selection import SelectKBest, chi2\n",
    "sk=SelectKBest(chi2, k=10)\n",
    "sk.fit_transform(x_2, y_2)\n",
    "print(\"Scores\\n\",sk.scores_)\n",
    "names=[]\n",
    "scores=[]\n",
    "print(\"\\nColumn Names and Scores:\")\n",
    "for name,score in zip(x_1.columns,sk.scores_):\n",
    "    print(name,score)\n",
    "    names.append(name)\n",
    "    scores.append(score)\n",
    "# scores.sort()\n",
    "# # print(names)\n",
    "# plt.figure(figsize=(20,4))\n",
    "# sns.barplot(x=names,y=scores)\n",
    "# # sk.get_feature_names_out([x_1.columns])\n",
    "# # dtree=DecisionTreeClassifier()\n",
    "# # dtree.fit(x_1,y_1)\n",
    "# # y_pred_dt=dtree.predict(x_test)\n",
    "# # print('Accuracy of Decision Tree model',accuracy_score(y_test,y_pred_dt))"
   ]
  },
  {
   "cell_type": "markdown",
   "id": "f1e6276c",
   "metadata": {},
   "source": [
    "+ We will drop the features with lower scores and only use the top 10 features"
   ]
  },
  {
   "cell_type": "code",
   "execution_count": 27,
   "id": "419f4000",
   "metadata": {},
   "outputs": [
    {
     "data": {
      "text/html": [
       "<div>\n",
       "<style scoped>\n",
       "    .dataframe tbody tr th:only-of-type {\n",
       "        vertical-align: middle;\n",
       "    }\n",
       "\n",
       "    .dataframe tbody tr th {\n",
       "        vertical-align: top;\n",
       "    }\n",
       "\n",
       "    .dataframe thead th {\n",
       "        text-align: right;\n",
       "    }\n",
       "</style>\n",
       "<table border=\"1\" class=\"dataframe\">\n",
       "  <thead>\n",
       "    <tr style=\"text-align: right;\">\n",
       "      <th></th>\n",
       "      <th>SeniorCitizen</th>\n",
       "      <th>Dependents</th>\n",
       "      <th>tenure</th>\n",
       "      <th>OnlineSecurity</th>\n",
       "      <th>OnlineBackup</th>\n",
       "      <th>DeviceProtection</th>\n",
       "      <th>TechSupport</th>\n",
       "      <th>Contract</th>\n",
       "      <th>MonthlyCharges</th>\n",
       "      <th>TotalCharges</th>\n",
       "    </tr>\n",
       "  </thead>\n",
       "  <tbody>\n",
       "    <tr>\n",
       "      <th>2797</th>\n",
       "      <td>0</td>\n",
       "      <td>0</td>\n",
       "      <td>3</td>\n",
       "      <td>0</td>\n",
       "      <td>0</td>\n",
       "      <td>2</td>\n",
       "      <td>0</td>\n",
       "      <td>0</td>\n",
       "      <td>100.95</td>\n",
       "      <td>329.95</td>\n",
       "    </tr>\n",
       "    <tr>\n",
       "      <th>2812</th>\n",
       "      <td>0</td>\n",
       "      <td>0</td>\n",
       "      <td>66</td>\n",
       "      <td>0</td>\n",
       "      <td>2</td>\n",
       "      <td>0</td>\n",
       "      <td>2</td>\n",
       "      <td>1</td>\n",
       "      <td>104.05</td>\n",
       "      <td>6890.00</td>\n",
       "    </tr>\n",
       "    <tr>\n",
       "      <th>3705</th>\n",
       "      <td>0</td>\n",
       "      <td>1</td>\n",
       "      <td>69</td>\n",
       "      <td>2</td>\n",
       "      <td>0</td>\n",
       "      <td>0</td>\n",
       "      <td>2</td>\n",
       "      <td>2</td>\n",
       "      <td>61.40</td>\n",
       "      <td>4059.85</td>\n",
       "    </tr>\n",
       "    <tr>\n",
       "      <th>5768</th>\n",
       "      <td>0</td>\n",
       "      <td>0</td>\n",
       "      <td>44</td>\n",
       "      <td>0</td>\n",
       "      <td>0</td>\n",
       "      <td>0</td>\n",
       "      <td>0</td>\n",
       "      <td>1</td>\n",
       "      <td>90.65</td>\n",
       "      <td>3974.15</td>\n",
       "    </tr>\n",
       "    <tr>\n",
       "      <th>150</th>\n",
       "      <td>0</td>\n",
       "      <td>1</td>\n",
       "      <td>8</td>\n",
       "      <td>0</td>\n",
       "      <td>0</td>\n",
       "      <td>0</td>\n",
       "      <td>2</td>\n",
       "      <td>0</td>\n",
       "      <td>68.55</td>\n",
       "      <td>564.35</td>\n",
       "    </tr>\n",
       "  </tbody>\n",
       "</table>\n",
       "</div>"
      ],
      "text/plain": [
       "      SeniorCitizen  Dependents  tenure  OnlineSecurity  OnlineBackup  \\\n",
       "2797              0           0       3               0             0   \n",
       "2812              0           0      66               0             2   \n",
       "3705              0           1      69               2             0   \n",
       "5768              0           0      44               0             0   \n",
       "150               0           1       8               0             0   \n",
       "\n",
       "      DeviceProtection  TechSupport  Contract  MonthlyCharges  TotalCharges  \n",
       "2797                 2            0         0          100.95        329.95  \n",
       "2812                 0            2         1          104.05       6890.00  \n",
       "3705                 0            2         2           61.40       4059.85  \n",
       "5768                 0            0         1           90.65       3974.15  \n",
       "150                  0            2         0           68.55        564.35  "
      ]
     },
     "execution_count": 27,
     "metadata": {},
     "output_type": "execute_result"
    }
   ],
   "source": [
    "x_1=x_2.drop(columns=['gender','Partner', 'PhoneService', 'MultipleLines', 'InternetService', 'StreamingTV',\n",
    "                 'StreamingMovies', 'PaperlessBilling','PaymentMethod'],axis=1)\n",
    "x_1.head()"
   ]
  },
  {
   "cell_type": "markdown",
   "id": "479afea8",
   "metadata": {},
   "source": [
    "### Model Building and Accuracy test "
   ]
  },
  {
   "cell_type": "markdown",
   "id": "c9658259",
   "metadata": {},
   "source": [
    "#### Building the pipelines"
   ]
  },
  {
   "cell_type": "code",
   "execution_count": 28,
   "id": "d5747733",
   "metadata": {},
   "outputs": [],
   "source": [
    "# Import needed libraries\n",
    "from sklearn.compose import make_column_selector as selector\n",
    "from sklearn.pipeline import Pipeline\n",
    "from sklearn.preprocessing import StandardScaler, OneHotEncoder, LabelEncoder\n",
    "from sklearn.compose import ColumnTransformer\n",
    "mpipe = ColumnTransformer(transformers=\n",
    "       [('num', StandardScaler(), selector(dtype_exclude=\"object\")),\n",
    "       ('cat', OneHotEncoder(), selector(dtype_include=\"object\"))],\n",
    "        remainder='drop')"
   ]
  },
  {
   "cell_type": "code",
   "execution_count": 29,
   "id": "f554d166",
   "metadata": {},
   "outputs": [],
   "source": [
    "# Apply Label Encoding on the Target feature\n",
    "lb=LabelEncoder()\n",
    "y=lb.fit_transform(y_1)"
   ]
  },
  {
   "cell_type": "code",
   "execution_count": 30,
   "id": "4b003f29",
   "metadata": {},
   "outputs": [],
   "source": [
    "# Apply the scaling and encoding to the dataset\n",
    "x=mpipe.fit_transform(x_1)"
   ]
  },
  {
   "cell_type": "code",
   "execution_count": 31,
   "id": "4cccef9e",
   "metadata": {},
   "outputs": [],
   "source": [
    "# Split the dataset into train and test data\n",
    "x_train,x_test,y_train,y_test=train_test_split(x,y,test_size=0.20,random_state=2)\n"
   ]
  },
  {
   "cell_type": "markdown",
   "id": "54953990",
   "metadata": {},
   "source": [
    "##### Logistic Regression model"
   ]
  },
  {
   "cell_type": "code",
   "execution_count": 32,
   "id": "a1ee65e6",
   "metadata": {},
   "outputs": [
    {
     "data": {
      "text/plain": [
       "LogisticRegression(max_iter=200, penalty='l1', solver='liblinear')"
      ]
     },
     "execution_count": 32,
     "metadata": {},
     "output_type": "execute_result"
    }
   ],
   "source": [
    "# Create the classifier\n",
    "lr=LogisticRegression(max_iter=200,penalty='l1',solver='liblinear')\n",
    "\n",
    "#Train the model using the training set\n",
    "lr.fit(x_train,y_train)"
   ]
  },
  {
   "cell_type": "code",
   "execution_count": 33,
   "id": "bed2ed67",
   "metadata": {},
   "outputs": [
    {
     "name": "stdout",
     "output_type": "stream",
     "text": [
      "Accuracy of Training model using Logistic Regression 0.7574617811210871\n"
     ]
    }
   ],
   "source": [
    "# Train the model\n",
    "from sklearn.metrics import accuracy_score\n",
    "from sklearn.metrics import mean_squared_error\n",
    "y_train_pred=lr.predict(x_train)\n",
    "acc_train=accuracy_score(y_train,y_train_pred)\n",
    "print('Accuracy of Training model using Logistic Regression', acc_train)"
   ]
  },
  {
   "cell_type": "code",
   "execution_count": 34,
   "id": "8f71aca3",
   "metadata": {},
   "outputs": [
    {
     "name": "stdout",
     "output_type": "stream",
     "text": [
      "Accuracy of Test model using Logistic Regression 0.762251334303736\n",
      "Classification report of test model with Logistic regression\n",
      "                precision    recall  f1-score   support\n",
      "\n",
      "           0       0.77      0.74      0.75      1023\n",
      "           1       0.75      0.79      0.77      1038\n",
      "\n",
      "    accuracy                           0.76      2061\n",
      "   macro avg       0.76      0.76      0.76      2061\n",
      "weighted avg       0.76      0.76      0.76      2061\n",
      "\n"
     ]
    }
   ],
   "source": [
    "# #Predict the test dataset\n",
    "y_test_pred=lr.predict(x_test)\n",
    "acc_test=accuracy_score(y_test,y_test_pred)\n",
    "print('Accuracy of Test model using Logistic Regression',acc_test)\n",
    "print('Classification report of test model with Logistic regression\\n ', classification_report(y_test,y_test_pred))"
   ]
  },
  {
   "cell_type": "code",
   "execution_count": 35,
   "id": "55f7e4ce",
   "metadata": {},
   "outputs": [
    {
     "name": "stdout",
     "output_type": "stream",
     "text": [
      "0.7564907325684025\n"
     ]
    }
   ],
   "source": [
    "# Use cross validation to get the accuracy score of the train model\n",
    "from sklearn.model_selection import cross_val_score\n",
    "from sklearn.model_selection import StratifiedKFold\n",
    "cv=StratifiedKFold(n_splits=10, random_state=None, shuffle=False)\n",
    "c_score=cross_val_score(lr,x_train,y_train,cv=cv,n_jobs=-1)\n",
    "print(c_score.mean())"
   ]
  },
  {
   "cell_type": "markdown",
   "id": "ea3832c8",
   "metadata": {},
   "source": [
    "##### Hyperparameter tunning"
   ]
  },
  {
   "cell_type": "code",
   "execution_count": 36,
   "id": "3aeed06f",
   "metadata": {},
   "outputs": [
    {
     "name": "stdout",
     "output_type": "stream",
     "text": [
      "Fitting 5 folds for each of 15 candidates, totalling 75 fits\n",
      "LogisticRegression(penalty='l1', solver='saga')\n",
      "{'penalty': 'l1', 'solver': 'saga'}\n"
     ]
    }
   ],
   "source": [
    "import warnings\n",
    "warnings.filterwarnings('ignore')\n",
    "from sklearn.model_selection import GridSearchCV\n",
    "lr_grid=LogisticRegression()\n",
    "params= {'penalty':['l1', 'l2', 'elasticnet'],'solver':['newton-cg', 'lbfgs', 'liblinear', 'sag', 'saga']}\n",
    "grid_lr=GridSearchCV(lr_grid,param_grid = params, cv = 5, verbose=True, n_jobs=-1)\n",
    "fit_lr = grid_lr.fit(x_train, y_train)\n",
    "print(fit_lr.best_estimator_)\n",
    "print(fit_lr.best_params_)\n"
   ]
  },
  {
   "cell_type": "code",
   "execution_count": 37,
   "id": "87b30b3b",
   "metadata": {},
   "outputs": [
    {
     "name": "stdout",
     "output_type": "stream",
     "text": [
      "Accuracy of Training model using Logistic Regression 0.762251334303736\n",
      "Confusion matrix using Logistic Regression [[752 271]\n",
      " [219 819]]\n"
     ]
    }
   ],
   "source": [
    "# Model building with best parameters\n",
    "# Create the classifier\n",
    "lr1=LogisticRegression(max_iter=200,penalty='l1',solver='saga')\n",
    "\n",
    "#Train the model using the training set\n",
    "lr1.fit(x_train,y_train)\n",
    "\n",
    "# Predict the dataset\n",
    "y_test_pred1=lr1.predict(x_test)\n",
    "\n",
    "print('Accuracy of Training model using Logistic Regression', accuracy_score(y_test,y_test_pred1))\n",
    "print('Confusion matrix using Logistic Regression', confusion_matrix(y_test,y_test_pred1))"
   ]
  },
  {
   "cell_type": "code",
   "execution_count": 38,
   "id": "9c342d6a",
   "metadata": {},
   "outputs": [
    {
     "data": {
      "text/plain": [
       "Text(0.5, 1.0, 'Confusion Matrix - Logistic Regression')"
      ]
     },
     "execution_count": 38,
     "metadata": {},
     "output_type": "execute_result"
    },
    {
     "data": {
      "image/png": "[encoded data removed]",
      "text/plain": [
       "<Figure size 720x720 with 2 Axes>"
      ]
     },
     "metadata": {
      "needs_background": "light"
     },
     "output_type": "display_data"
    }
   ],
   "source": [
    "# Confusion matrix for the test data\n",
    "%matplotlib inline\n",
    "plt.figure(figsize=(10,10))\n",
    "from sklearn.metrics import confusion_matrix\n",
    "conf=confusion_matrix(y_test, y_test_pred1)\n",
    "sns.heatmap(conf,annot=True, cmap=\"Blues\")\n",
    "plt.title('Confusion Matrix - Logistic Regression')"
   ]
  },
  {
   "cell_type": "code",
   "execution_count": 39,
   "id": "d75a63d7",
   "metadata": {},
   "outputs": [
    {
     "name": "stdout",
     "output_type": "stream",
     "text": [
      "Accuracy of Train set using Stocashtic Gradient Classifier 0.7460567823343849\n",
      "Accuracy of Test  set  using Stocashtic Gradient Classifier 0.7588549247937895\n"
     ]
    }
   ],
   "source": [
    "# Train and Test the Stocashtic model\n",
    "from sklearn.linear_model import SGDClassifier\n",
    "clf=SGDClassifier(loss='log',tol=1e-4,shuffle=True,learning_rate='optimal')\n",
    "clf.fit(x_train,np.ravel(y_train))\n",
    "\n",
    "y_train_clf=clf.predict(x_train)\n",
    "acc_train_clf=accuracy_score(y_train,y_train_clf)\n",
    "\n",
    "#Predict the test dataset\n",
    "y_test_clf=clf.predict(x_test)\n",
    "acc_test_clf=accuracy_score(y_test,y_test_clf)\n",
    "\n",
    "print('Accuracy of Train set using Stocashtic Gradient Classifier', acc_train_clf)\n",
    "print('Accuracy of Test  set  using Stocashtic Gradient Classifier', acc_test_clf)"
   ]
  },
  {
   "cell_type": "markdown",
   "id": "fd33b60b",
   "metadata": {},
   "source": [
    "##### Decision Tree model"
   ]
  },
  {
   "cell_type": "code",
   "execution_count": 40,
   "id": "9928a21d",
   "metadata": {},
   "outputs": [
    {
     "name": "stdout",
     "output_type": "stream",
     "text": [
      "Decision Tree model accuracy- 0.8728772440562833\n",
      "Decison tree model Classification Report\n",
      "               precision    recall  f1-score   support\n",
      "\n",
      "           0       0.92      0.81      0.86      1023\n",
      "           1       0.84      0.93      0.88      1038\n",
      "\n",
      "    accuracy                           0.87      2061\n",
      "   macro avg       0.88      0.87      0.87      2061\n",
      "weighted avg       0.88      0.87      0.87      2061\n",
      "\n"
     ]
    }
   ],
   "source": [
    "# Create the Decision tree Classifier and train the model\n",
    "dtree=DecisionTreeClassifier()\n",
    "dtree.fit(x_train,y_train)\n",
    "\n",
    "#Predict the test dataset\n",
    "y_pred_dt=dtree.predict(x_test)\n",
    "print('Decision Tree model accuracy-',accuracy_score(y_test,y_pred_dt))\n",
    "print('Decison tree model Classification Report\\n',classification_report(y_test,y_pred_dt))"
   ]
  },
  {
   "cell_type": "markdown",
   "id": "af912c54",
   "metadata": {},
   "source": [
    "###### Hyperparameter tunning"
   ]
  },
  {
   "cell_type": "code",
   "execution_count": 41,
   "id": "442bb01d",
   "metadata": {},
   "outputs": [
    {
     "name": "stdout",
     "output_type": "stream",
     "text": [
      "Fitting 5 folds for each of 6 candidates, totalling 30 fits\n",
      "DecisionTreeClassifier(max_depth=20, splitter='random')\n",
      "{'max_depth': 20, 'splitter': 'random'}\n"
     ]
    }
   ],
   "source": [
    "from sklearn.model_selection import GridSearchCV\n",
    "params= {'splitter':['best','random'],'max_depth':[10, 20, 50]}\n",
    "grid_dtree=GridSearchCV(dtree,param_grid = params, cv = 5, verbose=True, n_jobs=-1)\n",
    "fit_dtree = grid_dtree.fit(x_train, y_train)\n",
    "print(fit_dtree.best_estimator_)\n",
    "print(fit_dtree.best_params_)"
   ]
  },
  {
   "cell_type": "code",
   "execution_count": 42,
   "id": "f3aa74a9",
   "metadata": {},
   "outputs": [
    {
     "name": "stdout",
     "output_type": "stream",
     "text": [
      "Decision Tree model accuracy- 0.873847646773411\n",
      "Decison tree model Confusion Matrix\n",
      " [[825 198]\n",
      " [ 62 976]]\n"
     ]
    }
   ],
   "source": [
    "dtree1=DecisionTreeClassifier(max_depth=50,splitter='random')\n",
    "dtree1.fit(x_train,y_train)\n",
    "\n",
    "#Predict the test dataset\n",
    "y_pred_dt1=dtree1.predict(x_test)\n",
    "print('Decision Tree model accuracy-',accuracy_score(y_test,y_pred_dt1))\n",
    "print('Decison tree model Confusion Matrix\\n',confusion_matrix(y_test,y_pred_dt1))"
   ]
  },
  {
   "cell_type": "code",
   "execution_count": 43,
   "id": "a957897c",
   "metadata": {},
   "outputs": [
    {
     "data": {
      "text/plain": [
       "Text(0.5, 1.0, 'Confusion Matrix - Decision Tree')"
      ]
     },
     "execution_count": 43,
     "metadata": {},
     "output_type": "execute_result"
    },
    {
     "data": {
      "image/png": "[encoded data removed]",
      "text/plain": [
       "<Figure size 720x720 with 2 Axes>"
      ]
     },
     "metadata": {
      "needs_background": "light"
     },
     "output_type": "display_data"
    }
   ],
   "source": [
    "# Confusion matrix for the test data\n",
    "%matplotlib inline\n",
    "plt.figure(figsize=(10,10))\n",
    "from sklearn.metrics import confusion_matrix\n",
    "conf=confusion_matrix(y_test, y_pred_dt1)\n",
    "sns.heatmap(conf,annot=True, cmap=\"Blues\")\n",
    "plt.title('Confusion Matrix - Decision Tree')"
   ]
  },
  {
   "cell_type": "markdown",
   "id": "d29e1d51",
   "metadata": {},
   "source": [
    "Observation : The best accuracy for Decision tree is achieved with parameters = {'max_depth': 50, 'splitter': 'random'}"
   ]
  },
  {
   "cell_type": "markdown",
   "id": "8c2cb419",
   "metadata": {},
   "source": [
    "#### Random Forest model"
   ]
  },
  {
   "cell_type": "code",
   "execution_count": 44,
   "id": "d19d08e3",
   "metadata": {},
   "outputs": [
    {
     "name": "stdout",
     "output_type": "stream",
     "text": [
      "Random Forest model accuracy- 0.905870936438622\n",
      "Random Forest model Confusion Matrix\n",
      " [[882 141]\n",
      " [ 53 985]]\n"
     ]
    }
   ],
   "source": [
    "# Create the Classifier and train the model\n",
    "rf=RandomForestClassifier()\n",
    "rf.fit(x_train,y_train)\n",
    "\n",
    "#Predict the test dataset\n",
    "y_pred_rf=rf.predict(x_test)\n",
    "print('Random Forest model accuracy-',accuracy_score(y_test,y_pred_rf))\n",
    "print('Random Forest model Confusion Matrix\\n',confusion_matrix(y_test,y_pred_rf))"
   ]
  },
  {
   "cell_type": "markdown",
   "id": "50f73391",
   "metadata": {},
   "source": [
    "###### Hyperparameter tunning"
   ]
  },
  {
   "cell_type": "code",
   "execution_count": 45,
   "id": "fd10de60",
   "metadata": {},
   "outputs": [
    {
     "name": "stdout",
     "output_type": "stream",
     "text": [
      "Fitting 5 folds for each of 9 candidates, totalling 45 fits\n",
      "RandomForestClassifier(max_features='sqrt', n_estimators=200)\n",
      "{'max_features': 'sqrt', 'n_estimators': 200}\n"
     ]
    }
   ],
   "source": [
    "from sklearn.model_selection import GridSearchCV\n",
    "params= {'n_estimators':[100,200,500],'max_features':['auto', 'sqrt', 'log2']}\n",
    "grid_rf=GridSearchCV(rf,param_grid = params, cv = 5, verbose=True, n_jobs=-1)\n",
    "fit_rf = grid_rf.fit(x_train, y_train)\n",
    "print(fit_rf.best_estimator_)\n",
    "print(fit_rf.best_params_)"
   ]
  },
  {
   "cell_type": "code",
   "execution_count": 46,
   "id": "303ccbe9",
   "metadata": {},
   "outputs": [
    {
     "name": "stdout",
     "output_type": "stream",
     "text": [
      "Random Forest model accuracy- 0.9044153323629306\n",
      "Random Forest model Confusion matrix\n",
      " [[880 143]\n",
      " [ 54 984]]\n"
     ]
    }
   ],
   "source": [
    "# Train with the best parameters\n",
    "rfbest=RandomForestClassifier(n_estimators = 100, max_features='auto' )\n",
    "rfbest.fit(x_train,y_train)\n",
    "\n",
    "#Predict the test dataset\n",
    "y_pred_rfbest=rfbest.predict(x_test)\n",
    "print('Random Forest model accuracy-',accuracy_score(y_test,y_pred_rfbest))\n",
    "print('Random Forest model Confusion matrix\\n',confusion_matrix(y_test,y_pred_rfbest))"
   ]
  },
  {
   "cell_type": "code",
   "execution_count": 47,
   "id": "4973b532",
   "metadata": {},
   "outputs": [
    {
     "data": {
      "text/plain": [
       "Text(0.5, 1.0, 'Confusion Matrix - Random Forest')"
      ]
     },
     "execution_count": 47,
     "metadata": {},
     "output_type": "execute_result"
    },
    {
     "data": {
      "image/png": "[encoded data removed]",
      "text/plain": [
       "<Figure size 720x720 with 2 Axes>"
      ]
     },
     "metadata": {
      "needs_background": "light"
     },
     "output_type": "display_data"
    }
   ],
   "source": [
    "# Confusion matrix for the test data\n",
    "%matplotlib inline\n",
    "plt.figure(figsize=(10,10))\n",
    "from sklearn.metrics import confusion_matrix\n",
    "conf=confusion_matrix(y_test, y_pred_rfbest)\n",
    "sns.heatmap(conf,annot=True, cmap=\"Blues\")\n",
    "plt.title('Confusion Matrix - Random Forest')"
   ]
  },
  {
   "cell_type": "markdown",
   "id": "917643f0",
   "metadata": {},
   "source": [
    "Observation : The best accuracy for Random Forest is achieved with default parameters"
   ]
  },
  {
   "cell_type": "markdown",
   "id": "2928f148",
   "metadata": {},
   "source": [
    "##### Extra Tree Classifier model"
   ]
  },
  {
   "cell_type": "code",
   "execution_count": 48,
   "id": "b32f9610",
   "metadata": {},
   "outputs": [
    {
     "name": "stdout",
     "output_type": "stream",
     "text": [
      "Accuracy with Extra Tree Classifier model 0.8990781174187288\n",
      "Extra Tree model Classification Report\n",
      "               precision    recall  f1-score   support\n",
      "\n",
      "           0       0.93      0.86      0.89      1023\n",
      "           1       0.87      0.93      0.90      1038\n",
      "\n",
      "    accuracy                           0.90      2061\n",
      "   macro avg       0.90      0.90      0.90      2061\n",
      "weighted avg       0.90      0.90      0.90      2061\n",
      "\n"
     ]
    }
   ],
   "source": [
    "# Create the Classifier and train the model\n",
    "etc=ExtraTreesClassifier()\n",
    "etc.fit(x_train,y_train)\n",
    "\n",
    "#Predict the test dataset\n",
    "y_pred_etc=etc.predict(x_test)\n",
    "print('Accuracy with Extra Tree Classifier model',accuracy_score(y_test,y_pred_etc))\n",
    "print('Extra Tree model Classification Report\\n',classification_report(y_test,y_pred_etc))"
   ]
  },
  {
   "cell_type": "code",
   "execution_count": 52,
   "id": "5c33766f",
   "metadata": {},
   "outputs": [
    {
     "name": "stdout",
     "output_type": "stream",
     "text": [
      "Accuracy with Extra Tree Classifier model 0.9039301310043668\n"
     ]
    }
   ],
   "source": [
    "from sklearn.ensemble import AdaBoostClassifier\n",
    "ada_clf = AdaBoostClassifier(DecisionTreeClassifier(), n_estimators=500,learning_rate=0.05)\n",
    "ada_clf.fit(x_train,y_train)\n",
    "y_pred_ada=ada_clf.predict(x_test)\n",
    "print('Accuracy with AdaBoost model',accuracy_score(y_test,y_pred_ada))"
   ]
  },
  {
   "cell_type": "code",
   "execution_count": 53,
   "id": "c40e1f0d",
   "metadata": {},
   "outputs": [
    {
     "name": "stdout",
     "output_type": "stream",
     "text": [
      "Fitting 5 folds for each of 9 candidates, totalling 45 fits\n",
      "AdaBoostClassifier(base_estimator=DecisionTreeClassifier(), learning_rate=0.1,\n",
      "                   n_estimators=500)\n",
      "{'learning_rate': 0.1, 'n_estimators': 500}\n"
     ]
    }
   ],
   "source": [
    "from sklearn.model_selection import GridSearchCV\n",
    "params= {'n_estimators':[100,200,500],'learning_rate':[0.01, 0.05, 0.1]}\n",
    "grid_ada=GridSearchCV(ada_clf,param_grid = params, cv = 5, verbose=True, n_jobs=-1)\n",
    "fit_ada = grid_ada.fit(x_train, y_train)\n",
    "print(fit_ada.best_estimator_)\n",
    "print(fit_ada.best_params_)"
   ]
  },
  {
   "cell_type": "code",
   "execution_count": 54,
   "id": "8d62c530",
   "metadata": {},
   "outputs": [
    {
     "name": "stdout",
     "output_type": "stream",
     "text": [
      "Accuracy with Extra Tree Classifier model 0.9102377486656963\n"
     ]
    }
   ],
   "source": [
    "from sklearn.ensemble import AdaBoostClassifier\n",
    "ada_clf = AdaBoostClassifier(DecisionTreeClassifier(), n_estimators=500,learning_rate=0.1)\n",
    "ada_clf.fit(x_train,y_train)\n",
    "y_pred_ada=ada_clf.predict(x_test)\n",
    "print('Accuracy with Extra Tree Classifier model',accuracy_score(y_test,y_pred_ada))"
   ]
  },
  {
   "cell_type": "markdown",
   "id": "2a57a09b",
   "metadata": {},
   "source": [
    "##### Gaussian Naive Bayes model"
   ]
  },
  {
   "cell_type": "code",
   "execution_count": 48,
   "id": "27cc6935",
   "metadata": {},
   "outputs": [
    {
     "name": "stdout",
     "output_type": "stream",
     "text": [
      "Accuracy with Gaussian Naive Bayes model: 0.75254730713246\n"
     ]
    }
   ],
   "source": [
    "from sklearn.naive_bayes import GaussianNB\n",
    "\n",
    "# Create a Gaussian Classifier\n",
    "gnb = GaussianNB()\n",
    "\n",
    "#Train the model using the training set\n",
    "gnb.fit(x_train, y_train)\n",
    "\n",
    "#Predict the test dataset\n",
    "y_pred_gnb = gnb.predict(x_test)\n",
    "\n",
    "print(\"Accuracy with Gaussian Naive Bayes model:\", accuracy_score(y_test, y_pred_gnb))"
   ]
  },
  {
   "cell_type": "markdown",
   "id": "09dc78e1",
   "metadata": {},
   "source": [
    "##### PCA"
   ]
  },
  {
   "cell_type": "code",
   "execution_count": 49,
   "id": "d2a41eb9",
   "metadata": {},
   "outputs": [],
   "source": [
    "from sklearn.decomposition import PCA\n",
    "# reduce dimensionality to 4\n",
    "pca=PCA(n_components=4)"
   ]
  },
  {
   "cell_type": "code",
   "execution_count": 50,
   "id": "180a9b34",
   "metadata": {},
   "outputs": [
    {
     "data": {
      "text/plain": [
       "array([0.34128288, 0.16811626, 0.09044653, 0.08204189])"
      ]
     },
     "execution_count": 50,
     "metadata": {},
     "output_type": "execute_result"
    }
   ],
   "source": [
    "# Fit the dataset and check the variance ratio\n",
    "fit_pca=pca.fit_transform(x)\n",
    "x_pca=pd.DataFrame(data=fit_pca,columns=['PC1', 'PC2', 'PC3','PC4'])\n",
    "pca.explained_variance_ratio_"
   ]
  },
  {
   "cell_type": "code",
   "execution_count": 51,
   "id": "7db9b9c6",
   "metadata": {},
   "outputs": [
    {
     "name": "stdout",
     "output_type": "stream",
     "text": [
      "Accuracy of Logistic Regression with PCA: 0.7486656962639495\n"
     ]
    }
   ],
   "source": [
    "# Apply the Logistic Regression to the PCA dataset \n",
    "x_train, x_test, y_train, y_test = train_test_split(x_pca, y, test_size = 0.2, random_state=1)\n",
    "lg=LogisticRegression(penalty='l1', C=0.1, solver='saga') \n",
    "lg.fit(x_train, y_train)\n",
    "\n",
    "y_pred_lg = lg.predict(x_test)\n",
    "\n",
    "from sklearn import metrics\n",
    "\n",
    "# Model Accuracy\n",
    "print(\"Accuracy of Logistic Regression with PCA:\", metrics.accuracy_score(y_test, y_pred_lg))"
   ]
  },
  {
   "cell_type": "markdown",
   "id": "52338d94",
   "metadata": {},
   "source": [
    "#### SVM"
   ]
  },
  {
   "cell_type": "code",
   "execution_count": 52,
   "id": "ddf4725a",
   "metadata": {},
   "outputs": [
    {
     "name": "stdout",
     "output_type": "stream",
     "text": [
      "[[707 308]\n",
      " [195 851]]\n",
      "              precision    recall  f1-score   support\n",
      "\n",
      "           0       0.78      0.70      0.74      1015\n",
      "           1       0.73      0.81      0.77      1046\n",
      "\n",
      "    accuracy                           0.76      2061\n",
      "   macro avg       0.76      0.76      0.75      2061\n",
      "weighted avg       0.76      0.76      0.76      2061\n",
      "\n",
      "Acuuracy with SVM 0.7559437166424066\n"
     ]
    }
   ],
   "source": [
    "from sklearn.svm import SVC\n",
    "# Creating the classifier\n",
    "# svc = SVC(kernel='linear') \n",
    "svc = SVC()\n",
    "# svc=SVC(kernel=\"poly\", degree=3)\n",
    "\n",
    "# Fit the data\n",
    "svc.fit(x_train, y_train) \n",
    "\n",
    "# Predict the test dataset\n",
    "y_pred_svc = svc.predict(x_test)\n",
    "\n",
    "print(confusion_matrix(y_test,y_pred_svc))\n",
    "print(classification_report(y_test,y_pred_svc))\n",
    "print(\"Acuuracy with SVM\",accuracy_score(y_test,y_pred_svc))"
   ]
  },
  {
   "cell_type": "markdown",
   "id": "e1db4fb6",
   "metadata": {},
   "source": [
    "##### Hyperparameter tunning"
   ]
  },
  {
   "cell_type": "code",
   "execution_count": 53,
   "id": "64e1759a",
   "metadata": {},
   "outputs": [
    {
     "name": "stdout",
     "output_type": "stream",
     "text": [
      "Fitting 3 folds for each of 9 candidates, totalling 27 fits\n",
      "SVC(C=10)\n",
      "{'C': 10, 'kernel': 'rbf'}\n"
     ]
    }
   ],
   "source": [
    "parameters = {'kernel':['linear', 'rbf', 'poly'], 'C':[1, 5, 10]}\n",
    "grid_svc = GridSearchCV(svc, param_grid = parameters, cv = 3, verbose=True, n_jobs=-1)\n",
    "fit_svc = grid_svc.fit(x_train, y_train)\n",
    "print(fit_svc.best_estimator_)\n",
    "print(fit_svc.best_params_)"
   ]
  },
  {
   "cell_type": "code",
   "execution_count": 54,
   "id": "0814fa81",
   "metadata": {},
   "outputs": [
    {
     "name": "stdout",
     "output_type": "stream",
     "text": [
      "              precision    recall  f1-score   support\n",
      "\n",
      "           0       0.78      0.71      0.74      1015\n",
      "           1       0.74      0.81      0.77      1046\n",
      "\n",
      "    accuracy                           0.76      2061\n",
      "   macro avg       0.76      0.76      0.76      2061\n",
      "weighted avg       0.76      0.76      0.76      2061\n",
      "\n",
      "Acuuracy with SVM 0.7583697234352256\n"
     ]
    }
   ],
   "source": [
    "# Model buld with the best parameters\n",
    "svc1 = SVC(kernel='rbf',C=10)\n",
    "\n",
    "# Fit the data\n",
    "svc1.fit(x_train, y_train) \n",
    "\n",
    "# Predict the test dataset\n",
    "y_pred_svc1 = svc1.predict(x_test)\n",
    "\n",
    "print(classification_report(y_test,y_pred_svc1))\n",
    "print(\"Acuuracy with SVM\",accuracy_score(y_test,y_pred_svc1))"
   ]
  },
  {
   "cell_type": "code",
   "execution_count": 58,
   "id": "b8cf464a",
   "metadata": {},
   "outputs": [
    {
     "name": "stdout",
     "output_type": "stream",
     "text": [
      "              precision    recall  f1-score   support\n",
      "\n",
      "           0       0.76      0.71      0.74      1015\n",
      "           1       0.74      0.79      0.76      1046\n",
      "\n",
      "    accuracy                           0.75      2061\n",
      "   macro avg       0.75      0.75      0.75      2061\n",
      "weighted avg       0.75      0.75      0.75      2061\n",
      "\n",
      "Acuuracy with SVM 0.7486656962639495\n"
     ]
    }
   ],
   "source": [
    "# Model buld with the best parameters\n",
    "from sklearn.svm import SVC\n",
    "svc_poly = SVC(kernel='poly',degree=5, coef0=0.1, C=5)\n",
    "\n",
    "# Fit the data\n",
    "svc_poly.fit(x_train, y_train) \n",
    "\n",
    "# Predict the test dataset\n",
    "y_pred_svcpoly = svc_poly.predict(x_test)\n",
    "\n",
    "print(classification_report(y_test,y_pred_svcpoly))\n",
    "print(\"Acuuracy with SVM\",accuracy_score(y_test,y_pred_svcpoly))"
   ]
  },
  {
   "cell_type": "code",
   "execution_count": null,
   "id": "a0ee3d64",
   "metadata": {},
   "outputs": [],
   "source": []
  },
  {
   "cell_type": "markdown",
   "id": "0af4ea39",
   "metadata": {},
   "source": [
    "### Observations\n",
    "The models and corresponding accuracy used to train the model\n",
    "<br></br>\n",
    "<table >\n",
    "<tr><th >Model <th><th> Accuracy <tr><tr>\n",
    "<tr><td> Logistic Regression <td><td> 76.22 <td><tr>\n",
    "    <tr><td> Stocashtic Gradient <td><td> 75.44 <td><tr>\n",
    "        <tr><td> Decision Tree  <td><td> 88.88 <td><tr>\n",
    "            <tr><td> Random Forest <td><td> 90.29 <td><tr>\n",
    "                <tr><td> Extree Tree  <td><td> 89.86 <td><tr>\n",
    "                    <tr><td> Gaussian Naive Bayes  <td><td> 75.25 <td><tr>\n",
    "                         <tr><td> Logistic with PCA  <td><td> 74.86 <td><tr>\n",
    "                        <tr><td> SVM  <td><td> 75.83 <td><tr>\n",
    "<table>"
   ]
  },
  {
   "cell_type": "code",
   "execution_count": null,
   "id": "48aade1c",
   "metadata": {},
   "outputs": [],
   "source": []
  }
 ],
 "metadata": {
  "kernelspec": {
   "display_name": "Python 3 (ipykernel)",
   "language": "python",
   "name": "python3"
  },
  "language_info": {
   "codemirror_mode": {
    "name": "ipython",
    "version": 3
   },
   "file_extension": ".py",
   "mimetype": "text/x-python",
   "name": "python",
   "nbconvert_exporter": "python",
   "pygments_lexer": "ipython3",
   "version": "3.8.8"
  }
 },
 "nbformat": 4,
 "nbformat_minor": 5
}
