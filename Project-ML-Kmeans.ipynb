{
 "cells": [
  {
   "cell_type": "markdown",
   "id": "00db14af",
   "metadata": {},
   "source": [
    "<h1><center> Project - PCA and Clustering </center> </h1>\n",
    "<h2><center> COMPSCI X415.2 Intro to Data Science </center> </h2>\n",
    "<h2><center> UC Berkeley - Extension </center> </h2>\n",
    "<h3><center>    Prashant Chopalli </center> </h3>\n"
   ]
  },
  {
   "cell_type": "markdown",
   "id": "0eb680b1",
   "metadata": {},
   "source": [
    "## Introduction\n",
    "The data is related with direct marketing campaigns (phone calls) of a Portuguese banking institution. The classification goal is to predict if the client will subscribe to a term deposit. The data is collected as part of the call campaign made to customer regarding a deposit offer"
   ]
  },
  {
   "cell_type": "markdown",
   "id": "f273b0b5",
   "metadata": {},
   "source": [
    "### Research Questions ###\n",
    "+ Reduction of feature variables using PCA and Cluster the dataset \n",
    "\n"
   ]
  },
  {
   "cell_type": "markdown",
   "id": "8fa2bec1",
   "metadata": {},
   "source": [
    "<h3> Data Source </h3>\n",
    "\n",
    "The marketing campaigns were based on phone calls. Often, more than one contact to the same client was required,\n",
    "in order to access if the product (bank term deposit) would be (or not) subscribed.\n",
    "\n",
    "Client data:\n",
    "+ age (numeric)\n",
    "+ job : type of job (categorical: \"admin.\",\"unknown\",\"unemployed\",\"management\",\"housemaid\",\"entrepreneur\",\"student\",\n",
    "  \"blue-collar\",\"self-employed\",\"retired\",\"technician\",\"services\")\n",
    "+ marital : marital status (categorical: \"married\",\"divorced\",\"single\"; note: \"divorced\" means divorced or widowed)\n",
    "+ education (categorical: \"unknown\",\"secondary\",\"primary\",\"tertiary\")\n",
    "+ default: has credit in default? (binary: \"yes\",\"no\")\n",
    "+ balance: average yearly balance, in euros (numeric)\n",
    "+ housing: has housing loan? (binary: \"yes\",\"no\")\n",
    "+ loan: has personal loan? (binary: \"yes\",\"no\")\n",
    "\n",
    "Attributes for the last contact of the current campaign:\n",
    "+ contact: contact communication type (categorical: \"unknown\",\"telephone\",\"cellular\")\n",
    "+ day: last contact day of the month (numeric)\n",
    "+ month: last contact month of year (categorical: \"jan\", \"feb\", \"mar\", …, \"nov\", \"dec\")\n",
    "+ duration: last contact duration, in seconds (numeric)\n",
    "\n",
    "Other attributes:\n",
    "+ campaign: number of contacts performed during this campaign and for this client (numeric, includes last contact)\n",
    "+ pdays: number of days that passed by after the client was last contacted from a previous campaign (numeric, -1 means client     was not previously contacted)\n",
    "+ previous: number of contacts performed before this campaign and for this client (numeric)\n",
    "+ poutcome: outcome of the previous marketing campaign (categorical: \"unknown\",\"other\",\"failure\",\"success\")\n",
    "\n",
    "Target variable:\n",
    "+ Has the client subscribed a term deposit? (binary: \"yes\",\"no\")\n",
    "\n",
    "<p> <a href=\"http://archive.ics.uci.edu/ml/datasets/Bank+Marketing#\">Original Data Source from UCI Repository. The dataset bank-full.csv was used for this project</a></p>"
   ]
  },
  {
   "cell_type": "markdown",
   "id": "aee5b845",
   "metadata": {},
   "source": [
    "## Data Description"
   ]
  },
  {
   "cell_type": "code",
   "execution_count": 1,
   "id": "84f4324d",
   "metadata": {},
   "outputs": [],
   "source": [
    "# Import the required libraries \n",
    "import numpy as np\n",
    "import pandas as pd\n",
    "import matplotlib.pyplot as plt\n",
    "import seaborn as sns\n",
    "from sklearn.model_selection import train_test_split\n",
    "from sklearn.metrics import accuracy_score\n",
    "from sklearn.model_selection import train_test_split\n",
    "from sklearn.naive_bayes import GaussianNB\n",
    "from sklearn.model_selection import KFold\n",
    "from sklearn.model_selection import cross_validate\n",
    "from sklearn import metrics\n",
    "from sklearn.metrics import classification_report, confusion_matrix\n",
    "from sklearn.preprocessing import StandardScaler\n",
    "from sklearn.neighbors import KNeighborsClassifier"
   ]
  },
  {
   "cell_type": "code",
   "execution_count": 2,
   "id": "877d280e",
   "metadata": {},
   "outputs": [],
   "source": [
    "# Read the data file\n",
    "df=pd.read_csv('bank.csv')"
   ]
  },
  {
   "cell_type": "code",
   "execution_count": 3,
   "id": "7acb37e9",
   "metadata": {},
   "outputs": [
    {
     "data": {
      "text/html": [
       "<div>\n",
       "<style scoped>\n",
       "    .dataframe tbody tr th:only-of-type {\n",
       "        vertical-align: middle;\n",
       "    }\n",
       "\n",
       "    .dataframe tbody tr th {\n",
       "        vertical-align: top;\n",
       "    }\n",
       "\n",
       "    .dataframe thead th {\n",
       "        text-align: right;\n",
       "    }\n",
       "</style>\n",
       "<table border=\"1\" class=\"dataframe\">\n",
       "  <thead>\n",
       "    <tr style=\"text-align: right;\">\n",
       "      <th></th>\n",
       "      <th>age</th>\n",
       "      <th>job</th>\n",
       "      <th>marital</th>\n",
       "      <th>education</th>\n",
       "      <th>default</th>\n",
       "      <th>balance</th>\n",
       "      <th>housing</th>\n",
       "      <th>loan</th>\n",
       "      <th>contact</th>\n",
       "      <th>day</th>\n",
       "      <th>month</th>\n",
       "      <th>duration</th>\n",
       "      <th>campaign</th>\n",
       "      <th>pdays</th>\n",
       "      <th>previous</th>\n",
       "      <th>poutcome</th>\n",
       "      <th>Target</th>\n",
       "    </tr>\n",
       "  </thead>\n",
       "  <tbody>\n",
       "    <tr>\n",
       "      <th>0</th>\n",
       "      <td>58</td>\n",
       "      <td>management</td>\n",
       "      <td>married</td>\n",
       "      <td>tertiary</td>\n",
       "      <td>no</td>\n",
       "      <td>2143</td>\n",
       "      <td>yes</td>\n",
       "      <td>no</td>\n",
       "      <td>unknown</td>\n",
       "      <td>5</td>\n",
       "      <td>may</td>\n",
       "      <td>261</td>\n",
       "      <td>1</td>\n",
       "      <td>-1</td>\n",
       "      <td>0</td>\n",
       "      <td>unknown</td>\n",
       "      <td>no</td>\n",
       "    </tr>\n",
       "    <tr>\n",
       "      <th>1</th>\n",
       "      <td>44</td>\n",
       "      <td>technician</td>\n",
       "      <td>single</td>\n",
       "      <td>secondary</td>\n",
       "      <td>no</td>\n",
       "      <td>29</td>\n",
       "      <td>yes</td>\n",
       "      <td>no</td>\n",
       "      <td>unknown</td>\n",
       "      <td>5</td>\n",
       "      <td>may</td>\n",
       "      <td>151</td>\n",
       "      <td>1</td>\n",
       "      <td>-1</td>\n",
       "      <td>0</td>\n",
       "      <td>unknown</td>\n",
       "      <td>no</td>\n",
       "    </tr>\n",
       "    <tr>\n",
       "      <th>2</th>\n",
       "      <td>33</td>\n",
       "      <td>entrepreneur</td>\n",
       "      <td>married</td>\n",
       "      <td>secondary</td>\n",
       "      <td>no</td>\n",
       "      <td>2</td>\n",
       "      <td>yes</td>\n",
       "      <td>yes</td>\n",
       "      <td>unknown</td>\n",
       "      <td>5</td>\n",
       "      <td>may</td>\n",
       "      <td>76</td>\n",
       "      <td>1</td>\n",
       "      <td>-1</td>\n",
       "      <td>0</td>\n",
       "      <td>unknown</td>\n",
       "      <td>no</td>\n",
       "    </tr>\n",
       "    <tr>\n",
       "      <th>3</th>\n",
       "      <td>47</td>\n",
       "      <td>blue-collar</td>\n",
       "      <td>married</td>\n",
       "      <td>unknown</td>\n",
       "      <td>no</td>\n",
       "      <td>1506</td>\n",
       "      <td>yes</td>\n",
       "      <td>no</td>\n",
       "      <td>unknown</td>\n",
       "      <td>5</td>\n",
       "      <td>may</td>\n",
       "      <td>92</td>\n",
       "      <td>1</td>\n",
       "      <td>-1</td>\n",
       "      <td>0</td>\n",
       "      <td>unknown</td>\n",
       "      <td>no</td>\n",
       "    </tr>\n",
       "    <tr>\n",
       "      <th>4</th>\n",
       "      <td>33</td>\n",
       "      <td>unknown</td>\n",
       "      <td>single</td>\n",
       "      <td>unknown</td>\n",
       "      <td>no</td>\n",
       "      <td>1</td>\n",
       "      <td>no</td>\n",
       "      <td>no</td>\n",
       "      <td>unknown</td>\n",
       "      <td>5</td>\n",
       "      <td>may</td>\n",
       "      <td>198</td>\n",
       "      <td>1</td>\n",
       "      <td>-1</td>\n",
       "      <td>0</td>\n",
       "      <td>unknown</td>\n",
       "      <td>no</td>\n",
       "    </tr>\n",
       "  </tbody>\n",
       "</table>\n",
       "</div>"
      ],
      "text/plain": [
       "   age           job  marital  education default  balance housing loan  \\\n",
       "0   58    management  married   tertiary      no     2143     yes   no   \n",
       "1   44    technician   single  secondary      no       29     yes   no   \n",
       "2   33  entrepreneur  married  secondary      no        2     yes  yes   \n",
       "3   47   blue-collar  married    unknown      no     1506     yes   no   \n",
       "4   33       unknown   single    unknown      no        1      no   no   \n",
       "\n",
       "   contact  day month  duration  campaign  pdays  previous poutcome Target  \n",
       "0  unknown    5   may       261         1     -1         0  unknown     no  \n",
       "1  unknown    5   may       151         1     -1         0  unknown     no  \n",
       "2  unknown    5   may        76         1     -1         0  unknown     no  \n",
       "3  unknown    5   may        92         1     -1         0  unknown     no  \n",
       "4  unknown    5   may       198         1     -1         0  unknown     no  "
      ]
     },
     "execution_count": 3,
     "metadata": {},
     "output_type": "execute_result"
    }
   ],
   "source": [
    "# Display the first 5 entries of the dataframe\n",
    "df.head()"
   ]
  },
  {
   "cell_type": "code",
   "execution_count": 4,
   "id": "29e4ad97",
   "metadata": {},
   "outputs": [
    {
     "data": {
      "text/plain": [
       "(45211, 17)"
      ]
     },
     "execution_count": 4,
     "metadata": {},
     "output_type": "execute_result"
    }
   ],
   "source": [
    "# Display the rows and columns of the dataframe \n",
    "df.shape"
   ]
  },
  {
   "cell_type": "code",
   "execution_count": 5,
   "id": "79432980",
   "metadata": {},
   "outputs": [
    {
     "data": {
      "text/plain": [
       "False    45211\n",
       "Name: Target, dtype: int64"
      ]
     },
     "execution_count": 5,
     "metadata": {},
     "output_type": "execute_result"
    }
   ],
   "source": [
    "# Check if the target variable has any null values\n",
    "df['Target'].isnull().value_counts()"
   ]
  },
  {
   "cell_type": "code",
   "execution_count": 6,
   "id": "871b11be",
   "metadata": {},
   "outputs": [
    {
     "data": {
      "text/html": [
       "<div>\n",
       "<style scoped>\n",
       "    .dataframe tbody tr th:only-of-type {\n",
       "        vertical-align: middle;\n",
       "    }\n",
       "\n",
       "    .dataframe tbody tr th {\n",
       "        vertical-align: top;\n",
       "    }\n",
       "\n",
       "    .dataframe thead th {\n",
       "        text-align: right;\n",
       "    }\n",
       "</style>\n",
       "<table border=\"1\" class=\"dataframe\">\n",
       "  <thead>\n",
       "    <tr style=\"text-align: right;\">\n",
       "      <th></th>\n",
       "      <th>count</th>\n",
       "      <th>mean</th>\n",
       "      <th>std</th>\n",
       "      <th>min</th>\n",
       "      <th>25%</th>\n",
       "      <th>50%</th>\n",
       "      <th>75%</th>\n",
       "      <th>max</th>\n",
       "    </tr>\n",
       "  </thead>\n",
       "  <tbody>\n",
       "    <tr>\n",
       "      <th>age</th>\n",
       "      <td>45211.0</td>\n",
       "      <td>40.936210</td>\n",
       "      <td>10.618762</td>\n",
       "      <td>18.0</td>\n",
       "      <td>33.0</td>\n",
       "      <td>39.0</td>\n",
       "      <td>48.0</td>\n",
       "      <td>95.0</td>\n",
       "    </tr>\n",
       "    <tr>\n",
       "      <th>balance</th>\n",
       "      <td>45211.0</td>\n",
       "      <td>1362.272058</td>\n",
       "      <td>3044.765829</td>\n",
       "      <td>-8019.0</td>\n",
       "      <td>72.0</td>\n",
       "      <td>448.0</td>\n",
       "      <td>1428.0</td>\n",
       "      <td>102127.0</td>\n",
       "    </tr>\n",
       "    <tr>\n",
       "      <th>day</th>\n",
       "      <td>45211.0</td>\n",
       "      <td>15.806419</td>\n",
       "      <td>8.322476</td>\n",
       "      <td>1.0</td>\n",
       "      <td>8.0</td>\n",
       "      <td>16.0</td>\n",
       "      <td>21.0</td>\n",
       "      <td>31.0</td>\n",
       "    </tr>\n",
       "    <tr>\n",
       "      <th>duration</th>\n",
       "      <td>45211.0</td>\n",
       "      <td>258.163080</td>\n",
       "      <td>257.527812</td>\n",
       "      <td>0.0</td>\n",
       "      <td>103.0</td>\n",
       "      <td>180.0</td>\n",
       "      <td>319.0</td>\n",
       "      <td>4918.0</td>\n",
       "    </tr>\n",
       "    <tr>\n",
       "      <th>campaign</th>\n",
       "      <td>45211.0</td>\n",
       "      <td>2.763841</td>\n",
       "      <td>3.098021</td>\n",
       "      <td>1.0</td>\n",
       "      <td>1.0</td>\n",
       "      <td>2.0</td>\n",
       "      <td>3.0</td>\n",
       "      <td>63.0</td>\n",
       "    </tr>\n",
       "    <tr>\n",
       "      <th>pdays</th>\n",
       "      <td>45211.0</td>\n",
       "      <td>40.197828</td>\n",
       "      <td>100.128746</td>\n",
       "      <td>-1.0</td>\n",
       "      <td>-1.0</td>\n",
       "      <td>-1.0</td>\n",
       "      <td>-1.0</td>\n",
       "      <td>871.0</td>\n",
       "    </tr>\n",
       "    <tr>\n",
       "      <th>previous</th>\n",
       "      <td>45211.0</td>\n",
       "      <td>0.580323</td>\n",
       "      <td>2.303441</td>\n",
       "      <td>0.0</td>\n",
       "      <td>0.0</td>\n",
       "      <td>0.0</td>\n",
       "      <td>0.0</td>\n",
       "      <td>275.0</td>\n",
       "    </tr>\n",
       "  </tbody>\n",
       "</table>\n",
       "</div>"
      ],
      "text/plain": [
       "            count         mean          std     min    25%    50%     75%  \\\n",
       "age       45211.0    40.936210    10.618762    18.0   33.0   39.0    48.0   \n",
       "balance   45211.0  1362.272058  3044.765829 -8019.0   72.0  448.0  1428.0   \n",
       "day       45211.0    15.806419     8.322476     1.0    8.0   16.0    21.0   \n",
       "duration  45211.0   258.163080   257.527812     0.0  103.0  180.0   319.0   \n",
       "campaign  45211.0     2.763841     3.098021     1.0    1.0    2.0     3.0   \n",
       "pdays     45211.0    40.197828   100.128746    -1.0   -1.0   -1.0    -1.0   \n",
       "previous  45211.0     0.580323     2.303441     0.0    0.0    0.0     0.0   \n",
       "\n",
       "               max  \n",
       "age           95.0  \n",
       "balance   102127.0  \n",
       "day           31.0  \n",
       "duration    4918.0  \n",
       "campaign      63.0  \n",
       "pdays        871.0  \n",
       "previous     275.0  "
      ]
     },
     "execution_count": 6,
     "metadata": {},
     "output_type": "execute_result"
    }
   ],
   "source": [
    "# Numerical summaries of the features\n",
    "df.describe().T"
   ]
  },
  {
   "cell_type": "code",
   "execution_count": 7,
   "id": "f6269f4c",
   "metadata": {},
   "outputs": [
    {
     "data": {
      "text/plain": [
       "age           int64\n",
       "job          object\n",
       "marital      object\n",
       "education    object\n",
       "default      object\n",
       "balance       int64\n",
       "housing      object\n",
       "loan         object\n",
       "contact      object\n",
       "day           int64\n",
       "month        object\n",
       "duration      int64\n",
       "campaign      int64\n",
       "pdays         int64\n",
       "previous      int64\n",
       "poutcome     object\n",
       "Target       object\n",
       "dtype: object"
      ]
     },
     "execution_count": 7,
     "metadata": {},
     "output_type": "execute_result"
    }
   ],
   "source": [
    "# Show the datatypes of the columns\n",
    "df.dtypes"
   ]
  },
  {
   "cell_type": "code",
   "execution_count": 8,
   "id": "ca535aeb",
   "metadata": {},
   "outputs": [
    {
     "data": {
      "text/plain": [
       "dtype('int64')"
      ]
     },
     "execution_count": 8,
     "metadata": {},
     "output_type": "execute_result"
    }
   ],
   "source": [
    "# Conversion function to convert the variables to integer or numeric form \n",
    "# Marital status: Married = 1 , Single =2 and Divorced =3\n",
    "# Education (\"unknown\"=4,\"secondary\"=2,\"primary\"=1,\"tertiary\"=3)\n",
    "# Default: has credit in default? ( \"yes\"=1,\"no\"=0)\n",
    "# Housing: has housing loan? ( \"yes\"=1,\"no\"=0)\n",
    "# Loan: has personal loan? ( \"yes\"=1,\"no\"=0)\n",
    "# Contact: contact communication type (\"unknown\"=3,\"telephone\"=2,\"cellular\"=1)\n",
    "# Poutcome: outcome of the previous marketing campaign ( \"unknown\"=3,\"other\"=2,\"failure\"=0,\"success\"=1)\n",
    "\n",
    "def marital(x):\n",
    "    if x=='married':\n",
    "        x=1\n",
    "    elif x=='single':\n",
    "        x=2\n",
    "    elif x=='divorced':\n",
    "        x=3\n",
    "    return x\n",
    "\n",
    "def education(x):\n",
    "    if x=='primary':\n",
    "        x=1\n",
    "    elif x=='secondary':\n",
    "        x=2\n",
    "    elif x=='tertiary':\n",
    "        x=3\n",
    "    elif x=='unknown':\n",
    "          x=4\n",
    "    return x\n",
    "\n",
    "\n",
    "def outcome(x):\n",
    "    if x=='failure':\n",
    "        x=0\n",
    "    elif x=='success':\n",
    "        x=1\n",
    "    elif x=='other':\n",
    "        x=2\n",
    "    elif x=='unknown':\n",
    "        x=3\n",
    "    return x\n",
    "\n",
    "def convert(x):\n",
    "    if x=='no':\n",
    "        x=0\n",
    "    elif x=='yes':\n",
    "        x=1\n",
    "    return x\n",
    "\n",
    "def contact(x):\n",
    "    if x=='cellular':\n",
    "        x=1\n",
    "    elif x=='telephone':\n",
    "        x=2\n",
    "    elif x=='unknown':\n",
    "        x=3\n",
    "    return x\n",
    "\n",
    "def job(x):\n",
    "    if x=='blue-collar':\n",
    "        x=1\n",
    "    elif x=='management':\n",
    "        x=2\n",
    "    elif x=='technician':\n",
    "        x=3\n",
    "    elif x=='admin.':\n",
    "        x=4\n",
    "    elif x=='services':\n",
    "        x=5\n",
    "    elif x=='retired':\n",
    "        x=6\n",
    "    elif x=='self-employed':\n",
    "        x=7\n",
    "    elif x=='entrepreneur':\n",
    "        x=8\n",
    "    elif x=='unemployed':\n",
    "        x=9\n",
    "    elif x=='housemaid':\n",
    "        x=10\n",
    "    elif x=='student':\n",
    "        x=11\n",
    "    elif x=='unknown':\n",
    "        x=0\n",
    "    return x\n",
    "\n",
    "def balance(x):\n",
    "    if x<0:\n",
    "        x=0\n",
    "    return x\n",
    "\n",
    "# Apply functions to feature columns and convert to type int\n",
    "df['marital']=df['marital'].apply(marital)\n",
    "df['marital'].astype('int64').dtypes\n",
    "\n",
    "df['education']=df['education'].apply(education)\n",
    "df['education'].astype('int64').dtypes\n",
    "\n",
    "df['default']=df['default'].apply(convert)\n",
    "df['default'].astype('int64').dtypes\n",
    "\n",
    "df['housing']=df['housing'].apply(convert)\n",
    "df['housing'].astype('int64').dtypes\n",
    "\n",
    "df['loan']=df['loan'].apply(convert)\n",
    "df['loan'].astype('int64').dtypes\n",
    "\n",
    "df['contact']=df['contact'].apply(contact)\n",
    "df['contact'].astype('int64').dtypes\n",
    "\n",
    "df['poutcome']=df['poutcome'].apply(outcome)\n",
    "df['poutcome'].astype('int64').dtypes\n",
    "\n",
    "df['job']=df['job'].apply(job)\n",
    "df['job'].astype('int64').dtypes\n",
    "\n",
    "df['balance']= df['balance'].apply(balance)\n",
    "\n",
    "df['Target']=df['Target'].apply(convert)\n",
    "df['Target'].astype('int64').dtypes\n"
   ]
  },
  {
   "cell_type": "code",
   "execution_count": 9,
   "id": "44e04f5d",
   "metadata": {},
   "outputs": [
    {
     "data": {
      "text/plain": [
       "age          0\n",
       "job          0\n",
       "marital      0\n",
       "education    0\n",
       "default      0\n",
       "balance      0\n",
       "housing      0\n",
       "loan         0\n",
       "contact      0\n",
       "day          0\n",
       "month        0\n",
       "duration     0\n",
       "campaign     0\n",
       "pdays        0\n",
       "previous     0\n",
       "poutcome     0\n",
       "Target       0\n",
       "dtype: int64"
      ]
     },
     "execution_count": 9,
     "metadata": {},
     "output_type": "execute_result"
    }
   ],
   "source": [
    "# Check to see if the features have any null values\n",
    "df.isna().sum()"
   ]
  },
  {
   "cell_type": "markdown",
   "id": "8603b80c",
   "metadata": {},
   "source": [
    "## Graphical Summaries"
   ]
  },
  {
   "cell_type": "code",
   "execution_count": 10,
   "id": "3555cd2b",
   "metadata": {},
   "outputs": [
    {
     "data": {
      "image/png": "[encoded data removed]",
      "text/plain": [
       "<Figure size 1440x1440 with 16 Axes>"
      ]
     },
     "metadata": {
      "needs_background": "light"
     },
     "output_type": "display_data"
    }
   ],
   "source": [
    "# Display histogram for the features\n",
    "%matplotlib inline\n",
    "df.hist(figsize=(20,20))\n",
    "plt.show()"
   ]
  },
  {
   "cell_type": "markdown",
   "id": "6fc9efab",
   "metadata": {},
   "source": [
    "#### Observations from the data analysis\n",
    "+ Most customer have a secondary education\n",
    "+ Most calls were between 0-500 seconds\n",
    "+ Most customers didn't have an existing loan\n",
    "+ Most of customer called have atleast an Secondary Education\n",
    "+ Most of the customer were called on the cellular phone"
   ]
  },
  {
   "cell_type": "markdown",
   "id": "304633a5",
   "metadata": {},
   "source": [
    "### Prepare the dataset\n",
    "<p></p>"
   ]
  },
  {
   "cell_type": "code",
   "execution_count": 11,
   "id": "fef96ca5",
   "metadata": {},
   "outputs": [],
   "source": [
    "# Divide the data into dataset with relevant features and dataset for taget variable. The month variables is not used\n",
    "x=df[['age','job','marital', 'education','default', 'balance', 'housing',\n",
    "       'loan', 'contact', 'day', 'duration','campaign', 'pdays',\n",
    "       'previous', 'poutcome']]\n",
    "\n"
   ]
  },
  {
   "cell_type": "markdown",
   "id": "8f7154c1",
   "metadata": {},
   "source": [
    "### Principal Component Reduction"
   ]
  },
  {
   "cell_type": "code",
   "execution_count": 12,
   "id": "88707b9e",
   "metadata": {},
   "outputs": [
    {
     "name": "stdout",
     "output_type": "stream",
     "text": [
      "PCA Components  [[-0.02481334  0.00262343  0.02537452  0.04000614 -0.04304099  0.02276379\n",
      "   0.06521788 -0.02736619 -0.2705902  -0.10458814  0.01412938 -0.11703871\n",
      "   0.58654332  0.44365886 -0.59231611]\n",
      " [ 0.38107804  0.36475636 -0.02607576  0.21690652 -0.10423853  0.31257174\n",
      "  -0.6214487  -0.20245855 -0.35182801  0.08189231  0.02612275  0.03688713\n",
      "  -0.07167725 -0.02006124  0.01329659]]\n",
      "Variance [2.34722749 1.39479331]\n",
      "Variance Ratio [0.15647837 0.09298416]\n"
     ]
    }
   ],
   "source": [
    "# Import the libraries for PCA\n",
    "from sklearn.decomposition import PCA\n",
    "\n",
    "# Scale the data, transform the data\n",
    "scaler = StandardScaler()\n",
    "scaler.fit(x)\n",
    "x=scaler.transform(x)\n",
    "\n",
    "# Reduce the variables to 2 and transform the data\n",
    "pca=PCA(n_components=2)\n",
    "pca.fit(x)\n",
    "x_pca = pca.transform(x)\n",
    "print('PCA Components ', pca.components_)\n",
    "print(\"Variance\", pca.explained_variance_)\n",
    "print('Variance Ratio', pca.explained_variance_ratio_)\n",
    "\n"
   ]
  },
  {
   "cell_type": "markdown",
   "id": "c136e772",
   "metadata": {},
   "source": [
    "#### Observation\n",
    "* Only ~ 25% (15+9) of the variance is explained by the 2 components which is less than 80% for a good estimate"
   ]
  },
  {
   "cell_type": "code",
   "execution_count": 13,
   "id": "86b348ac",
   "metadata": {},
   "outputs": [
    {
     "data": {
      "image/png": "[encoded data removed]",
      "text/plain": [
       "<Figure size 720x720 with 1 Axes>"
      ]
     },
     "metadata": {
      "needs_background": "light"
     },
     "output_type": "display_data"
    }
   ],
   "source": [
    "# Visualization for the PCA components\n",
    "%matplotlib inline\n",
    "plt.figure(figsize=(10,10))\n",
    "plt.title('PCA Reduction')\n",
    "plt.scatter(x_pca[:,0],x_pca[:,1],c=df['Target'],cmap='rainbow')\n",
    "plt.xlabel(\"PCA 1\")\n",
    "plt.ylabel(\"PCA 2\")\n",
    "plt.show()"
   ]
  },
  {
   "cell_type": "markdown",
   "id": "bc255e98",
   "metadata": {},
   "source": [
    "#### Hopkins stats to check the clusterability of the data"
   ]
  },
  {
   "cell_type": "code",
   "execution_count": 14,
   "id": "a0233064",
   "metadata": {},
   "outputs": [
    {
     "name": "stdout",
     "output_type": "stream",
     "text": [
      "Requirement already satisfied: pyclustertend in c:\\users\\cp_mu\\anaconda3\\lib\\site-packages (1.6.2)\n",
      "Requirement already satisfied: numpy<2.0.0,>=1.19.1 in c:\\users\\cp_mu\\anaconda3\\lib\\site-packages (from pyclustertend) (1.19.5)\n",
      "Requirement already satisfied: matplotlib<4.0.0,>=3.3.3 in c:\\users\\cp_mu\\anaconda3\\lib\\site-packages (from pyclustertend) (3.4.3)\n",
      "Requirement already satisfied: scikit-learn<0.25.0,>=0.24.0 in c:\\users\\cp_mu\\anaconda3\\lib\\site-packages (from pyclustertend) (0.24.2)\n",
      "Requirement already satisfied: pandas<2.0.0,>=1.2.0 in c:\\users\\cp_mu\\anaconda3\\lib\\site-packages (from pyclustertend) (1.3.3)\n",
      "Requirement already satisfied: python-dateutil>=2.7 in c:\\users\\cp_mu\\anaconda3\\lib\\site-packages (from matplotlib<4.0.0,>=3.3.3->pyclustertend) (2.8.2)\n",
      "Requirement already satisfied: pillow>=6.2.0 in c:\\users\\cp_mu\\anaconda3\\lib\\site-packages (from matplotlib<4.0.0,>=3.3.3->pyclustertend) (8.4.0)\n",
      "Requirement already satisfied: cycler>=0.10 in c:\\users\\cp_mu\\anaconda3\\lib\\site-packages (from matplotlib<4.0.0,>=3.3.3->pyclustertend) (0.10.0)\n",
      "Requirement already satisfied: kiwisolver>=1.0.1 in c:\\users\\cp_mu\\anaconda3\\lib\\site-packages (from matplotlib<4.0.0,>=3.3.3->pyclustertend) (1.3.1)\n",
      "Requirement already satisfied: pyparsing>=2.2.1 in c:\\users\\cp_mu\\anaconda3\\lib\\site-packages (from matplotlib<4.0.0,>=3.3.3->pyclustertend) (2.4.7)\n",
      "Requirement already satisfied: six in c:\\users\\cp_mu\\anaconda3\\lib\\site-packages (from cycler>=0.10->matplotlib<4.0.0,>=3.3.3->pyclustertend) (1.15.0)\n",
      "Requirement already satisfied: pytz>=2017.3 in c:\\users\\cp_mu\\anaconda3\\lib\\site-packages (from pandas<2.0.0,>=1.2.0->pyclustertend) (2021.3)\n",
      "Requirement already satisfied: scipy>=0.19.1 in c:\\users\\cp_mu\\anaconda3\\lib\\site-packages (from scikit-learn<0.25.0,>=0.24.0->pyclustertend) (1.7.1)\n",
      "Requirement already satisfied: joblib>=0.11 in c:\\users\\cp_mu\\anaconda3\\lib\\site-packages (from scikit-learn<0.25.0,>=0.24.0->pyclustertend) (1.0.1)\n",
      "Requirement already satisfied: threadpoolctl>=2.0.0 in c:\\users\\cp_mu\\anaconda3\\lib\\site-packages (from scikit-learn<0.25.0,>=0.24.0->pyclustertend) (2.2.0)\n",
      "Note: you may need to restart the kernel to use updated packages.\n"
     ]
    }
   ],
   "source": [
    "# Install the pyclusterend library\n",
    "%pip install pyclustertend\n",
    "from pyclustertend import hopkins\n"
   ]
  },
  {
   "cell_type": "code",
   "execution_count": 15,
   "id": "12e94d30",
   "metadata": {},
   "outputs": [
    {
     "name": "stdout",
     "output_type": "stream",
     "text": [
      "Hopkins Score is  0.023420236778116364\n"
     ]
    }
   ],
   "source": [
    "#Get the library for the Hopkins score\n",
    "from sklearn.cluster import KMeans\n",
    "print(\"Hopkins Score is \", hopkins(x,200))\n"
   ]
  },
  {
   "cell_type": "markdown",
   "id": "68dacad4",
   "metadata": {},
   "source": [
    "#### Observation\n",
    "* Hopkins score is ~ 0.024 , this is less than the desired 0.5 which means the data is not very clusterable"
   ]
  },
  {
   "cell_type": "markdown",
   "id": "842c1a69",
   "metadata": {},
   "source": [
    "#### Create the Clusters"
   ]
  },
  {
   "cell_type": "code",
   "execution_count": 16,
   "id": "1da3737d",
   "metadata": {},
   "outputs": [
    {
     "name": "stdout",
     "output_type": "stream",
     "text": [
      "[5 5 5 ... 4 1 0]\n"
     ]
    },
    {
     "data": {
      "text/plain": [
       "array([[-7.07087676e-02, -3.16055119e-03,  4.10020181e-02,\n",
       "         7.60406631e-02, -1.35489888e-01,  4.20968669e-02,\n",
       "         2.02804866e-01, -5.90535118e-02, -6.18750253e-01,\n",
       "        -2.04999364e-01, -5.92243364e-02, -2.27941994e-01,\n",
       "         1.95455579e+00,  1.17014515e+00, -2.06771176e+00],\n",
       "       [ 1.08810590e+00,  4.10585431e-01, -4.11270516e-01,\n",
       "        -2.69690460e-01, -1.35489888e-01,  3.37295789e-01,\n",
       "        -8.53538230e-01, -5.30059781e-02, -2.80960251e-01,\n",
       "         2.19062020e-01, -2.25700259e-01,  3.43666096e-01,\n",
       "        -3.70592491e-01, -2.15361811e-01,  3.80764822e-01],\n",
       "       [-1.31960428e-01, -6.62310771e-03,  1.35832724e-01,\n",
       "        -7.91032456e-02,  7.38062461e+00, -4.21525477e-01,\n",
       "        -4.44698749e-02,  5.70036940e-01,  1.13692176e-01,\n",
       "         6.95542616e-02, -7.39646442e-02,  1.24153409e-01,\n",
       "        -2.21266410e-01, -1.35282456e-01,  2.69723664e-01],\n",
       "       [-4.92309849e-01, -8.24383806e-02,  1.99593688e-01,\n",
       "         2.43637597e-01, -1.35489888e-01, -1.11113333e-01,\n",
       "         6.38546821e-03,  3.93969740e-02, -6.78687081e-01,\n",
       "         1.25161720e-02, -1.97251979e-01, -8.08726596e-02,\n",
       "        -3.98315007e-01, -2.38258923e-01,  4.21985013e-01],\n",
       "       [-2.55306765e-02, -1.96088427e-02,  6.46287230e-02,\n",
       "         2.27408152e-02, -1.35489888e-01,  5.76201058e-02,\n",
       "         1.53668036e-02, -3.12761713e-02, -6.03416340e-02,\n",
       "         7.39834421e-03,  2.92570192e+00, -4.16739875e-02,\n",
       "        -3.10748311e-01, -1.88882179e-01,  3.26347912e-01],\n",
       "       [-1.15776961e-01, -1.89090252e-01, -7.08271812e-04,\n",
       "        -1.57149072e-01, -1.35489888e-01, -1.16918100e-01,\n",
       "         4.82566690e-01, -5.84662197e-03,  1.45983996e+00,\n",
       "        -4.93324718e-02, -1.96576531e-01, -1.30466592e-03,\n",
       "        -4.09982559e-01, -2.49606296e-01,  4.39188215e-01]])"
      ]
     },
     "execution_count": 16,
     "metadata": {},
     "output_type": "execute_result"
    }
   ],
   "source": [
    "# Import the KMeans library\n",
    "from sklearn.cluster import KMeans\n",
    "# Create the cluster, fit and predict the data\n",
    "kmeans_cluster = KMeans(n_clusters=6)\n",
    "kmeans_pattern = kmeans_cluster.fit_predict(x)\n",
    "print(kmeans_pattern)\n",
    "kmeans_cluster.cluster_centers_"
   ]
  },
  {
   "cell_type": "markdown",
   "id": "edc1765d",
   "metadata": {},
   "source": [
    "#### Silhoutte score for Clusterability "
   ]
  },
  {
   "cell_type": "code",
   "execution_count": 17,
   "id": "576d93ad",
   "metadata": {},
   "outputs": [
    {
     "name": "stdout",
     "output_type": "stream",
     "text": [
      "0.12301589020254532\n"
     ]
    }
   ],
   "source": [
    "# Import the library for silhouette score\n",
    "from sklearn.metrics import silhouette_score\n",
    "print(silhouette_score(x, kmeans_pattern))"
   ]
  },
  {
   "cell_type": "markdown",
   "id": "870ed2c5",
   "metadata": {},
   "source": [
    "#### Observation\n",
    "* Silhoutte score is ~ 0.12 , this should be closer to 1 for clusterability, which means the data is not very clusterable"
   ]
  },
  {
   "cell_type": "markdown",
   "id": "9d5901b5",
   "metadata": {},
   "source": [
    "#### Elbow method to determine the optimal number of clusters"
   ]
  },
  {
   "cell_type": "code",
   "execution_count": 18,
   "id": "f30f698c",
   "metadata": {},
   "outputs": [
    {
     "data": {
      "image/png": "[encoded data removed]",
      "text/plain": [
       "<Figure size 432x288 with 1 Axes>"
      ]
     },
     "metadata": {
      "needs_background": "light"
     },
     "output_type": "display_data"
    }
   ],
   "source": [
    "# Create list to get the errors\n",
    "elbow=[]\n",
    "for i in range(1,11):\n",
    "    kmeans=KMeans(n_clusters=i)\n",
    "    kmeans.fit(x)\n",
    "    elbow.append(kmeans.inertia_)\n",
    "\n",
    "# Plot the erros to get the value of cluster\n",
    "plt.plot(range(1, 11), elbow)\n",
    "plt.title('Elbow method')\n",
    "plt.xlabel('No of clusters')\n",
    "plt.ylabel('Error')\n",
    "plt.show()"
   ]
  },
  {
   "cell_type": "markdown",
   "id": "09d0e270",
   "metadata": {},
   "source": [
    "#### Observation\n",
    "* The optimal cluster is 2 , as this is the point where the plot is forming the elbow structure"
   ]
  },
  {
   "cell_type": "markdown",
   "id": "b794a3c6",
   "metadata": {},
   "source": [
    "#### Create clusters with clusters =2 "
   ]
  },
  {
   "cell_type": "code",
   "execution_count": 19,
   "id": "d1a4e011",
   "metadata": {},
   "outputs": [
    {
     "name": "stdout",
     "output_type": "stream",
     "text": [
      "[0 0 0 ... 1 0 1]\n"
     ]
    }
   ],
   "source": [
    "from sklearn.cluster import KMeans\n",
    "kmeans_cluster = KMeans(n_clusters=2)\n",
    "kmeans_pattern = kmeans_cluster.fit_predict(x)\n",
    "print(kmeans_pattern)\n",
    "centers=kmeans_cluster.cluster_centers_"
   ]
  },
  {
   "cell_type": "code",
   "execution_count": 20,
   "id": "91a5f8bd",
   "metadata": {},
   "outputs": [
    {
     "name": "stdout",
     "output_type": "stream",
     "text": [
      "[[ 1.24770611e-03 -4.24349244e-03 -7.77419266e-03 -1.37377384e-02\n",
      "   1.76284767e-02 -1.33432502e-02 -3.31603307e-02  1.45935001e-02\n",
      "   1.31087792e-01  4.09532534e-02 -2.39268393e-03  4.92679384e-02\n",
      "  -4.05993183e-01 -2.45275130e-01  4.32536703e-01]\n",
      " [-5.84432818e-03  1.98767661e-02  3.64147719e-02  6.43483682e-02\n",
      "  -8.25728131e-02  6.25005623e-02  1.55324923e-01 -6.83568059e-02\n",
      "  -6.14022866e-01 -1.91827428e-01  1.12074711e-02 -2.30773898e-01\n",
      "   1.90169575e+00  1.14888302e+00 -2.02602715e+00]]\n"
     ]
    }
   ],
   "source": [
    "# Display the Centroids\n",
    "print(centers)"
   ]
  },
  {
   "cell_type": "code",
   "execution_count": 21,
   "id": "760e8d1a",
   "metadata": {},
   "outputs": [
    {
     "data": {
      "text/plain": [
       "<function matplotlib.pyplot.show(close=None, block=None)>"
      ]
     },
     "execution_count": 21,
     "metadata": {},
     "output_type": "execute_result"
    },
    {
     "data": {
      "image/png": "[encoded data removed]",
      "text/plain": [
       "<Figure size 576x576 with 1 Axes>"
      ]
     },
     "metadata": {
      "needs_background": "light"
     },
     "output_type": "display_data"
    }
   ],
   "source": [
    "%matplotlib inline\n",
    "plt.figure(figsize=(8,8))\n",
    "plt.title('K Means')\n",
    "plt.scatter(x[:, 5], x[:, 3], c=kmeans_pattern, cmap='rainbow')\n",
    "plt.scatter(centers[:, 5], centers[:,3], c='black', s=200, alpha=0.5,marker='x')\n",
    "plt.show"
   ]
  },
  {
   "cell_type": "markdown",
   "id": "65f25a66",
   "metadata": {},
   "source": [
    "## Conclusion \n",
    "<p> We were able to apply PCA and reduce the feature variables to 2, however the Hopkins and Silhoute score suggest that the dataset is not clusterable. We applied the K means cluster to the data set but didn't achieve a good cluster distinction. "
   ]
  },
  {
   "cell_type": "code",
   "execution_count": null,
   "id": "5124037a",
   "metadata": {},
   "outputs": [],
   "source": []
  }
 ],
 "metadata": {
  "kernelspec": {
   "display_name": "Python 3 (ipykernel)",
   "language": "python",
   "name": "python3"
  },
  "language_info": {
   "codemirror_mode": {
    "name": "ipython",
    "version": 3
   },
   "file_extension": ".py",
   "mimetype": "text/x-python",
   "name": "python",
   "nbconvert_exporter": "python",
   "pygments_lexer": "ipython3",
   "version": "3.8.8"
  }
 },
 "nbformat": 4,
 "nbformat_minor": 5
}
