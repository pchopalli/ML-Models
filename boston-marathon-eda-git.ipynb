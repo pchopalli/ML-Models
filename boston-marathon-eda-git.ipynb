{
 "cells": [
  {
   "cell_type": "markdown",
   "id": "07765cc7",
   "metadata": {},
   "source": [
    "#### Data Source\n",
    "The 2019 Boston Marathon was the 123rd running of the Boston Athletic Association's (B.A.A) Marathon. It took place on Monday, April 15, 2019 (Patriots' Day in Massachusetts). Lawrence Cherono won the men's foot race in 2:07:57 and Worknesh Degefa won the women's foot race in 2:23.31.\n",
    "<a href>https://www.kaggle.com/datasets/daniboy370/boston-marathon-2019</a>"
   ]
  },
  {
   "cell_type": "code",
   "execution_count": 1,
   "id": "164a38de",
   "metadata": {},
   "outputs": [],
   "source": [
    "import pandas as pd\n",
    "import numpy as np\n",
    "import matplotlib.pyplot as plt\n",
    "import seaborn as sns"
   ]
  },
  {
   "cell_type": "code",
   "execution_count": 2,
   "id": "787d0328",
   "metadata": {},
   "outputs": [],
   "source": [
    "df=pd.read_csv('boston-2019.csv')"
   ]
  },
  {
   "cell_type": "code",
   "execution_count": 3,
   "id": "e585b0f9",
   "metadata": {},
   "outputs": [
    {
     "data": {
      "text/html": [
       "<div>\n",
       "<style scoped>\n",
       "    .dataframe tbody tr th:only-of-type {\n",
       "        vertical-align: middle;\n",
       "    }\n",
       "\n",
       "    .dataframe tbody tr th {\n",
       "        vertical-align: top;\n",
       "    }\n",
       "\n",
       "    .dataframe thead th {\n",
       "        text-align: right;\n",
       "    }\n",
       "</style>\n",
       "<table border=\"1\" class=\"dataframe\">\n",
       "  <thead>\n",
       "    <tr style=\"text-align: right;\">\n",
       "      <th></th>\n",
       "      <th>Rank_Tot</th>\n",
       "      <th>Age</th>\n",
       "      <th>Gender</th>\n",
       "      <th>Country</th>\n",
       "      <th>Result_hr</th>\n",
       "      <th>Result_sec</th>\n",
       "      <th>Rank_Gender</th>\n",
       "      <th>Country_code</th>\n",
       "    </tr>\n",
       "  </thead>\n",
       "  <tbody>\n",
       "    <tr>\n",
       "      <th>0</th>\n",
       "      <td>1</td>\n",
       "      <td>30</td>\n",
       "      <td>M</td>\n",
       "      <td>Kenya</td>\n",
       "      <td>2:07:57</td>\n",
       "      <td>7677</td>\n",
       "      <td>1</td>\n",
       "      <td>KEN</td>\n",
       "    </tr>\n",
       "    <tr>\n",
       "      <th>1</th>\n",
       "      <td>2</td>\n",
       "      <td>29</td>\n",
       "      <td>M</td>\n",
       "      <td>Ethiopia</td>\n",
       "      <td>2:07:59</td>\n",
       "      <td>7679</td>\n",
       "      <td>2</td>\n",
       "      <td>ETH</td>\n",
       "    </tr>\n",
       "    <tr>\n",
       "      <th>2</th>\n",
       "      <td>3</td>\n",
       "      <td>34</td>\n",
       "      <td>M</td>\n",
       "      <td>Kenya</td>\n",
       "      <td>2:08:07</td>\n",
       "      <td>7687</td>\n",
       "      <td>3</td>\n",
       "      <td>KEN</td>\n",
       "    </tr>\n",
       "    <tr>\n",
       "      <th>3</th>\n",
       "      <td>4</td>\n",
       "      <td>32</td>\n",
       "      <td>M</td>\n",
       "      <td>Kenya</td>\n",
       "      <td>2:08:54</td>\n",
       "      <td>7734</td>\n",
       "      <td>4</td>\n",
       "      <td>KEN</td>\n",
       "    </tr>\n",
       "    <tr>\n",
       "      <th>4</th>\n",
       "      <td>5</td>\n",
       "      <td>26</td>\n",
       "      <td>M</td>\n",
       "      <td>Kenya</td>\n",
       "      <td>2:08:55</td>\n",
       "      <td>7735</td>\n",
       "      <td>5</td>\n",
       "      <td>KEN</td>\n",
       "    </tr>\n",
       "  </tbody>\n",
       "</table>\n",
       "</div>"
      ],
      "text/plain": [
       "   Rank_Tot  Age Gender   Country Result_hr  Result_sec  Rank_Gender  \\\n",
       "0         1   30      M     Kenya   2:07:57        7677            1   \n",
       "1         2   29      M  Ethiopia   2:07:59        7679            2   \n",
       "2         3   34      M     Kenya   2:08:07        7687            3   \n",
       "3         4   32      M     Kenya   2:08:54        7734            4   \n",
       "4         5   26      M     Kenya   2:08:55        7735            5   \n",
       "\n",
       "  Country_code  \n",
       "0          KEN  \n",
       "1          ETH  \n",
       "2          KEN  \n",
       "3          KEN  \n",
       "4          KEN  "
      ]
     },
     "execution_count": 3,
     "metadata": {},
     "output_type": "execute_result"
    }
   ],
   "source": [
    "df.head()"
   ]
  },
  {
   "cell_type": "code",
   "execution_count": 4,
   "id": "cc7ed789",
   "metadata": {},
   "outputs": [
    {
     "data": {
      "text/plain": [
       "Rank_Tot        0\n",
       "Age             0\n",
       "Gender          0\n",
       "Country         0\n",
       "Result_hr       0\n",
       "Result_sec      0\n",
       "Rank_Gender     0\n",
       "Country_code    0\n",
       "dtype: int64"
      ]
     },
     "execution_count": 4,
     "metadata": {},
     "output_type": "execute_result"
    }
   ],
   "source": [
    "df.isnull().sum()"
   ]
  },
  {
   "cell_type": "code",
   "execution_count": 5,
   "id": "74deaa33",
   "metadata": {},
   "outputs": [
    {
     "data": {
      "text/plain": [
       "(26651, 8)"
      ]
     },
     "execution_count": 5,
     "metadata": {},
     "output_type": "execute_result"
    }
   ],
   "source": [
    "df.shape"
   ]
  },
  {
   "cell_type": "code",
   "execution_count": 6,
   "id": "021d7173",
   "metadata": {},
   "outputs": [
    {
     "data": {
      "text/html": [
       "<div>\n",
       "<style scoped>\n",
       "    .dataframe tbody tr th:only-of-type {\n",
       "        vertical-align: middle;\n",
       "    }\n",
       "\n",
       "    .dataframe tbody tr th {\n",
       "        vertical-align: top;\n",
       "    }\n",
       "\n",
       "    .dataframe thead th {\n",
       "        text-align: right;\n",
       "    }\n",
       "</style>\n",
       "<table border=\"1\" class=\"dataframe\">\n",
       "  <thead>\n",
       "    <tr style=\"text-align: right;\">\n",
       "      <th></th>\n",
       "      <th>Rank_Tot</th>\n",
       "      <th>Age</th>\n",
       "      <th>Result_sec</th>\n",
       "      <th>Rank_Gender</th>\n",
       "    </tr>\n",
       "  </thead>\n",
       "  <tbody>\n",
       "    <tr>\n",
       "      <th>count</th>\n",
       "      <td>26651.000000</td>\n",
       "      <td>26651.000000</td>\n",
       "      <td>26651.000000</td>\n",
       "      <td>26651.000000</td>\n",
       "    </tr>\n",
       "    <tr>\n",
       "      <th>mean</th>\n",
       "      <td>13326.800946</td>\n",
       "      <td>42.799895</td>\n",
       "      <td>13980.057184</td>\n",
       "      <td>6731.454242</td>\n",
       "    </tr>\n",
       "    <tr>\n",
       "      <th>std</th>\n",
       "      <td>7693.901503</td>\n",
       "      <td>11.537523</td>\n",
       "      <td>2697.850346</td>\n",
       "      <td>3962.252174</td>\n",
       "    </tr>\n",
       "    <tr>\n",
       "      <th>min</th>\n",
       "      <td>1.000000</td>\n",
       "      <td>18.000000</td>\n",
       "      <td>7677.000000</td>\n",
       "      <td>1.000000</td>\n",
       "    </tr>\n",
       "    <tr>\n",
       "      <th>25%</th>\n",
       "      <td>6664.500000</td>\n",
       "      <td>34.000000</td>\n",
       "      <td>12025.500000</td>\n",
       "      <td>3332.000000</td>\n",
       "    </tr>\n",
       "    <tr>\n",
       "      <th>50%</th>\n",
       "      <td>13327.000000</td>\n",
       "      <td>43.000000</td>\n",
       "      <td>13534.000000</td>\n",
       "      <td>6664.000000</td>\n",
       "    </tr>\n",
       "    <tr>\n",
       "      <th>75%</th>\n",
       "      <td>19989.500000</td>\n",
       "      <td>51.000000</td>\n",
       "      <td>15538.500000</td>\n",
       "      <td>9995.000000</td>\n",
       "    </tr>\n",
       "    <tr>\n",
       "      <th>max</th>\n",
       "      <td>26652.000000</td>\n",
       "      <td>83.000000</td>\n",
       "      <td>25197.000000</td>\n",
       "      <td>14671.000000</td>\n",
       "    </tr>\n",
       "  </tbody>\n",
       "</table>\n",
       "</div>"
      ],
      "text/plain": [
       "           Rank_Tot           Age    Result_sec   Rank_Gender\n",
       "count  26651.000000  26651.000000  26651.000000  26651.000000\n",
       "mean   13326.800946     42.799895  13980.057184   6731.454242\n",
       "std     7693.901503     11.537523   2697.850346   3962.252174\n",
       "min        1.000000     18.000000   7677.000000      1.000000\n",
       "25%     6664.500000     34.000000  12025.500000   3332.000000\n",
       "50%    13327.000000     43.000000  13534.000000   6664.000000\n",
       "75%    19989.500000     51.000000  15538.500000   9995.000000\n",
       "max    26652.000000     83.000000  25197.000000  14671.000000"
      ]
     },
     "execution_count": 6,
     "metadata": {},
     "output_type": "execute_result"
    }
   ],
   "source": [
    "df.describe()"
   ]
  },
  {
   "cell_type": "code",
   "execution_count": 7,
   "id": "d04abc86",
   "metadata": {},
   "outputs": [
    {
     "data": {
      "text/plain": [
       "Rank_Tot         int64\n",
       "Age              int64\n",
       "Gender          object\n",
       "Country         object\n",
       "Result_hr       object\n",
       "Result_sec       int64\n",
       "Rank_Gender      int64\n",
       "Country_code    object\n",
       "dtype: object"
      ]
     },
     "execution_count": 7,
     "metadata": {},
     "output_type": "execute_result"
    }
   ],
   "source": [
    "df.dtypes"
   ]
  },
  {
   "cell_type": "code",
   "execution_count": 8,
   "id": "4ed04f3b",
   "metadata": {},
   "outputs": [],
   "source": [
    "df.set_index('Rank_Tot',inplace=True)"
   ]
  },
  {
   "cell_type": "code",
   "execution_count": 9,
   "id": "8de17f68",
   "metadata": {},
   "outputs": [
    {
     "data": {
      "text/plain": [
       "M    14670\n",
       "F    11981\n",
       "Name: Gender, dtype: int64"
      ]
     },
     "execution_count": 9,
     "metadata": {},
     "output_type": "execute_result"
    }
   ],
   "source": [
    "df['Gender'].value_counts()"
   ]
  },
  {
   "cell_type": "markdown",
   "id": "3b63b901",
   "metadata": {},
   "source": [
    "Define Age Groups and divide age into the bins"
   ]
  },
  {
   "cell_type": "code",
   "execution_count": 10,
   "id": "f83ae988",
   "metadata": {},
   "outputs": [],
   "source": [
    "bins=[18,25,30,35,40,45,50,55,60,70,80]\n",
    "\n",
    "labels=['18-24','25-29', '30-34','35-39', '40-44','45-49','50-54','55-59','60-69','70-80']\n",
    "df['Agegroup']= pd.cut(df['Age'],bins=bins,labels=labels)"
   ]
  },
  {
   "cell_type": "code",
   "execution_count": 11,
   "id": "b22eac45",
   "metadata": {},
   "outputs": [
    {
     "data": {
      "text/html": [
       "<div>\n",
       "<style scoped>\n",
       "    .dataframe tbody tr th:only-of-type {\n",
       "        vertical-align: middle;\n",
       "    }\n",
       "\n",
       "    .dataframe tbody tr th {\n",
       "        vertical-align: top;\n",
       "    }\n",
       "\n",
       "    .dataframe thead th {\n",
       "        text-align: right;\n",
       "    }\n",
       "</style>\n",
       "<table border=\"1\" class=\"dataframe\">\n",
       "  <thead>\n",
       "    <tr style=\"text-align: right;\">\n",
       "      <th></th>\n",
       "      <th>Age</th>\n",
       "      <th>Gender</th>\n",
       "      <th>Country</th>\n",
       "      <th>Result_hr</th>\n",
       "      <th>Result_sec</th>\n",
       "      <th>Rank_Gender</th>\n",
       "      <th>Country_code</th>\n",
       "      <th>Agegroup</th>\n",
       "    </tr>\n",
       "    <tr>\n",
       "      <th>Rank_Tot</th>\n",
       "      <th></th>\n",
       "      <th></th>\n",
       "      <th></th>\n",
       "      <th></th>\n",
       "      <th></th>\n",
       "      <th></th>\n",
       "      <th></th>\n",
       "      <th></th>\n",
       "    </tr>\n",
       "  </thead>\n",
       "  <tbody>\n",
       "    <tr>\n",
       "      <th>1</th>\n",
       "      <td>30</td>\n",
       "      <td>M</td>\n",
       "      <td>Kenya</td>\n",
       "      <td>2:07:57</td>\n",
       "      <td>7677</td>\n",
       "      <td>1</td>\n",
       "      <td>KEN</td>\n",
       "      <td>25-29</td>\n",
       "    </tr>\n",
       "    <tr>\n",
       "      <th>2</th>\n",
       "      <td>29</td>\n",
       "      <td>M</td>\n",
       "      <td>Ethiopia</td>\n",
       "      <td>2:07:59</td>\n",
       "      <td>7679</td>\n",
       "      <td>2</td>\n",
       "      <td>ETH</td>\n",
       "      <td>25-29</td>\n",
       "    </tr>\n",
       "    <tr>\n",
       "      <th>3</th>\n",
       "      <td>34</td>\n",
       "      <td>M</td>\n",
       "      <td>Kenya</td>\n",
       "      <td>2:08:07</td>\n",
       "      <td>7687</td>\n",
       "      <td>3</td>\n",
       "      <td>KEN</td>\n",
       "      <td>30-34</td>\n",
       "    </tr>\n",
       "    <tr>\n",
       "      <th>4</th>\n",
       "      <td>32</td>\n",
       "      <td>M</td>\n",
       "      <td>Kenya</td>\n",
       "      <td>2:08:54</td>\n",
       "      <td>7734</td>\n",
       "      <td>4</td>\n",
       "      <td>KEN</td>\n",
       "      <td>30-34</td>\n",
       "    </tr>\n",
       "    <tr>\n",
       "      <th>5</th>\n",
       "      <td>26</td>\n",
       "      <td>M</td>\n",
       "      <td>Kenya</td>\n",
       "      <td>2:08:55</td>\n",
       "      <td>7735</td>\n",
       "      <td>5</td>\n",
       "      <td>KEN</td>\n",
       "      <td>25-29</td>\n",
       "    </tr>\n",
       "    <tr>\n",
       "      <th>6</th>\n",
       "      <td>28</td>\n",
       "      <td>M</td>\n",
       "      <td>Kenya</td>\n",
       "      <td>2:08:57</td>\n",
       "      <td>7737</td>\n",
       "      <td>6</td>\n",
       "      <td>KEN</td>\n",
       "      <td>25-29</td>\n",
       "    </tr>\n",
       "    <tr>\n",
       "      <th>7</th>\n",
       "      <td>27</td>\n",
       "      <td>M</td>\n",
       "      <td>United States</td>\n",
       "      <td>2:09:09</td>\n",
       "      <td>7749</td>\n",
       "      <td>7</td>\n",
       "      <td>USA</td>\n",
       "      <td>25-29</td>\n",
       "    </tr>\n",
       "    <tr>\n",
       "      <th>8</th>\n",
       "      <td>30</td>\n",
       "      <td>M</td>\n",
       "      <td>United States</td>\n",
       "      <td>2:09:25</td>\n",
       "      <td>7765</td>\n",
       "      <td>8</td>\n",
       "      <td>USA</td>\n",
       "      <td>25-29</td>\n",
       "    </tr>\n",
       "    <tr>\n",
       "      <th>9</th>\n",
       "      <td>24</td>\n",
       "      <td>M</td>\n",
       "      <td>Kenya</td>\n",
       "      <td>2:09:25</td>\n",
       "      <td>7765</td>\n",
       "      <td>9</td>\n",
       "      <td>KEN</td>\n",
       "      <td>18-24</td>\n",
       "    </tr>\n",
       "    <tr>\n",
       "      <th>10</th>\n",
       "      <td>28</td>\n",
       "      <td>M</td>\n",
       "      <td>Kenya</td>\n",
       "      <td>2:09:53</td>\n",
       "      <td>7793</td>\n",
       "      <td>10</td>\n",
       "      <td>KEN</td>\n",
       "      <td>25-29</td>\n",
       "    </tr>\n",
       "    <tr>\n",
       "      <th>11</th>\n",
       "      <td>35</td>\n",
       "      <td>M</td>\n",
       "      <td>United States</td>\n",
       "      <td>2:11:51</td>\n",
       "      <td>7911</td>\n",
       "      <td>11</td>\n",
       "      <td>USA</td>\n",
       "      <td>30-34</td>\n",
       "    </tr>\n",
       "    <tr>\n",
       "      <th>12</th>\n",
       "      <td>26</td>\n",
       "      <td>M</td>\n",
       "      <td>Japan</td>\n",
       "      <td>2:11:53</td>\n",
       "      <td>7913</td>\n",
       "      <td>12</td>\n",
       "      <td>JPN</td>\n",
       "      <td>25-29</td>\n",
       "    </tr>\n",
       "    <tr>\n",
       "      <th>13</th>\n",
       "      <td>35</td>\n",
       "      <td>M</td>\n",
       "      <td>United States</td>\n",
       "      <td>2:12:40</td>\n",
       "      <td>7960</td>\n",
       "      <td>13</td>\n",
       "      <td>USA</td>\n",
       "      <td>30-34</td>\n",
       "    </tr>\n",
       "    <tr>\n",
       "      <th>14</th>\n",
       "      <td>31</td>\n",
       "      <td>M</td>\n",
       "      <td>Eritrea</td>\n",
       "      <td>2:13:05</td>\n",
       "      <td>7985</td>\n",
       "      <td>14</td>\n",
       "      <td>USA</td>\n",
       "      <td>30-34</td>\n",
       "    </tr>\n",
       "    <tr>\n",
       "      <th>15</th>\n",
       "      <td>34</td>\n",
       "      <td>M</td>\n",
       "      <td>United States</td>\n",
       "      <td>2:13:11</td>\n",
       "      <td>7991</td>\n",
       "      <td>15</td>\n",
       "      <td>USA</td>\n",
       "      <td>30-34</td>\n",
       "    </tr>\n",
       "  </tbody>\n",
       "</table>\n",
       "</div>"
      ],
      "text/plain": [
       "          Age Gender        Country Result_hr  Result_sec  Rank_Gender  \\\n",
       "Rank_Tot                                                                 \n",
       "1          30      M          Kenya   2:07:57        7677            1   \n",
       "2          29      M       Ethiopia   2:07:59        7679            2   \n",
       "3          34      M          Kenya   2:08:07        7687            3   \n",
       "4          32      M          Kenya   2:08:54        7734            4   \n",
       "5          26      M          Kenya   2:08:55        7735            5   \n",
       "6          28      M          Kenya   2:08:57        7737            6   \n",
       "7          27      M  United States   2:09:09        7749            7   \n",
       "8          30      M  United States   2:09:25        7765            8   \n",
       "9          24      M          Kenya   2:09:25        7765            9   \n",
       "10         28      M          Kenya   2:09:53        7793           10   \n",
       "11         35      M  United States   2:11:51        7911           11   \n",
       "12         26      M          Japan   2:11:53        7913           12   \n",
       "13         35      M  United States   2:12:40        7960           13   \n",
       "14         31      M        Eritrea   2:13:05        7985           14   \n",
       "15         34      M  United States   2:13:11        7991           15   \n",
       "\n",
       "         Country_code Agegroup  \n",
       "Rank_Tot                        \n",
       "1                 KEN    25-29  \n",
       "2                 ETH    25-29  \n",
       "3                 KEN    30-34  \n",
       "4                 KEN    30-34  \n",
       "5                 KEN    25-29  \n",
       "6                 KEN    25-29  \n",
       "7                 USA    25-29  \n",
       "8                 USA    25-29  \n",
       "9                 KEN    18-24  \n",
       "10                KEN    25-29  \n",
       "11                USA    30-34  \n",
       "12                JPN    25-29  \n",
       "13                USA    30-34  \n",
       "14                USA    30-34  \n",
       "15                USA    30-34  "
      ]
     },
     "execution_count": 11,
     "metadata": {},
     "output_type": "execute_result"
    }
   ],
   "source": [
    "df.head(15)"
   ]
  },
  {
   "cell_type": "markdown",
   "id": "91835163",
   "metadata": {},
   "source": [
    "#### Top 100 Women by Country"
   ]
  },
  {
   "cell_type": "code",
   "execution_count": 12,
   "id": "3a92b9f5",
   "metadata": {},
   "outputs": [],
   "source": [
    "dfw=df[df['Gender']=='F']\n"
   ]
  },
  {
   "cell_type": "code",
   "execution_count": 13,
   "id": "50e8e0f4",
   "metadata": {},
   "outputs": [],
   "source": [
    "dfw.reset_index(inplace=True)"
   ]
  },
  {
   "cell_type": "code",
   "execution_count": 14,
   "id": "e2e43640",
   "metadata": {},
   "outputs": [
    {
     "data": {
      "text/plain": [
       "(100, 9)"
      ]
     },
     "execution_count": 14,
     "metadata": {},
     "output_type": "execute_result"
    }
   ],
   "source": [
    "dfw100=dfw[dfw['Rank_Gender']<=100]\n",
    "dfw100.shape"
   ]
  },
  {
   "cell_type": "code",
   "execution_count": 15,
   "id": "827ea1b9",
   "metadata": {},
   "outputs": [
    {
     "data": {
      "text/html": [
       "<div>\n",
       "<style scoped>\n",
       "    .dataframe tbody tr th:only-of-type {\n",
       "        vertical-align: middle;\n",
       "    }\n",
       "\n",
       "    .dataframe tbody tr th {\n",
       "        vertical-align: top;\n",
       "    }\n",
       "\n",
       "    .dataframe thead th {\n",
       "        text-align: right;\n",
       "    }\n",
       "</style>\n",
       "<table border=\"1\" class=\"dataframe\">\n",
       "  <thead>\n",
       "    <tr style=\"text-align: right;\">\n",
       "      <th></th>\n",
       "      <th>Country</th>\n",
       "      <th>Count</th>\n",
       "    </tr>\n",
       "  </thead>\n",
       "  <tbody>\n",
       "    <tr>\n",
       "      <th>0</th>\n",
       "      <td>Canada</td>\n",
       "      <td>4</td>\n",
       "    </tr>\n",
       "    <tr>\n",
       "      <th>1</th>\n",
       "      <td>Chile</td>\n",
       "      <td>1</td>\n",
       "    </tr>\n",
       "    <tr>\n",
       "      <th>2</th>\n",
       "      <td>China</td>\n",
       "      <td>1</td>\n",
       "    </tr>\n",
       "    <tr>\n",
       "      <th>3</th>\n",
       "      <td>Ethiopia</td>\n",
       "      <td>3</td>\n",
       "    </tr>\n",
       "    <tr>\n",
       "      <th>4</th>\n",
       "      <td>Ireland</td>\n",
       "      <td>1</td>\n",
       "    </tr>\n",
       "    <tr>\n",
       "      <th>5</th>\n",
       "      <td>Japan</td>\n",
       "      <td>2</td>\n",
       "    </tr>\n",
       "    <tr>\n",
       "      <th>6</th>\n",
       "      <td>Kenya</td>\n",
       "      <td>6</td>\n",
       "    </tr>\n",
       "    <tr>\n",
       "      <th>7</th>\n",
       "      <td>Netherlands</td>\n",
       "      <td>1</td>\n",
       "    </tr>\n",
       "    <tr>\n",
       "      <th>8</th>\n",
       "      <td>Peru</td>\n",
       "      <td>1</td>\n",
       "    </tr>\n",
       "    <tr>\n",
       "      <th>9</th>\n",
       "      <td>Sweden</td>\n",
       "      <td>1</td>\n",
       "    </tr>\n",
       "    <tr>\n",
       "      <th>10</th>\n",
       "      <td>United Kingdom</td>\n",
       "      <td>4</td>\n",
       "    </tr>\n",
       "    <tr>\n",
       "      <th>11</th>\n",
       "      <td>United States</td>\n",
       "      <td>75</td>\n",
       "    </tr>\n",
       "  </tbody>\n",
       "</table>\n",
       "</div>"
      ],
      "text/plain": [
       "           Country  Count\n",
       "0           Canada      4\n",
       "1            Chile      1\n",
       "2            China      1\n",
       "3         Ethiopia      3\n",
       "4          Ireland      1\n",
       "5            Japan      2\n",
       "6            Kenya      6\n",
       "7      Netherlands      1\n",
       "8             Peru      1\n",
       "9           Sweden      1\n",
       "10  United Kingdom      4\n",
       "11   United States     75"
      ]
     },
     "execution_count": 15,
     "metadata": {},
     "output_type": "execute_result"
    }
   ],
   "source": [
    "dfwtop = dfw100['Rank_Tot'].groupby(dfw100['Country']).count()\n",
    "# dfwtop = pd.DataFrame(data=dfwtop, columns=['Count'])\n",
    "dfwtop = pd.DataFrame(dfwtop)\n",
    "dfwtop.reset_index(inplace=True)\n",
    "dfwtop.rename(columns={'Country':'Country','Rank_Tot':'Count'},inplace=True)\n",
    "dfwtop"
   ]
  },
  {
   "cell_type": "code",
   "execution_count": 16,
   "id": "b17dede7",
   "metadata": {},
   "outputs": [
    {
     "data": {
      "image/png": "[encoded data removed]",
      "text/plain": [
       "<Figure size 1440x720 with 1 Axes>"
      ]
     },
     "metadata": {
      "needs_background": "light"
     },
     "output_type": "display_data"
    }
   ],
   "source": [
    "plt.figure(figsize=(20,10))\n",
    "plt.title('Top 100 Female Finishers by Country')\n",
    "sns.barplot(data=dfwtop, x='Country', y='Count')\n",
    "plt.show()"
   ]
  },
  {
   "cell_type": "markdown",
   "id": "c4736ccc",
   "metadata": {},
   "source": [
    "#### Top 100 Men by Country"
   ]
  },
  {
   "cell_type": "code",
   "execution_count": 17,
   "id": "ed4beec4",
   "metadata": {},
   "outputs": [
    {
     "data": {
      "text/html": [
       "<div>\n",
       "<style scoped>\n",
       "    .dataframe tbody tr th:only-of-type {\n",
       "        vertical-align: middle;\n",
       "    }\n",
       "\n",
       "    .dataframe tbody tr th {\n",
       "        vertical-align: top;\n",
       "    }\n",
       "\n",
       "    .dataframe thead th {\n",
       "        text-align: right;\n",
       "    }\n",
       "</style>\n",
       "<table border=\"1\" class=\"dataframe\">\n",
       "  <thead>\n",
       "    <tr style=\"text-align: right;\">\n",
       "      <th></th>\n",
       "      <th>Country</th>\n",
       "      <th>Count</th>\n",
       "    </tr>\n",
       "  </thead>\n",
       "  <tbody>\n",
       "    <tr>\n",
       "      <th>0</th>\n",
       "      <td>Argentina</td>\n",
       "      <td>1</td>\n",
       "    </tr>\n",
       "    <tr>\n",
       "      <th>1</th>\n",
       "      <td>Australia</td>\n",
       "      <td>2</td>\n",
       "    </tr>\n",
       "    <tr>\n",
       "      <th>2</th>\n",
       "      <td>Canada</td>\n",
       "      <td>2</td>\n",
       "    </tr>\n",
       "    <tr>\n",
       "      <th>3</th>\n",
       "      <td>China</td>\n",
       "      <td>1</td>\n",
       "    </tr>\n",
       "    <tr>\n",
       "      <th>4</th>\n",
       "      <td>Dominican Republic</td>\n",
       "      <td>1</td>\n",
       "    </tr>\n",
       "    <tr>\n",
       "      <th>5</th>\n",
       "      <td>Eritrea</td>\n",
       "      <td>1</td>\n",
       "    </tr>\n",
       "    <tr>\n",
       "      <th>6</th>\n",
       "      <td>Ethiopia</td>\n",
       "      <td>2</td>\n",
       "    </tr>\n",
       "    <tr>\n",
       "      <th>7</th>\n",
       "      <td>Germany</td>\n",
       "      <td>1</td>\n",
       "    </tr>\n",
       "    <tr>\n",
       "      <th>8</th>\n",
       "      <td>Israel</td>\n",
       "      <td>1</td>\n",
       "    </tr>\n",
       "    <tr>\n",
       "      <th>9</th>\n",
       "      <td>Japan</td>\n",
       "      <td>6</td>\n",
       "    </tr>\n",
       "    <tr>\n",
       "      <th>10</th>\n",
       "      <td>Jordan</td>\n",
       "      <td>1</td>\n",
       "    </tr>\n",
       "    <tr>\n",
       "      <th>11</th>\n",
       "      <td>Kenya</td>\n",
       "      <td>9</td>\n",
       "    </tr>\n",
       "    <tr>\n",
       "      <th>12</th>\n",
       "      <td>Morocco</td>\n",
       "      <td>1</td>\n",
       "    </tr>\n",
       "    <tr>\n",
       "      <th>13</th>\n",
       "      <td>New Zealand</td>\n",
       "      <td>1</td>\n",
       "    </tr>\n",
       "    <tr>\n",
       "      <th>14</th>\n",
       "      <td>United Kingdom</td>\n",
       "      <td>2</td>\n",
       "    </tr>\n",
       "    <tr>\n",
       "      <th>15</th>\n",
       "      <td>United States</td>\n",
       "      <td>68</td>\n",
       "    </tr>\n",
       "  </tbody>\n",
       "</table>\n",
       "</div>"
      ],
      "text/plain": [
       "               Country  Count\n",
       "0            Argentina      1\n",
       "1            Australia      2\n",
       "2               Canada      2\n",
       "3                China      1\n",
       "4   Dominican Republic      1\n",
       "5              Eritrea      1\n",
       "6             Ethiopia      2\n",
       "7              Germany      1\n",
       "8               Israel      1\n",
       "9                Japan      6\n",
       "10              Jordan      1\n",
       "11               Kenya      9\n",
       "12             Morocco      1\n",
       "13         New Zealand      1\n",
       "14      United Kingdom      2\n",
       "15       United States     68"
      ]
     },
     "execution_count": 17,
     "metadata": {},
     "output_type": "execute_result"
    }
   ],
   "source": [
    "dfm=df[df['Gender']=='M']\n",
    "dfm.reset_index(inplace=True)\n",
    "dfm100=dfm[dfm['Rank_Gender']<=100]\n",
    "dfmtop_s = dfm100['Rank_Tot'].groupby(dfm100['Country']).count()\n",
    "dfmtop = pd.DataFrame(dfmtop_s)\n",
    "dfmtop.reset_index(inplace=True)\n",
    "dfmtop.rename(columns={'Country':'Country','Rank_Tot':'Count'},inplace=True)\n",
    "dfmtop"
   ]
  },
  {
   "cell_type": "code",
   "execution_count": 18,
   "id": "49b0926e",
   "metadata": {},
   "outputs": [
    {
     "data": {
      "image/png": "[encoded data removed]",
      "text/plain": [
       "<Figure size 1800x720 with 1 Axes>"
      ]
     },
     "metadata": {
      "needs_background": "light"
     },
     "output_type": "display_data"
    }
   ],
   "source": [
    "plt.figure(figsize=(25,10))\n",
    "plt.title('Top 100 Male Finishers by Country')\n",
    "sns.barplot(data=dfmtop, x='Country', y='Count')\n",
    "plt.show()"
   ]
  },
  {
   "cell_type": "markdown",
   "id": "6df4ce74",
   "metadata": {},
   "source": [
    "#### Avg Fast times by Country - Women"
   ]
  },
  {
   "cell_type": "code",
   "execution_count": 19,
   "id": "9f8ae016",
   "metadata": {},
   "outputs": [
    {
     "data": {
      "text/html": [
       "<div>\n",
       "<style scoped>\n",
       "    .dataframe tbody tr th:only-of-type {\n",
       "        vertical-align: middle;\n",
       "    }\n",
       "\n",
       "    .dataframe tbody tr th {\n",
       "        vertical-align: top;\n",
       "    }\n",
       "\n",
       "    .dataframe thead th {\n",
       "        text-align: right;\n",
       "    }\n",
       "</style>\n",
       "<table border=\"1\" class=\"dataframe\">\n",
       "  <thead>\n",
       "    <tr style=\"text-align: right;\">\n",
       "      <th></th>\n",
       "      <th>Rank_Tot</th>\n",
       "      <th>Age</th>\n",
       "      <th>Gender</th>\n",
       "      <th>Country</th>\n",
       "      <th>Result_hr</th>\n",
       "      <th>Result_sec</th>\n",
       "      <th>Rank_Gender</th>\n",
       "      <th>Country_code</th>\n",
       "      <th>Agegroup</th>\n",
       "    </tr>\n",
       "  </thead>\n",
       "  <tbody>\n",
       "    <tr>\n",
       "      <th>0</th>\n",
       "      <td>36</td>\n",
       "      <td>28</td>\n",
       "      <td>F</td>\n",
       "      <td>Ethiopia</td>\n",
       "      <td>2:23:31</td>\n",
       "      <td>8611</td>\n",
       "      <td>1</td>\n",
       "      <td>ETH</td>\n",
       "      <td>25-29</td>\n",
       "    </tr>\n",
       "    <tr>\n",
       "      <th>1</th>\n",
       "      <td>38</td>\n",
       "      <td>39</td>\n",
       "      <td>F</td>\n",
       "      <td>Kenya</td>\n",
       "      <td>2:24:13</td>\n",
       "      <td>8653</td>\n",
       "      <td>2</td>\n",
       "      <td>KEN</td>\n",
       "      <td>35-39</td>\n",
       "    </tr>\n",
       "    <tr>\n",
       "      <th>2</th>\n",
       "      <td>48</td>\n",
       "      <td>27</td>\n",
       "      <td>F</td>\n",
       "      <td>United States</td>\n",
       "      <td>2:25:20</td>\n",
       "      <td>8720</td>\n",
       "      <td>3</td>\n",
       "      <td>USA</td>\n",
       "      <td>25-29</td>\n",
       "    </tr>\n",
       "    <tr>\n",
       "      <th>3</th>\n",
       "      <td>52</td>\n",
       "      <td>27</td>\n",
       "      <td>F</td>\n",
       "      <td>Ethiopia</td>\n",
       "      <td>2:25:40</td>\n",
       "      <td>8740</td>\n",
       "      <td>4</td>\n",
       "      <td>ETH</td>\n",
       "      <td>25-29</td>\n",
       "    </tr>\n",
       "    <tr>\n",
       "      <th>4</th>\n",
       "      <td>61</td>\n",
       "      <td>35</td>\n",
       "      <td>F</td>\n",
       "      <td>United States</td>\n",
       "      <td>2:27:00</td>\n",
       "      <td>8820</td>\n",
       "      <td>5</td>\n",
       "      <td>USA</td>\n",
       "      <td>30-34</td>\n",
       "    </tr>\n",
       "    <tr>\n",
       "      <th>...</th>\n",
       "      <td>...</td>\n",
       "      <td>...</td>\n",
       "      <td>...</td>\n",
       "      <td>...</td>\n",
       "      <td>...</td>\n",
       "      <td>...</td>\n",
       "      <td>...</td>\n",
       "      <td>...</td>\n",
       "      <td>...</td>\n",
       "    </tr>\n",
       "    <tr>\n",
       "      <th>11976</th>\n",
       "      <td>26640</td>\n",
       "      <td>44</td>\n",
       "      <td>F</td>\n",
       "      <td>United States</td>\n",
       "      <td>6:21:19</td>\n",
       "      <td>22879</td>\n",
       "      <td>11977</td>\n",
       "      <td>USA</td>\n",
       "      <td>40-44</td>\n",
       "    </tr>\n",
       "    <tr>\n",
       "      <th>11977</th>\n",
       "      <td>26641</td>\n",
       "      <td>50</td>\n",
       "      <td>F</td>\n",
       "      <td>United States</td>\n",
       "      <td>6:22:27</td>\n",
       "      <td>22947</td>\n",
       "      <td>11978</td>\n",
       "      <td>USA</td>\n",
       "      <td>45-49</td>\n",
       "    </tr>\n",
       "    <tr>\n",
       "      <th>11978</th>\n",
       "      <td>26648</td>\n",
       "      <td>32</td>\n",
       "      <td>F</td>\n",
       "      <td>United States</td>\n",
       "      <td>6:35:50</td>\n",
       "      <td>23750</td>\n",
       "      <td>11979</td>\n",
       "      <td>USA</td>\n",
       "      <td>30-34</td>\n",
       "    </tr>\n",
       "    <tr>\n",
       "      <th>11979</th>\n",
       "      <td>26650</td>\n",
       "      <td>55</td>\n",
       "      <td>F</td>\n",
       "      <td>United States</td>\n",
       "      <td>6:53:38</td>\n",
       "      <td>24818</td>\n",
       "      <td>11980</td>\n",
       "      <td>USA</td>\n",
       "      <td>50-54</td>\n",
       "    </tr>\n",
       "    <tr>\n",
       "      <th>11980</th>\n",
       "      <td>26652</td>\n",
       "      <td>46</td>\n",
       "      <td>F</td>\n",
       "      <td>United States</td>\n",
       "      <td>6:59:57</td>\n",
       "      <td>25197</td>\n",
       "      <td>11981</td>\n",
       "      <td>USA</td>\n",
       "      <td>45-49</td>\n",
       "    </tr>\n",
       "  </tbody>\n",
       "</table>\n",
       "<p>11981 rows × 9 columns</p>\n",
       "</div>"
      ],
      "text/plain": [
       "       Rank_Tot  Age Gender        Country Result_hr  Result_sec  Rank_Gender  \\\n",
       "0            36   28      F       Ethiopia   2:23:31        8611            1   \n",
       "1            38   39      F          Kenya   2:24:13        8653            2   \n",
       "2            48   27      F  United States   2:25:20        8720            3   \n",
       "3            52   27      F       Ethiopia   2:25:40        8740            4   \n",
       "4            61   35      F  United States   2:27:00        8820            5   \n",
       "...         ...  ...    ...            ...       ...         ...          ...   \n",
       "11976     26640   44      F  United States   6:21:19       22879        11977   \n",
       "11977     26641   50      F  United States   6:22:27       22947        11978   \n",
       "11978     26648   32      F  United States   6:35:50       23750        11979   \n",
       "11979     26650   55      F  United States   6:53:38       24818        11980   \n",
       "11980     26652   46      F  United States   6:59:57       25197        11981   \n",
       "\n",
       "      Country_code Agegroup  \n",
       "0              ETH    25-29  \n",
       "1              KEN    35-39  \n",
       "2              USA    25-29  \n",
       "3              ETH    25-29  \n",
       "4              USA    30-34  \n",
       "...            ...      ...  \n",
       "11976          USA    40-44  \n",
       "11977          USA    45-49  \n",
       "11978          USA    30-34  \n",
       "11979          USA    50-54  \n",
       "11980          USA    45-49  \n",
       "\n",
       "[11981 rows x 9 columns]"
      ]
     },
     "execution_count": 19,
     "metadata": {},
     "output_type": "execute_result"
    }
   ],
   "source": [
    "dfw"
   ]
  },
  {
   "cell_type": "code",
   "execution_count": 20,
   "id": "21309bf1",
   "metadata": {},
   "outputs": [],
   "source": [
    "dfw1=dfw['Result_sec'].groupby(df['Country']).mean()\n",
    "dfw1=pd.DataFrame(data=dfw1)\n",
    "dfw1.reset_index(inplace=True)\n",
    "dfw1.rename(columns={'Country':'Country','Result_sec':'Avg_sec'},inplace=True)\n"
   ]
  },
  {
   "cell_type": "code",
   "execution_count": 21,
   "id": "4f24343b",
   "metadata": {},
   "outputs": [
    {
     "data": {
      "text/html": [
       "<div>\n",
       "<style scoped>\n",
       "    .dataframe tbody tr th:only-of-type {\n",
       "        vertical-align: middle;\n",
       "    }\n",
       "\n",
       "    .dataframe tbody tr th {\n",
       "        vertical-align: top;\n",
       "    }\n",
       "\n",
       "    .dataframe thead th {\n",
       "        text-align: right;\n",
       "    }\n",
       "</style>\n",
       "<table border=\"1\" class=\"dataframe\">\n",
       "  <thead>\n",
       "    <tr style=\"text-align: right;\">\n",
       "      <th></th>\n",
       "      <th>Country</th>\n",
       "      <th>Avg_sec</th>\n",
       "    </tr>\n",
       "  </thead>\n",
       "  <tbody>\n",
       "    <tr>\n",
       "      <th>26</th>\n",
       "      <td>Eritrea</td>\n",
       "      <td>9334.000000</td>\n",
       "    </tr>\n",
       "    <tr>\n",
       "      <th>48</th>\n",
       "      <td>Kenya</td>\n",
       "      <td>9987.235294</td>\n",
       "    </tr>\n",
       "    <tr>\n",
       "      <th>46</th>\n",
       "      <td>Jordan</td>\n",
       "      <td>10014.000000</td>\n",
       "    </tr>\n",
       "    <tr>\n",
       "      <th>28</th>\n",
       "      <td>Ethiopia</td>\n",
       "      <td>10765.142857</td>\n",
       "    </tr>\n",
       "    <tr>\n",
       "      <th>62</th>\n",
       "      <td>Palestine</td>\n",
       "      <td>11371.000000</td>\n",
       "    </tr>\n",
       "    <tr>\n",
       "      <th>82</th>\n",
       "      <td>Turkey</td>\n",
       "      <td>12336.500000</td>\n",
       "    </tr>\n",
       "    <tr>\n",
       "      <th>47</th>\n",
       "      <td>Kazakhstan</td>\n",
       "      <td>12698.000000</td>\n",
       "    </tr>\n",
       "    <tr>\n",
       "      <th>24</th>\n",
       "      <td>Egypt</td>\n",
       "      <td>12922.500000</td>\n",
       "    </tr>\n",
       "    <tr>\n",
       "      <th>43</th>\n",
       "      <td>Israel</td>\n",
       "      <td>12942.500000</td>\n",
       "    </tr>\n",
       "    <tr>\n",
       "      <th>35</th>\n",
       "      <td>Guyana</td>\n",
       "      <td>12998.000000</td>\n",
       "    </tr>\n",
       "  </tbody>\n",
       "</table>\n",
       "</div>"
      ],
      "text/plain": [
       "       Country       Avg_sec\n",
       "26     Eritrea   9334.000000\n",
       "48       Kenya   9987.235294\n",
       "46      Jordan  10014.000000\n",
       "28    Ethiopia  10765.142857\n",
       "62   Palestine  11371.000000\n",
       "82      Turkey  12336.500000\n",
       "47  Kazakhstan  12698.000000\n",
       "24       Egypt  12922.500000\n",
       "43      Israel  12942.500000\n",
       "35      Guyana  12998.000000"
      ]
     },
     "execution_count": 21,
     "metadata": {},
     "output_type": "execute_result"
    }
   ],
   "source": [
    "dfw1=dfw1.sort_values (by=['Avg_sec'],ascending=True).head(10)\n",
    "dfw1"
   ]
  },
  {
   "cell_type": "code",
   "execution_count": 22,
   "id": "e08df8fb",
   "metadata": {},
   "outputs": [
    {
     "data": {
      "image/png": "[encoded data removed]",
      "text/plain": [
       "<Figure size 1440x720 with 1 Axes>"
      ]
     },
     "metadata": {
      "needs_background": "light"
     },
     "output_type": "display_data"
    }
   ],
   "source": [
    "plt.figure(figsize=(20,10))\n",
    "sns.barplot(data=dfw1, x='Country', y='Avg_sec')\n",
    "plt.show()"
   ]
  },
  {
   "cell_type": "code",
   "execution_count": 23,
   "id": "2ffed484",
   "metadata": {},
   "outputs": [],
   "source": [
    "# dfw_18_24=df[(df['Agegroup']=='18-24') & (df['Gender']=='F')]\n",
    "# dfw_18_24['Agegrouprank'] = dfw_18_24['Result_sec'].rank(method='min')\n",
    "# dfw_18_24.head()\n",
    "\n"
   ]
  },
  {
   "cell_type": "markdown",
   "id": "a5b4ba12",
   "metadata": {},
   "source": [
    "#### Finishing time by Age Group for Male and Female runners\n",
    "+ Finishing times get slower with age for both Male and Female runners"
   ]
  },
  {
   "cell_type": "code",
   "execution_count": 24,
   "id": "50f17776",
   "metadata": {},
   "outputs": [
    {
     "data": {
      "text/plain": [
       "<AxesSubplot:xlabel='Agegroup', ylabel='Result_sec'>"
      ]
     },
     "execution_count": 24,
     "metadata": {},
     "output_type": "execute_result"
    },
    {
     "data": {
      "image/png": "[encoded data removed]",
      "text/plain": [
       "<Figure size 432x288 with 1 Axes>"
      ]
     },
     "metadata": {
      "needs_background": "light"
     },
     "output_type": "display_data"
    }
   ],
   "source": [
    "sns.barplot(data=df,x='Agegroup',y='Result_sec',hue='Gender')"
   ]
  },
  {
   "cell_type": "markdown",
   "id": "78eaf7a5",
   "metadata": {},
   "source": [
    "#### Total Female finishers by age group  \n",
    "+ Age group 35-39 and 40-44 has most finishers"
   ]
  },
  {
   "cell_type": "code",
   "execution_count": 25,
   "id": "ba70ba3e",
   "metadata": {},
   "outputs": [
    {
     "data": {
      "text/html": [
       "<div>\n",
       "<style scoped>\n",
       "    .dataframe tbody tr th:only-of-type {\n",
       "        vertical-align: middle;\n",
       "    }\n",
       "\n",
       "    .dataframe tbody tr th {\n",
       "        vertical-align: top;\n",
       "    }\n",
       "\n",
       "    .dataframe thead th {\n",
       "        text-align: right;\n",
       "    }\n",
       "</style>\n",
       "<table border=\"1\" class=\"dataframe\">\n",
       "  <thead>\n",
       "    <tr style=\"text-align: right;\">\n",
       "      <th></th>\n",
       "      <th>Agegroup</th>\n",
       "      <th>Finishers</th>\n",
       "    </tr>\n",
       "  </thead>\n",
       "  <tbody>\n",
       "    <tr>\n",
       "      <th>0</th>\n",
       "      <td>18-24</td>\n",
       "      <td>943</td>\n",
       "    </tr>\n",
       "    <tr>\n",
       "      <th>1</th>\n",
       "      <td>25-29</td>\n",
       "      <td>1725</td>\n",
       "    </tr>\n",
       "    <tr>\n",
       "      <th>2</th>\n",
       "      <td>30-34</td>\n",
       "      <td>1561</td>\n",
       "    </tr>\n",
       "    <tr>\n",
       "      <th>3</th>\n",
       "      <td>35-39</td>\n",
       "      <td>1876</td>\n",
       "    </tr>\n",
       "    <tr>\n",
       "      <th>4</th>\n",
       "      <td>40-44</td>\n",
       "      <td>1869</td>\n",
       "    </tr>\n",
       "    <tr>\n",
       "      <th>5</th>\n",
       "      <td>45-49</td>\n",
       "      <td>1688</td>\n",
       "    </tr>\n",
       "    <tr>\n",
       "      <th>6</th>\n",
       "      <td>50-54</td>\n",
       "      <td>1121</td>\n",
       "    </tr>\n",
       "    <tr>\n",
       "      <th>7</th>\n",
       "      <td>55-59</td>\n",
       "      <td>708</td>\n",
       "    </tr>\n",
       "    <tr>\n",
       "      <th>8</th>\n",
       "      <td>60-69</td>\n",
       "      <td>445</td>\n",
       "    </tr>\n",
       "    <tr>\n",
       "      <th>9</th>\n",
       "      <td>70-80</td>\n",
       "      <td>30</td>\n",
       "    </tr>\n",
       "  </tbody>\n",
       "</table>\n",
       "</div>"
      ],
      "text/plain": [
       "  Agegroup  Finishers\n",
       "0    18-24        943\n",
       "1    25-29       1725\n",
       "2    30-34       1561\n",
       "3    35-39       1876\n",
       "4    40-44       1869\n",
       "5    45-49       1688\n",
       "6    50-54       1121\n",
       "7    55-59        708\n",
       "8    60-69        445\n",
       "9    70-80         30"
      ]
     },
     "execution_count": 25,
     "metadata": {},
     "output_type": "execute_result"
    },
    {
     "data": {
      "image/png": "[encoded data removed]",
      "text/plain": [
       "<Figure size 432x288 with 1 Axes>"
      ]
     },
     "metadata": {
      "needs_background": "light"
     },
     "output_type": "display_data"
    }
   ],
   "source": [
    "dfw_agegrp_s=dfw['Rank_Tot'].groupby(dfw['Agegroup']).count()\n",
    "dfw_agegrp=dfw_agegrp_s.to_frame()\n",
    "dfw_agegrp.reset_index(inplace=True)\n",
    "col={'Agegroup':'Agegroup', 'Rank_Tot':'Count'}\n",
    "dfw_agegrp.rename(columns={'Agegroup':'Agegroup', 'Rank_Tot':'Finishers'},inplace=True)\n",
    "# # sns.barplot(data=dfwx,y=dfwx.index,x=dfwx.values)\n",
    "sns.barplot(data=dfw_agegrp,y=dfw_agegrp['Finishers'],x=dfw_agegrp['Agegroup'])\n",
    "plt.xlabel('Age Group')\n",
    "plt.ylabel('Finishers')\n",
    "dfw_agegrp"
   ]
  },
  {
   "cell_type": "code",
   "execution_count": 26,
   "id": "b2c98110",
   "metadata": {},
   "outputs": [
    {
     "data": {
      "image/png": "[encoded data removed]",
      "text/plain": [
       "<Figure size 864x864 with 1 Axes>"
      ]
     },
     "metadata": {},
     "output_type": "display_data"
    }
   ],
   "source": [
    "%matplotlib inline\n",
    "plt.figure(figsize=(12,12))\n",
    "dfw_agegrp_s.rename('Finishers',inplace=True)\n",
    "dfw_agegrp_s.plot.pie(y=dfw_agegrp_s.index,autopct='%1.1f%%', shadow=True, startangle=90)\n",
    "# dfw_agegrp.plot.pie(x='Agegroup', y='Finishers',autopct='%1.1f%%', shadow=True, startangle=90)\n",
    "plt.show()\n"
   ]
  },
  {
   "cell_type": "markdown",
   "id": "64040ccc",
   "metadata": {},
   "source": [
    "#### Total Male finishers by age group\n",
    "+ Age group 45-49 has the most finishers"
   ]
  },
  {
   "cell_type": "code",
   "execution_count": 27,
   "id": "e17d961d",
   "metadata": {},
   "outputs": [
    {
     "data": {
      "text/plain": [
       "Text(0, 0.5, 'Finishers')"
      ]
     },
     "execution_count": 27,
     "metadata": {},
     "output_type": "execute_result"
    },
    {
     "data": {
      "image/png": "[encoded data removed]",
      "text/plain": [
       "<Figure size 432x288 with 1 Axes>"
      ]
     },
     "metadata": {
      "needs_background": "light"
     },
     "output_type": "display_data"
    }
   ],
   "source": [
    "dfm_agegrp_s=dfm['Rank_Tot'].groupby(dfm['Agegroup']).count()\n",
    "dfm_agegrp=dfm_agegrp_s.to_frame()\n",
    "dfm_agegrp.reset_index(inplace=True)\n",
    "col={'Agegroup':'Agegroup', 'Rank_Tot':'Count'}\n",
    "dfm_agegrp.rename(columns={'Agegroup':'Agegroup', 'Rank_Tot':'Finishers'},inplace=True)\n",
    "# # sns.barplot(data=dfwx,y=dfwx.index,x=dfwx.values)\n",
    "sns.barplot(data=dfm_agegrp,x=dfm_agegrp['Agegroup'], y=dfm_agegrp['Finishers'])\n",
    "plt.xlabel('Age Group')\n",
    "plt.ylabel('Finishers')"
   ]
  },
  {
   "cell_type": "code",
   "execution_count": 28,
   "id": "04bfbdee",
   "metadata": {},
   "outputs": [
    {
     "data": {
      "image/png": "[encoded data removed]",
      "text/plain": [
       "<Figure size 864x864 with 1 Axes>"
      ]
     },
     "metadata": {},
     "output_type": "display_data"
    }
   ],
   "source": [
    "%matplotlib inline\n",
    "plt.figure(figsize=(12,12))\n",
    "dfm_agegrp_s.rename('Finishers',inplace=True)\n",
    "dfm_agegrp_s.plot.pie(y=dfm_agegrp_s.index,autopct='%1.1f%%', shadow=True, startangle=90)\n",
    "plt.show()"
   ]
  },
  {
   "cell_type": "code",
   "execution_count": 29,
   "id": "ec5b330b",
   "metadata": {},
   "outputs": [
    {
     "data": {
      "text/plain": [
       "Agegroup\n",
       "18-24     9662\n",
       "25-29     8611\n",
       "30-34     8820\n",
       "35-39     8653\n",
       "40-44     9116\n",
       "45-49     9484\n",
       "50-54    10871\n",
       "55-59    11491\n",
       "60-69    11040\n",
       "70-80    14635\n",
       "Name: Result_sec, dtype: int64"
      ]
     },
     "execution_count": 29,
     "metadata": {},
     "output_type": "execute_result"
    }
   ],
   "source": [
    "dfw_age_fast=dfw['Result_sec'].groupby(dfw['Agegroup']).min()\n",
    "dfw_age_fast"
   ]
  },
  {
   "cell_type": "code",
   "execution_count": 30,
   "id": "98d4fd51",
   "metadata": {},
   "outputs": [
    {
     "data": {
      "text/plain": [
       "Agegroup\n",
       "18-24     9662\n",
       "25-29     8611\n",
       "30-34     8820\n",
       "35-39     8653\n",
       "40-44     9116\n",
       "45-49     9484\n",
       "50-54    10871\n",
       "55-59    11491\n",
       "60-69    11040\n",
       "70-80    14635\n",
       "Name: Time, dtype: int64"
      ]
     },
     "execution_count": 30,
     "metadata": {},
     "output_type": "execute_result"
    }
   ],
   "source": [
    "dfw_age_fast.rename('Time',inplace=True)\n"
   ]
  },
  {
   "cell_type": "code",
   "execution_count": 31,
   "id": "4814197d",
   "metadata": {},
   "outputs": [
    {
     "data": {
      "image/png": "[encoded data removed]",
      "text/plain": [
       "<Figure size 432x288 with 1 Axes>"
      ]
     },
     "metadata": {
      "needs_background": "light"
     },
     "output_type": "display_data"
    }
   ],
   "source": [
    "sns.barplot(x=dfw_age_fast.index,y=dfw_age_fast.values)\n",
    "plt.title('Fastest finish times by Female')\n",
    "plt.ylabel('Fastest Finish Time')\n",
    "plt.show()"
   ]
  },
  {
   "cell_type": "code",
   "execution_count": null,
   "id": "36c1d8a7",
   "metadata": {},
   "outputs": [],
   "source": []
  },
  {
   "cell_type": "code",
   "execution_count": 32,
   "id": "02088bf3",
   "metadata": {},
   "outputs": [
    {
     "data": {
      "text/plain": [
       "Agegroup\n",
       "18-24     7765\n",
       "25-29     7677\n",
       "30-34     7687\n",
       "35-39     8179\n",
       "40-44     8336\n",
       "45-49     8922\n",
       "50-54     9131\n",
       "55-59    10349\n",
       "60-69    10560\n",
       "70-80    10730\n",
       "Name: Result_sec, dtype: int64"
      ]
     },
     "execution_count": 32,
     "metadata": {},
     "output_type": "execute_result"
    }
   ],
   "source": [
    "dfm_age_fast=dfm['Result_sec'].groupby(dfm['Agegroup']).min()\n",
    "dfm_age_fast"
   ]
  },
  {
   "cell_type": "code",
   "execution_count": 33,
   "id": "1f7396e2",
   "metadata": {},
   "outputs": [
    {
     "data": {
      "text/plain": [
       "Agegroup\n",
       "18-24     7765\n",
       "25-29     7677\n",
       "30-34     7687\n",
       "35-39     8179\n",
       "40-44     8336\n",
       "45-49     8922\n",
       "50-54     9131\n",
       "55-59    10349\n",
       "60-69    10560\n",
       "70-80    10730\n",
       "Name: Time, dtype: int64"
      ]
     },
     "execution_count": 33,
     "metadata": {},
     "output_type": "execute_result"
    }
   ],
   "source": [
    "dfm_age_fast.rename('Time',inplace=True)\n"
   ]
  },
  {
   "cell_type": "code",
   "execution_count": 34,
   "id": "9be01500",
   "metadata": {},
   "outputs": [
    {
     "data": {
      "image/png": "[encoded data removed]",
      "text/plain": [
       "<Figure size 432x288 with 1 Axes>"
      ]
     },
     "metadata": {
      "needs_background": "light"
     },
     "output_type": "display_data"
    }
   ],
   "source": [
    "sns.barplot(x=dfm_age_fast.index,y=dfm_age_fast.values)\n",
    "plt.title('Fastest finish times by Male')\n",
    "plt.ylabel('Fastest Finish Time')\n",
    "plt.show()"
   ]
  },
  {
   "cell_type": "code",
   "execution_count": 35,
   "id": "912cb284",
   "metadata": {},
   "outputs": [
    {
     "data": {
      "image/png": "[encoded data removed]",
      "text/plain": [
       "<Figure size 432x288 with 1 Axes>"
      ]
     },
     "metadata": {
      "needs_background": "light"
     },
     "output_type": "display_data"
    }
   ],
   "source": [
    "# sns.histplot(data=df,x='Result_hr',bins=4)\n",
    "sns.histplot(df['Result_sec'], kde=False, color='red', bins=6)\n",
    "plt.title('Frequency of Finish times')\n",
    "plt.show()\n"
   ]
  },
  {
   "cell_type": "code",
   "execution_count": null,
   "id": "08f71753",
   "metadata": {},
   "outputs": [],
   "source": []
  }
 ],
 "metadata": {
  "kernelspec": {
   "display_name": "Python 3 (ipykernel)",
   "language": "python",
   "name": "python3"
  },
  "language_info": {
   "codemirror_mode": {
    "name": "ipython",
    "version": 3
   },
   "file_extension": ".py",
   "mimetype": "text/x-python",
   "name": "python",
   "nbconvert_exporter": "python",
   "pygments_lexer": "ipython3",
   "version": "3.8.8"
  }
 },
 "nbformat": 4,
 "nbformat_minor": 5
}
